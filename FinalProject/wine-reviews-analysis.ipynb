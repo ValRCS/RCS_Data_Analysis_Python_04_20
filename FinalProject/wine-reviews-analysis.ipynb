{
 "cells": [
  {
   "cell_type": "markdown",
   "metadata": {},
   "source": [
    "# Wine reviews analysis\n",
    "\n",
    "## Table of contents <a class=\"anchor\" id=\"toc\">\n",
    "* [1. Overview of dataset](#dataset-overview)\n",
    "    * [1.1 Variables overview](#variables-overview)\n",
    "* [2. Goal of analysis](#goal-of-analysis)\n",
    "* [3. Data insights and cleaning](#data-insights-and-cleaning)\n",
    "    * [3.1 First insights](#first-insights)\n",
    "    * [3.2 Imputation and cleaning](#imputation-and-cleaning)\n",
    "* [4. Additional features](#additional-features)\n",
    "    * [4.1 Reviewer's count of followers on Twitter](#twitter-followers)\n",
    "    * [4.2 Analysis of keywords in descriptions](#description-keywords)\n",
    "* [5. Dummies for categorical variables](#dummies-for-categorical)\n",
    "* [6. Predictions](#predictions)\n",
    "    * [6.1 Points](#points)\n",
    "    * [6.2 Price](#price)\n",
    "* [7. Conclusions and further actions](#conclusions)"
   ]
  },
  {
   "cell_type": "markdown",
   "metadata": {},
   "source": [
    "## 1. Overview of dataset <a class=\"anchor\" id=\"dataset-overview\">\n",
    "[Back to Table of Contents](#toc)\n",
    "\n",
    "Dataset used is taken from [Kaggle](https://www.kaggle.com/zynicide/wine-reviews): *winemag-data-130k-v2.csv*. As pointed by author, it is scraped from [Wine Enthusiast](https://www.winemag.com/) website and contains wine decriptions by tasters, prices and scores granted by experts.\n",
    "\n",
    "Description of reviewing and scoring methodology (provided on website of every wine, for example [here](https://www.winemag.com/buying-guide/nicosia-2013-vulka-bianco-white-etna/)):\n",
    "\n",
    "<font color='grey'><i>\n",
    "**Tasting Methodology and Goals**\n",
    "All tastings reported in the Buying Guide are performed blind. Typically, products are tasted in peer-group flights of from 5–8 samples. Reviewers may know general information about a flight to provide context—vintage, variety or appellation—but never the producer or retail price of any given selection. When possible, products considered flawed or uncustomary are retasted.\n",
    "\n",
    "**About the Scores**\n",
    "Ratings reflect what our editors felt about a particular product. Beyond the rating, we encourage you to read the accompanying tasting note to learn about a product’s special characteristics.\n",
    "\n",
    "|Score|Value|Description|\n",
    "|-----|-----------|-----------|\n",
    "|98–100|Classic|The pinnacle of quality.|\n",
    "|94–97|Superb|A great achievement.|\n",
    "|90–93|Excellent|Highly recommended.|\n",
    "|87–89|Very Good|Often good value; well recommended.|\n",
    "|83–86|Good|Suitable for everyday consumption; often good value.|\n",
    "|80–82|Acceptable|Can be employed in casual, less-critical circumstances.|\n",
    "\n",
    "Products deemed Unacceptable (receiving a rating below 80 points) are not reviewed.\n",
    "</i></font>\n",
    "\n",
    "### 1.1 Variables overview <a class=\"anchor\" id=\"variables-overview\">\n",
    "[Back to Table of Contents](#toc)\n",
    "    \n",
    "*From [Kaggle](https://www.kaggle.com/zynicide/wine-reviews)*\n",
    "\n",
    "|Variable|Description|\n",
    "|-----|-----------|\n",
    "|country|The country that the wine is from|\n",
    "|description||\n",
    "|designation|The vineyard within the winery where the grapes that made the wine are from|\n",
    "|points|The number of points WineEnthusiast rated the wine on a scale of 1-100|\n",
    "|price|The cost for a bottle of the wine|\n",
    "|province|The province or state that the wine is from|\n",
    "|region_1|The wine growing area in a province or state|\n",
    "|region_2|Sometimes there are more specific regions specified within a wine growing area|\n",
    "|taster_name||\n",
    "|taster_twitter_handle||\n",
    "|title|The title of the wine review, which often contains the vintage if you're interested in extracting that feature\n",
    "|variety|The type of grapes used to make the wine|\n",
    "|winery|The winery that made the wine|"
   ]
  },
  {
   "cell_type": "markdown",
   "metadata": {},
   "source": [
    "## 2. Goal of analysis<a class=\"anchor\" id=\"goal-of-analysis\">\n",
    "[Back to Table of Contents](#toc)\n",
    "\n",
    "Using data provided (including description), try to predict wine price and wine score."
   ]
  },
  {
   "cell_type": "markdown",
   "metadata": {},
   "source": [
    "## 3. Data insights and cleaning<a class=\"anchor\" id=\"data-insights-and-cleaning\">"
   ]
  },
  {
   "cell_type": "markdown",
   "metadata": {},
   "source": [
    "### 3.1 First insights<a class=\"anchor\" id=\"first-insights\">\n",
    "[Back to Table of Contents](#toc)"
   ]
  },
  {
   "cell_type": "code",
   "execution_count": 1,
   "metadata": {},
   "outputs": [],
   "source": [
    "# Import packages\n",
    "import numpy as np\n",
    "import pandas as pd\n",
    "import matplotlib.pyplot as plt\n",
    "import seaborn as sb\n",
    "from IPython.display import Markdown as md\n",
    "from bs4 import BeautifulSoup\n",
    "import unicodedata\n",
    "import json\n",
    "%matplotlib inline"
   ]
  },
  {
   "cell_type": "code",
   "execution_count": 2,
   "metadata": {},
   "outputs": [
    {
     "data": {
      "text/html": [
       "<div>\n",
       "<style scoped>\n",
       "    .dataframe tbody tr th:only-of-type {\n",
       "        vertical-align: middle;\n",
       "    }\n",
       "\n",
       "    .dataframe tbody tr th {\n",
       "        vertical-align: top;\n",
       "    }\n",
       "\n",
       "    .dataframe thead th {\n",
       "        text-align: right;\n",
       "    }\n",
       "</style>\n",
       "<table border=\"1\" class=\"dataframe\">\n",
       "  <thead>\n",
       "    <tr style=\"text-align: right;\">\n",
       "      <th></th>\n",
       "      <th>country</th>\n",
       "      <th>description</th>\n",
       "      <th>designation</th>\n",
       "      <th>points</th>\n",
       "      <th>price</th>\n",
       "      <th>province</th>\n",
       "      <th>region_1</th>\n",
       "      <th>region_2</th>\n",
       "      <th>taster_name</th>\n",
       "      <th>taster_twitter_handle</th>\n",
       "      <th>title</th>\n",
       "      <th>variety</th>\n",
       "      <th>winery</th>\n",
       "    </tr>\n",
       "  </thead>\n",
       "  <tbody>\n",
       "    <tr>\n",
       "      <td>0</td>\n",
       "      <td>Italy</td>\n",
       "      <td>Aromas include tropical fruit, broom, brimston...</td>\n",
       "      <td>Vulkà Bianco</td>\n",
       "      <td>87</td>\n",
       "      <td>NaN</td>\n",
       "      <td>Sicily &amp; Sardinia</td>\n",
       "      <td>Etna</td>\n",
       "      <td>NaN</td>\n",
       "      <td>Kerin O’Keefe</td>\n",
       "      <td>@kerinokeefe</td>\n",
       "      <td>Nicosia 2013 Vulkà Bianco  (Etna)</td>\n",
       "      <td>White Blend</td>\n",
       "      <td>Nicosia</td>\n",
       "    </tr>\n",
       "    <tr>\n",
       "      <td>1</td>\n",
       "      <td>Portugal</td>\n",
       "      <td>This is ripe and fruity, a wine that is smooth...</td>\n",
       "      <td>Avidagos</td>\n",
       "      <td>87</td>\n",
       "      <td>15.0</td>\n",
       "      <td>Douro</td>\n",
       "      <td>NaN</td>\n",
       "      <td>NaN</td>\n",
       "      <td>Roger Voss</td>\n",
       "      <td>@vossroger</td>\n",
       "      <td>Quinta dos Avidagos 2011 Avidagos Red (Douro)</td>\n",
       "      <td>Portuguese Red</td>\n",
       "      <td>Quinta dos Avidagos</td>\n",
       "    </tr>\n",
       "    <tr>\n",
       "      <td>2</td>\n",
       "      <td>US</td>\n",
       "      <td>Tart and snappy, the flavors of lime flesh and...</td>\n",
       "      <td>NaN</td>\n",
       "      <td>87</td>\n",
       "      <td>14.0</td>\n",
       "      <td>Oregon</td>\n",
       "      <td>Willamette Valley</td>\n",
       "      <td>Willamette Valley</td>\n",
       "      <td>Paul Gregutt</td>\n",
       "      <td>@paulgwine</td>\n",
       "      <td>Rainstorm 2013 Pinot Gris (Willamette Valley)</td>\n",
       "      <td>Pinot Gris</td>\n",
       "      <td>Rainstorm</td>\n",
       "    </tr>\n",
       "  </tbody>\n",
       "</table>\n",
       "</div>"
      ],
      "text/plain": [
       "    country                                        description   designation  \\\n",
       "0     Italy  Aromas include tropical fruit, broom, brimston...  Vulkà Bianco   \n",
       "1  Portugal  This is ripe and fruity, a wine that is smooth...      Avidagos   \n",
       "2        US  Tart and snappy, the flavors of lime flesh and...           NaN   \n",
       "\n",
       "   points  price           province           region_1           region_2  \\\n",
       "0      87    NaN  Sicily & Sardinia               Etna                NaN   \n",
       "1      87   15.0              Douro                NaN                NaN   \n",
       "2      87   14.0             Oregon  Willamette Valley  Willamette Valley   \n",
       "\n",
       "     taster_name taster_twitter_handle  \\\n",
       "0  Kerin O’Keefe          @kerinokeefe   \n",
       "1     Roger Voss            @vossroger   \n",
       "2   Paul Gregutt           @paulgwine    \n",
       "\n",
       "                                           title         variety  \\\n",
       "0              Nicosia 2013 Vulkà Bianco  (Etna)     White Blend   \n",
       "1  Quinta dos Avidagos 2011 Avidagos Red (Douro)  Portuguese Red   \n",
       "2  Rainstorm 2013 Pinot Gris (Willamette Valley)      Pinot Gris   \n",
       "\n",
       "                winery  \n",
       "0              Nicosia  \n",
       "1  Quinta dos Avidagos  \n",
       "2            Rainstorm  "
      ]
     },
     "execution_count": 2,
     "metadata": {},
     "output_type": "execute_result"
    }
   ],
   "source": [
    "# Import data\n",
    "wine_data = pd.read_csv('winemag-data-130k-v2.csv', index_col = 0)\n",
    "wine_data.head(3)"
   ]
  },
  {
   "cell_type": "code",
   "execution_count": 3,
   "metadata": {},
   "outputs": [],
   "source": [
    "# Get insights of data shape\n",
    "# wine_data.describe(include='all')"
   ]
  },
  {
   "cell_type": "code",
   "execution_count": 4,
   "metadata": {},
   "outputs": [],
   "source": [
    "# Function for summary on DF\n",
    "def dataSummary(data):\n",
    "    eda_dict = {\n",
    "            'record_count': data.count() + data.isnull().sum()\n",
    "            , 'column_type': data.dtypes\n",
    "            , 'unique_count': data.nunique()\n",
    "            , 'nonmissing_count': data.count()\n",
    "            , 'missing_count': data.isnull().sum()\n",
    "            , 'missing_perc': round(data.isnull().sum() / (data.count() + data.isnull().sum()) * 100, 2)\n",
    "            }\n",
    "    eda_data = pd.concat(eda_dict, axis = 1)\n",
    "    return eda_data"
   ]
  },
  {
   "cell_type": "code",
   "execution_count": 5,
   "metadata": {},
   "outputs": [
    {
     "data": {
      "text/html": [
       "<div>\n",
       "<style scoped>\n",
       "    .dataframe tbody tr th:only-of-type {\n",
       "        vertical-align: middle;\n",
       "    }\n",
       "\n",
       "    .dataframe tbody tr th {\n",
       "        vertical-align: top;\n",
       "    }\n",
       "\n",
       "    .dataframe thead th {\n",
       "        text-align: right;\n",
       "    }\n",
       "</style>\n",
       "<table border=\"1\" class=\"dataframe\">\n",
       "  <thead>\n",
       "    <tr style=\"text-align: right;\">\n",
       "      <th></th>\n",
       "      <th>record_count</th>\n",
       "      <th>column_type</th>\n",
       "      <th>unique_count</th>\n",
       "      <th>nonmissing_count</th>\n",
       "      <th>missing_count</th>\n",
       "      <th>missing_perc</th>\n",
       "    </tr>\n",
       "  </thead>\n",
       "  <tbody>\n",
       "    <tr>\n",
       "      <td>country</td>\n",
       "      <td>129971</td>\n",
       "      <td>object</td>\n",
       "      <td>43</td>\n",
       "      <td>129908</td>\n",
       "      <td>63</td>\n",
       "      <td>0.05</td>\n",
       "    </tr>\n",
       "    <tr>\n",
       "      <td>description</td>\n",
       "      <td>129971</td>\n",
       "      <td>object</td>\n",
       "      <td>119955</td>\n",
       "      <td>129971</td>\n",
       "      <td>0</td>\n",
       "      <td>0.00</td>\n",
       "    </tr>\n",
       "    <tr>\n",
       "      <td>designation</td>\n",
       "      <td>129971</td>\n",
       "      <td>object</td>\n",
       "      <td>37979</td>\n",
       "      <td>92506</td>\n",
       "      <td>37465</td>\n",
       "      <td>28.83</td>\n",
       "    </tr>\n",
       "    <tr>\n",
       "      <td>points</td>\n",
       "      <td>129971</td>\n",
       "      <td>int64</td>\n",
       "      <td>21</td>\n",
       "      <td>129971</td>\n",
       "      <td>0</td>\n",
       "      <td>0.00</td>\n",
       "    </tr>\n",
       "    <tr>\n",
       "      <td>price</td>\n",
       "      <td>129971</td>\n",
       "      <td>float64</td>\n",
       "      <td>390</td>\n",
       "      <td>120975</td>\n",
       "      <td>8996</td>\n",
       "      <td>6.92</td>\n",
       "    </tr>\n",
       "    <tr>\n",
       "      <td>province</td>\n",
       "      <td>129971</td>\n",
       "      <td>object</td>\n",
       "      <td>425</td>\n",
       "      <td>129908</td>\n",
       "      <td>63</td>\n",
       "      <td>0.05</td>\n",
       "    </tr>\n",
       "    <tr>\n",
       "      <td>region_1</td>\n",
       "      <td>129971</td>\n",
       "      <td>object</td>\n",
       "      <td>1229</td>\n",
       "      <td>108724</td>\n",
       "      <td>21247</td>\n",
       "      <td>16.35</td>\n",
       "    </tr>\n",
       "    <tr>\n",
       "      <td>region_2</td>\n",
       "      <td>129971</td>\n",
       "      <td>object</td>\n",
       "      <td>17</td>\n",
       "      <td>50511</td>\n",
       "      <td>79460</td>\n",
       "      <td>61.14</td>\n",
       "    </tr>\n",
       "    <tr>\n",
       "      <td>taster_name</td>\n",
       "      <td>129971</td>\n",
       "      <td>object</td>\n",
       "      <td>19</td>\n",
       "      <td>103727</td>\n",
       "      <td>26244</td>\n",
       "      <td>20.19</td>\n",
       "    </tr>\n",
       "    <tr>\n",
       "      <td>taster_twitter_handle</td>\n",
       "      <td>129971</td>\n",
       "      <td>object</td>\n",
       "      <td>15</td>\n",
       "      <td>98758</td>\n",
       "      <td>31213</td>\n",
       "      <td>24.02</td>\n",
       "    </tr>\n",
       "    <tr>\n",
       "      <td>title</td>\n",
       "      <td>129971</td>\n",
       "      <td>object</td>\n",
       "      <td>118840</td>\n",
       "      <td>129971</td>\n",
       "      <td>0</td>\n",
       "      <td>0.00</td>\n",
       "    </tr>\n",
       "    <tr>\n",
       "      <td>variety</td>\n",
       "      <td>129971</td>\n",
       "      <td>object</td>\n",
       "      <td>707</td>\n",
       "      <td>129970</td>\n",
       "      <td>1</td>\n",
       "      <td>0.00</td>\n",
       "    </tr>\n",
       "    <tr>\n",
       "      <td>winery</td>\n",
       "      <td>129971</td>\n",
       "      <td>object</td>\n",
       "      <td>16757</td>\n",
       "      <td>129971</td>\n",
       "      <td>0</td>\n",
       "      <td>0.00</td>\n",
       "    </tr>\n",
       "  </tbody>\n",
       "</table>\n",
       "</div>"
      ],
      "text/plain": [
       "                       record_count column_type  unique_count  \\\n",
       "country                      129971      object            43   \n",
       "description                  129971      object        119955   \n",
       "designation                  129971      object         37979   \n",
       "points                       129971       int64            21   \n",
       "price                        129971     float64           390   \n",
       "province                     129971      object           425   \n",
       "region_1                     129971      object          1229   \n",
       "region_2                     129971      object            17   \n",
       "taster_name                  129971      object            19   \n",
       "taster_twitter_handle        129971      object            15   \n",
       "title                        129971      object        118840   \n",
       "variety                      129971      object           707   \n",
       "winery                       129971      object         16757   \n",
       "\n",
       "                       nonmissing_count  missing_count  missing_perc  \n",
       "country                          129908             63          0.05  \n",
       "description                      129971              0          0.00  \n",
       "designation                       92506          37465         28.83  \n",
       "points                           129971              0          0.00  \n",
       "price                            120975           8996          6.92  \n",
       "province                         129908             63          0.05  \n",
       "region_1                         108724          21247         16.35  \n",
       "region_2                          50511          79460         61.14  \n",
       "taster_name                      103727          26244         20.19  \n",
       "taster_twitter_handle             98758          31213         24.02  \n",
       "title                            129971              0          0.00  \n",
       "variety                          129970              1          0.00  \n",
       "winery                           129971              0          0.00  "
      ]
     },
     "execution_count": 5,
     "metadata": {},
     "output_type": "execute_result"
    }
   ],
   "source": [
    "# Get insights of data\n",
    "eda_wine_data = dataSummary(wine_data)\n",
    "eda_wine_data"
   ]
  },
  {
   "cell_type": "markdown",
   "metadata": {},
   "source": [
    "Data above points the following:\n",
    "* There are 129971 records in dataset\n",
    "* Only 120975 records contain price - one of our targets\n",
    "* Every record has description, points, title and winery filled; other variables have missings\n",
    "\n",
    "Will take a look on all variables one by one in order to clean, impute missings and possibly get new features"
   ]
  },
  {
   "cell_type": "markdown",
   "metadata": {},
   "source": [
    "## 3.2 Imputation and cleaning<a class=\"anchor\" id=\"imputation-and-cleaning\">\n",
    "[Back to Table of Contents](#toc)"
   ]
  },
  {
   "cell_type": "code",
   "execution_count": 6,
   "metadata": {},
   "outputs": [],
   "source": [
    "# Function for summary on variable\n",
    "def varCountDistStats(data, var_name, n_return = 10):\n",
    "    eda_dict = {\n",
    "            'record_count': data.groupby([var_name])[var_name].count()\n",
    "            , 'record_perc': round(data.groupby([var_name])[var_name].count() / (data[var_name].count()) * 100, 1)\n",
    "            }\n",
    "    eda_data = pd.concat(eda_dict, axis = 1, sort = False)\n",
    "    return eda_data.sort_values('record_count', ascending = False).head(n_return)"
   ]
  },
  {
   "cell_type": "markdown",
   "metadata": {},
   "source": [
    "### 3.2.1 Price"
   ]
  },
  {
   "cell_type": "markdown",
   "metadata": {},
   "source": [
    "As price is one of our target variables, it is important to have it for all records. Above we've seen, that almost 7% of data has no price filled. Lets discover nature of missing records and decide wheteher they could be dropped for further calculations."
   ]
  },
  {
   "cell_type": "markdown",
   "metadata": {},
   "source": [
    "Let's take a look on points histogram depending on price availability. "
   ]
  },
  {
   "cell_type": "code",
   "execution_count": 7,
   "metadata": {},
   "outputs": [],
   "source": [
    "# Make missing price flag\n",
    "wine_data['has_missing_price'] = np.where(wine_data['price'].isna(), 'No price', 'Has price')"
   ]
  },
  {
   "cell_type": "code",
   "execution_count": 8,
   "metadata": {},
   "outputs": [
    {
     "data": {
      "image/png": "[encoded data removed]",
      "text/plain": [
       "<Figure size 720x360 with 1 Axes>"
      ]
     },
     "metadata": {
      "needs_background": "light"
     },
     "output_type": "display_data"
    }
   ],
   "source": [
    "plt.figure(figsize=(10,5))\n",
    "bins = np.linspace(80, 100, 21)\n",
    "plt.hist(wine_data[wine_data['has_missing_price'] == 'Has price']['points'], bins, label='Has price', density = True, alpha = 0.5)\n",
    "plt.hist(wine_data[wine_data['has_missing_price'] == 'No price']['points'], bins, label='No price', density = True, alpha = 0.5)\n",
    "plt.legend(loc = 'upper right')\n",
    "plt.title('Distribution of records by points')\n",
    "plt.show()"
   ]
  },
  {
   "cell_type": "markdown",
   "metadata": {},
   "source": [
    "Distributions of records with and without price are very similar. Letš find if there are differencies by country."
   ]
  },
  {
   "cell_type": "code",
   "execution_count": 9,
   "metadata": {},
   "outputs": [
    {
     "data": {
      "text/html": [
       "<div>\n",
       "<style scoped>\n",
       "    .dataframe tbody tr th:only-of-type {\n",
       "        vertical-align: middle;\n",
       "    }\n",
       "\n",
       "    .dataframe tbody tr th {\n",
       "        vertical-align: top;\n",
       "    }\n",
       "\n",
       "    .dataframe thead th {\n",
       "        text-align: right;\n",
       "    }\n",
       "</style>\n",
       "<table border=\"1\" class=\"dataframe\">\n",
       "  <thead>\n",
       "    <tr style=\"text-align: right;\">\n",
       "      <th></th>\n",
       "      <th>record_count</th>\n",
       "      <th>with_price_percent</th>\n",
       "      <th>no_price_percent</th>\n",
       "    </tr>\n",
       "    <tr>\n",
       "      <th>country</th>\n",
       "      <th></th>\n",
       "      <th></th>\n",
       "      <th></th>\n",
       "    </tr>\n",
       "  </thead>\n",
       "  <tbody>\n",
       "    <tr>\n",
       "      <td>US</td>\n",
       "      <td>54504</td>\n",
       "      <td>0.995615</td>\n",
       "      <td>0.004385</td>\n",
       "    </tr>\n",
       "    <tr>\n",
       "      <td>France</td>\n",
       "      <td>22093</td>\n",
       "      <td>0.804599</td>\n",
       "      <td>0.195401</td>\n",
       "    </tr>\n",
       "    <tr>\n",
       "      <td>Italy</td>\n",
       "      <td>19540</td>\n",
       "      <td>0.865609</td>\n",
       "      <td>0.134391</td>\n",
       "    </tr>\n",
       "    <tr>\n",
       "      <td>Spain</td>\n",
       "      <td>6645</td>\n",
       "      <td>0.989165</td>\n",
       "      <td>0.010835</td>\n",
       "    </tr>\n",
       "    <tr>\n",
       "      <td>Portugal</td>\n",
       "      <td>5691</td>\n",
       "      <td>0.856616</td>\n",
       "      <td>0.143384</td>\n",
       "    </tr>\n",
       "  </tbody>\n",
       "</table>\n",
       "</div>"
      ],
      "text/plain": [
       "          record_count  with_price_percent  no_price_percent\n",
       "country                                                     \n",
       "US               54504            0.995615          0.004385\n",
       "France           22093            0.804599          0.195401\n",
       "Italy            19540            0.865609          0.134391\n",
       "Spain             6645            0.989165          0.010835\n",
       "Portugal          5691            0.856616          0.143384"
      ]
     },
     "execution_count": 9,
     "metadata": {},
     "output_type": "execute_result"
    }
   ],
   "source": [
    "wine_by_country = pd.concat({\n",
    "                            'record_count': wine_data.groupby(['country'])['country'].count()\n",
    "                            , 'with_price_percent': wine_data[wine_data['has_missing_price'] == 'Has price'].groupby(['country'])['country'].count() / wine_data.groupby(['country'])['country'].count()\n",
    "                            , 'no_price_percent': wine_data[wine_data['has_missing_price'] == 'No price'].groupby(['country'])['country'].count() / wine_data.groupby(['country'])['country'].count()\n",
    "                            }\n",
    "                        , axis = 1, sort = False).sort_values('record_count', ascending = False)\n",
    "wine_by_country.fillna(0, inplace = True)\n",
    "wine_by_country.head()"
   ]
  },
  {
   "cell_type": "code",
   "execution_count": 10,
   "metadata": {},
   "outputs": [
    {
     "data": {
      "image/png": "[encoded data removed]",
      "text/plain": [
       "<Figure size 1440x360 with 1 Axes>"
      ]
     },
     "metadata": {
      "needs_background": "light"
     },
     "output_type": "display_data"
    }
   ],
   "source": [
    "plt.figure(figsize=(20,5))\n",
    "plt.bar(wine_by_country.index, wine_by_country['with_price_percent'], label = 'Has price', alpha = 0.5)\n",
    "plt.bar(wine_by_country.index, wine_by_country['no_price_percent'], label = 'No price', alpha = 0.5\n",
    "        , bottom = wine_by_country['with_price_percent'])\n",
    "\n",
    "for i, v in enumerate(wine_by_country['record_count']):\n",
    "    plt.text(i, 0.76, str(v), rotation = 30, ha = 'center')\n",
    "for i, v in enumerate(wine_by_country['no_price_percent']):\n",
    "    plt.text(i, 0.975, str(round(v*100,1))+'%', rotation = 30, ha = 'center')\n",
    "plt.text(-1.5, 0.76, 'records:', rotation = 30, ha = 'center')\n",
    "plt.text(-1.38, 0.965, 'no price %:', rotation = 30, ha = 'center')\n",
    "\n",
    "plt.ylim((0.75, 1))\n",
    "plt.xticks(rotation = 45)\n",
    "plt.legend(loc = 'center right')\n",
    "plt.title('Distribution of records by country (with record count))')\n",
    "plt.show()"
   ]
  },
  {
   "cell_type": "markdown",
   "metadata": {},
   "source": [
    "Data shows, that prices are missing not at random, if divided by country. There are much frequent missings for large represented France, Italy, Portugal and Austria (13-19%) and quite a few for US, Spain, Chile, Argentina, Australia and Germany (2% or less). Reasons for this inconsistency are unknown."
   ]
  },
  {
   "cell_type": "markdown",
   "metadata": {},
   "source": [
    "It is obvious, that dataset does not contain all ever existed wines all over the world, therefore dropping of records with no price should not cause problems as data does not represent whole population. Let's drop records with no price and recalculate data shape."
   ]
  },
  {
   "cell_type": "code",
   "execution_count": 11,
   "metadata": {},
   "outputs": [],
   "source": [
    "wine_data_with_price = wine_data[wine_data['has_missing_price'] == 'Has price']"
   ]
  },
  {
   "cell_type": "code",
   "execution_count": 12,
   "metadata": {},
   "outputs": [
    {
     "data": {
      "text/html": [
       "<div>\n",
       "<style scoped>\n",
       "    .dataframe tbody tr th:only-of-type {\n",
       "        vertical-align: middle;\n",
       "    }\n",
       "\n",
       "    .dataframe tbody tr th {\n",
       "        vertical-align: top;\n",
       "    }\n",
       "\n",
       "    .dataframe thead th {\n",
       "        text-align: right;\n",
       "    }\n",
       "</style>\n",
       "<table border=\"1\" class=\"dataframe\">\n",
       "  <thead>\n",
       "    <tr style=\"text-align: right;\">\n",
       "      <th></th>\n",
       "      <th>record_count</th>\n",
       "      <th>column_type</th>\n",
       "      <th>unique_count</th>\n",
       "      <th>nonmissing_count</th>\n",
       "      <th>missing_count</th>\n",
       "      <th>missing_perc</th>\n",
       "    </tr>\n",
       "  </thead>\n",
       "  <tbody>\n",
       "    <tr>\n",
       "      <td>country</td>\n",
       "      <td>120975</td>\n",
       "      <td>object</td>\n",
       "      <td>42</td>\n",
       "      <td>120916</td>\n",
       "      <td>59</td>\n",
       "      <td>0.05</td>\n",
       "    </tr>\n",
       "    <tr>\n",
       "      <td>description</td>\n",
       "      <td>120975</td>\n",
       "      <td>object</td>\n",
       "      <td>111567</td>\n",
       "      <td>120975</td>\n",
       "      <td>0</td>\n",
       "      <td>0.00</td>\n",
       "    </tr>\n",
       "    <tr>\n",
       "      <td>designation</td>\n",
       "      <td>120975</td>\n",
       "      <td>object</td>\n",
       "      <td>35776</td>\n",
       "      <td>86196</td>\n",
       "      <td>34779</td>\n",
       "      <td>28.75</td>\n",
       "    </tr>\n",
       "    <tr>\n",
       "      <td>points</td>\n",
       "      <td>120975</td>\n",
       "      <td>int64</td>\n",
       "      <td>21</td>\n",
       "      <td>120975</td>\n",
       "      <td>0</td>\n",
       "      <td>0.00</td>\n",
       "    </tr>\n",
       "    <tr>\n",
       "      <td>price</td>\n",
       "      <td>120975</td>\n",
       "      <td>float64</td>\n",
       "      <td>390</td>\n",
       "      <td>120975</td>\n",
       "      <td>0</td>\n",
       "      <td>0.00</td>\n",
       "    </tr>\n",
       "    <tr>\n",
       "      <td>province</td>\n",
       "      <td>120975</td>\n",
       "      <td>object</td>\n",
       "      <td>422</td>\n",
       "      <td>120916</td>\n",
       "      <td>59</td>\n",
       "      <td>0.05</td>\n",
       "    </tr>\n",
       "    <tr>\n",
       "      <td>region_1</td>\n",
       "      <td>120975</td>\n",
       "      <td>object</td>\n",
       "      <td>1204</td>\n",
       "      <td>101400</td>\n",
       "      <td>19575</td>\n",
       "      <td>16.18</td>\n",
       "    </tr>\n",
       "    <tr>\n",
       "      <td>region_2</td>\n",
       "      <td>120975</td>\n",
       "      <td>object</td>\n",
       "      <td>17</td>\n",
       "      <td>50292</td>\n",
       "      <td>70683</td>\n",
       "      <td>58.43</td>\n",
       "    </tr>\n",
       "    <tr>\n",
       "      <td>taster_name</td>\n",
       "      <td>120975</td>\n",
       "      <td>object</td>\n",
       "      <td>19</td>\n",
       "      <td>96479</td>\n",
       "      <td>24496</td>\n",
       "      <td>20.25</td>\n",
       "    </tr>\n",
       "    <tr>\n",
       "      <td>taster_twitter_handle</td>\n",
       "      <td>120975</td>\n",
       "      <td>object</td>\n",
       "      <td>15</td>\n",
       "      <td>91559</td>\n",
       "      <td>29416</td>\n",
       "      <td>24.32</td>\n",
       "    </tr>\n",
       "    <tr>\n",
       "      <td>title</td>\n",
       "      <td>120975</td>\n",
       "      <td>object</td>\n",
       "      <td>110638</td>\n",
       "      <td>120975</td>\n",
       "      <td>0</td>\n",
       "      <td>0.00</td>\n",
       "    </tr>\n",
       "    <tr>\n",
       "      <td>variety</td>\n",
       "      <td>120975</td>\n",
       "      <td>object</td>\n",
       "      <td>697</td>\n",
       "      <td>120974</td>\n",
       "      <td>1</td>\n",
       "      <td>0.00</td>\n",
       "    </tr>\n",
       "    <tr>\n",
       "      <td>winery</td>\n",
       "      <td>120975</td>\n",
       "      <td>object</td>\n",
       "      <td>15855</td>\n",
       "      <td>120975</td>\n",
       "      <td>0</td>\n",
       "      <td>0.00</td>\n",
       "    </tr>\n",
       "    <tr>\n",
       "      <td>has_missing_price</td>\n",
       "      <td>120975</td>\n",
       "      <td>object</td>\n",
       "      <td>1</td>\n",
       "      <td>120975</td>\n",
       "      <td>0</td>\n",
       "      <td>0.00</td>\n",
       "    </tr>\n",
       "  </tbody>\n",
       "</table>\n",
       "</div>"
      ],
      "text/plain": [
       "                       record_count column_type  unique_count  \\\n",
       "country                      120975      object            42   \n",
       "description                  120975      object        111567   \n",
       "designation                  120975      object         35776   \n",
       "points                       120975       int64            21   \n",
       "price                        120975     float64           390   \n",
       "province                     120975      object           422   \n",
       "region_1                     120975      object          1204   \n",
       "region_2                     120975      object            17   \n",
       "taster_name                  120975      object            19   \n",
       "taster_twitter_handle        120975      object            15   \n",
       "title                        120975      object        110638   \n",
       "variety                      120975      object           697   \n",
       "winery                       120975      object         15855   \n",
       "has_missing_price            120975      object             1   \n",
       "\n",
       "                       nonmissing_count  missing_count  missing_perc  \n",
       "country                          120916             59          0.05  \n",
       "description                      120975              0          0.00  \n",
       "designation                       86196          34779         28.75  \n",
       "points                           120975              0          0.00  \n",
       "price                            120975              0          0.00  \n",
       "province                         120916             59          0.05  \n",
       "region_1                         101400          19575         16.18  \n",
       "region_2                          50292          70683         58.43  \n",
       "taster_name                       96479          24496         20.25  \n",
       "taster_twitter_handle             91559          29416         24.32  \n",
       "title                            120975              0          0.00  \n",
       "variety                          120974              1          0.00  \n",
       "winery                           120975              0          0.00  \n",
       "has_missing_price                120975              0          0.00  "
      ]
     },
     "execution_count": 12,
     "metadata": {},
     "output_type": "execute_result"
    }
   ],
   "source": [
    "# Get insights of data\n",
    "eda_wine_data_with_price = dataSummary(wine_data_with_price)\n",
    "eda_wine_data_with_price"
   ]
  },
  {
   "cell_type": "markdown",
   "metadata": {},
   "source": [
    "Let's also check if there is dependancy between points and price.\n",
    "As there are only few points with price > 1000 USD, let's see graphs limiting axes to 1000 USD for better understanding."
   ]
  },
  {
   "cell_type": "code",
   "execution_count": 13,
   "metadata": {},
   "outputs": [
    {
     "name": "stdout",
     "output_type": "stream",
     "text": [
      "Wines with price > 1000 USD: 14\n"
     ]
    },
    {
     "data": {
      "image/png": "[encoded data removed]",
      "text/plain": [
       "<Figure size 360x360 with 6 Axes>"
      ]
     },
     "metadata": {
      "needs_background": "light"
     },
     "output_type": "display_data"
    }
   ],
   "source": [
    "print('Wines with price > 1000 USD:', wine_data_with_price[wine_data_with_price['price'] > 1000]['price'].count())\n",
    "g = sb.pairplot(wine_data_with_price.loc[:,['price', 'points']])\n",
    "g.axes[0,0].set_xlim((0,1000))\n",
    "g.axes[0,0].set_ylim((0,1000));"
   ]
  },
  {
   "cell_type": "markdown",
   "metadata": {},
   "source": [
    "For sure there is corelation between price and points. There are almost no wines with price >500 USD having score <90 points. Nevertheless, Winemag website states, that wines are evaluated with no background on winery, price etc."
   ]
  },
  {
   "cell_type": "markdown",
   "metadata": {},
   "source": [
    "### 3.2.2 Country"
   ]
  },
  {
   "cell_type": "code",
   "execution_count": 14,
   "metadata": {},
   "outputs": [
    {
     "data": {
      "text/html": [
       "<div>\n",
       "<style scoped>\n",
       "    .dataframe tbody tr th:only-of-type {\n",
       "        vertical-align: middle;\n",
       "    }\n",
       "\n",
       "    .dataframe tbody tr th {\n",
       "        vertical-align: top;\n",
       "    }\n",
       "\n",
       "    .dataframe thead th {\n",
       "        text-align: right;\n",
       "    }\n",
       "</style>\n",
       "<table border=\"1\" class=\"dataframe\">\n",
       "  <thead>\n",
       "    <tr style=\"text-align: right;\">\n",
       "      <th></th>\n",
       "      <th>record_count</th>\n",
       "      <th>record_perc</th>\n",
       "    </tr>\n",
       "    <tr>\n",
       "      <th>country</th>\n",
       "      <th></th>\n",
       "      <th></th>\n",
       "    </tr>\n",
       "  </thead>\n",
       "  <tbody>\n",
       "    <tr>\n",
       "      <td>US</td>\n",
       "      <td>54265</td>\n",
       "      <td>44.9</td>\n",
       "    </tr>\n",
       "    <tr>\n",
       "      <td>France</td>\n",
       "      <td>17776</td>\n",
       "      <td>14.7</td>\n",
       "    </tr>\n",
       "    <tr>\n",
       "      <td>Italy</td>\n",
       "      <td>16914</td>\n",
       "      <td>14.0</td>\n",
       "    </tr>\n",
       "    <tr>\n",
       "      <td>Spain</td>\n",
       "      <td>6573</td>\n",
       "      <td>5.4</td>\n",
       "    </tr>\n",
       "    <tr>\n",
       "      <td>Portugal</td>\n",
       "      <td>4875</td>\n",
       "      <td>4.0</td>\n",
       "    </tr>\n",
       "    <tr>\n",
       "      <td>Chile</td>\n",
       "      <td>4416</td>\n",
       "      <td>3.7</td>\n",
       "    </tr>\n",
       "    <tr>\n",
       "      <td>Argentina</td>\n",
       "      <td>3756</td>\n",
       "      <td>3.1</td>\n",
       "    </tr>\n",
       "    <tr>\n",
       "      <td>Austria</td>\n",
       "      <td>2799</td>\n",
       "      <td>2.3</td>\n",
       "    </tr>\n",
       "    <tr>\n",
       "      <td>Australia</td>\n",
       "      <td>2294</td>\n",
       "      <td>1.9</td>\n",
       "    </tr>\n",
       "    <tr>\n",
       "      <td>Germany</td>\n",
       "      <td>2120</td>\n",
       "      <td>1.8</td>\n",
       "    </tr>\n",
       "  </tbody>\n",
       "</table>\n",
       "</div>"
      ],
      "text/plain": [
       "           record_count  record_perc\n",
       "country                             \n",
       "US                54265         44.9\n",
       "France            17776         14.7\n",
       "Italy             16914         14.0\n",
       "Spain              6573          5.4\n",
       "Portugal           4875          4.0\n",
       "Chile              4416          3.7\n",
       "Argentina          3756          3.1\n",
       "Austria            2799          2.3\n",
       "Australia          2294          1.9\n",
       "Germany            2120          1.8"
      ]
     },
     "execution_count": 14,
     "metadata": {},
     "output_type": "execute_result"
    }
   ],
   "source": [
    "# Take a look on most popular countries\n",
    "varCountDistStats(wine_data_with_price, 'country')"
   ]
  },
  {
   "cell_type": "markdown",
   "metadata": {},
   "source": [
    "Wines from US, France and Italy cover 74% of all wine records. Let's take a look on records with missings to understand how to impute."
   ]
  },
  {
   "cell_type": "code",
   "execution_count": 15,
   "metadata": {},
   "outputs": [
    {
     "name": "stdout",
     "output_type": "stream",
     "text": [
      "         missing_count  missing_perc\n",
      "country             59          0.05\n"
     ]
    },
    {
     "data": {
      "text/html": [
       "<div>\n",
       "<style scoped>\n",
       "    .dataframe tbody tr th:only-of-type {\n",
       "        vertical-align: middle;\n",
       "    }\n",
       "\n",
       "    .dataframe tbody tr th {\n",
       "        vertical-align: top;\n",
       "    }\n",
       "\n",
       "    .dataframe thead th {\n",
       "        text-align: right;\n",
       "    }\n",
       "</style>\n",
       "<table border=\"1\" class=\"dataframe\">\n",
       "  <thead>\n",
       "    <tr style=\"text-align: right;\">\n",
       "      <th></th>\n",
       "      <th>country</th>\n",
       "      <th>description</th>\n",
       "      <th>designation</th>\n",
       "      <th>points</th>\n",
       "      <th>price</th>\n",
       "      <th>province</th>\n",
       "      <th>region_1</th>\n",
       "      <th>region_2</th>\n",
       "      <th>taster_name</th>\n",
       "      <th>taster_twitter_handle</th>\n",
       "      <th>title</th>\n",
       "      <th>variety</th>\n",
       "      <th>winery</th>\n",
       "      <th>has_missing_price</th>\n",
       "    </tr>\n",
       "  </thead>\n",
       "  <tbody>\n",
       "    <tr>\n",
       "      <td>count</td>\n",
       "      <td>0</td>\n",
       "      <td>59</td>\n",
       "      <td>48</td>\n",
       "      <td>59.000000</td>\n",
       "      <td>59.000000</td>\n",
       "      <td>0</td>\n",
       "      <td>0</td>\n",
       "      <td>0</td>\n",
       "      <td>59</td>\n",
       "      <td>59</td>\n",
       "      <td>59</td>\n",
       "      <td>59</td>\n",
       "      <td>59</td>\n",
       "      <td>59</td>\n",
       "    </tr>\n",
       "    <tr>\n",
       "      <td>unique</td>\n",
       "      <td>0</td>\n",
       "      <td>55</td>\n",
       "      <td>37</td>\n",
       "      <td>NaN</td>\n",
       "      <td>NaN</td>\n",
       "      <td>0</td>\n",
       "      <td>0</td>\n",
       "      <td>0</td>\n",
       "      <td>8</td>\n",
       "      <td>7</td>\n",
       "      <td>55</td>\n",
       "      <td>31</td>\n",
       "      <td>24</td>\n",
       "      <td>1</td>\n",
       "    </tr>\n",
       "    <tr>\n",
       "      <td>top</td>\n",
       "      <td>NaN</td>\n",
       "      <td>A lively whiff of white blossom, Muscat grapes...</td>\n",
       "      <td>Steirische Klassik</td>\n",
       "      <td>NaN</td>\n",
       "      <td>NaN</td>\n",
       "      <td>NaN</td>\n",
       "      <td>NaN</td>\n",
       "      <td>NaN</td>\n",
       "      <td>Jeff Jenssen</td>\n",
       "      <td>@worldwineguys</td>\n",
       "      <td>Neumeister 2016 Steirische Klassik Gelber Musk...</td>\n",
       "      <td>Red Blend</td>\n",
       "      <td>Neumeister</td>\n",
       "      <td>Has price</td>\n",
       "    </tr>\n",
       "    <tr>\n",
       "      <td>freq</td>\n",
       "      <td>NaN</td>\n",
       "      <td>2</td>\n",
       "      <td>6</td>\n",
       "      <td>NaN</td>\n",
       "      <td>NaN</td>\n",
       "      <td>NaN</td>\n",
       "      <td>NaN</td>\n",
       "      <td>NaN</td>\n",
       "      <td>22</td>\n",
       "      <td>34</td>\n",
       "      <td>2</td>\n",
       "      <td>10</td>\n",
       "      <td>9</td>\n",
       "      <td>59</td>\n",
       "    </tr>\n",
       "    <tr>\n",
       "      <td>mean</td>\n",
       "      <td>NaN</td>\n",
       "      <td>NaN</td>\n",
       "      <td>NaN</td>\n",
       "      <td>88.745763</td>\n",
       "      <td>24.593220</td>\n",
       "      <td>NaN</td>\n",
       "      <td>NaN</td>\n",
       "      <td>NaN</td>\n",
       "      <td>NaN</td>\n",
       "      <td>NaN</td>\n",
       "      <td>NaN</td>\n",
       "      <td>NaN</td>\n",
       "      <td>NaN</td>\n",
       "      <td>NaN</td>\n",
       "    </tr>\n",
       "    <tr>\n",
       "      <td>std</td>\n",
       "      <td>NaN</td>\n",
       "      <td>NaN</td>\n",
       "      <td>NaN</td>\n",
       "      <td>1.952834</td>\n",
       "      <td>9.084125</td>\n",
       "      <td>NaN</td>\n",
       "      <td>NaN</td>\n",
       "      <td>NaN</td>\n",
       "      <td>NaN</td>\n",
       "      <td>NaN</td>\n",
       "      <td>NaN</td>\n",
       "      <td>NaN</td>\n",
       "      <td>NaN</td>\n",
       "      <td>NaN</td>\n",
       "    </tr>\n",
       "    <tr>\n",
       "      <td>min</td>\n",
       "      <td>NaN</td>\n",
       "      <td>NaN</td>\n",
       "      <td>NaN</td>\n",
       "      <td>84.000000</td>\n",
       "      <td>6.000000</td>\n",
       "      <td>NaN</td>\n",
       "      <td>NaN</td>\n",
       "      <td>NaN</td>\n",
       "      <td>NaN</td>\n",
       "      <td>NaN</td>\n",
       "      <td>NaN</td>\n",
       "      <td>NaN</td>\n",
       "      <td>NaN</td>\n",
       "      <td>NaN</td>\n",
       "    </tr>\n",
       "    <tr>\n",
       "      <td>25%</td>\n",
       "      <td>NaN</td>\n",
       "      <td>NaN</td>\n",
       "      <td>NaN</td>\n",
       "      <td>88.000000</td>\n",
       "      <td>19.000000</td>\n",
       "      <td>NaN</td>\n",
       "      <td>NaN</td>\n",
       "      <td>NaN</td>\n",
       "      <td>NaN</td>\n",
       "      <td>NaN</td>\n",
       "      <td>NaN</td>\n",
       "      <td>NaN</td>\n",
       "      <td>NaN</td>\n",
       "      <td>NaN</td>\n",
       "    </tr>\n",
       "    <tr>\n",
       "      <td>50%</td>\n",
       "      <td>NaN</td>\n",
       "      <td>NaN</td>\n",
       "      <td>NaN</td>\n",
       "      <td>89.000000</td>\n",
       "      <td>25.000000</td>\n",
       "      <td>NaN</td>\n",
       "      <td>NaN</td>\n",
       "      <td>NaN</td>\n",
       "      <td>NaN</td>\n",
       "      <td>NaN</td>\n",
       "      <td>NaN</td>\n",
       "      <td>NaN</td>\n",
       "      <td>NaN</td>\n",
       "      <td>NaN</td>\n",
       "    </tr>\n",
       "    <tr>\n",
       "      <td>75%</td>\n",
       "      <td>NaN</td>\n",
       "      <td>NaN</td>\n",
       "      <td>NaN</td>\n",
       "      <td>90.000000</td>\n",
       "      <td>30.000000</td>\n",
       "      <td>NaN</td>\n",
       "      <td>NaN</td>\n",
       "      <td>NaN</td>\n",
       "      <td>NaN</td>\n",
       "      <td>NaN</td>\n",
       "      <td>NaN</td>\n",
       "      <td>NaN</td>\n",
       "      <td>NaN</td>\n",
       "      <td>NaN</td>\n",
       "    </tr>\n",
       "    <tr>\n",
       "      <td>max</td>\n",
       "      <td>NaN</td>\n",
       "      <td>NaN</td>\n",
       "      <td>NaN</td>\n",
       "      <td>92.000000</td>\n",
       "      <td>50.000000</td>\n",
       "      <td>NaN</td>\n",
       "      <td>NaN</td>\n",
       "      <td>NaN</td>\n",
       "      <td>NaN</td>\n",
       "      <td>NaN</td>\n",
       "      <td>NaN</td>\n",
       "      <td>NaN</td>\n",
       "      <td>NaN</td>\n",
       "      <td>NaN</td>\n",
       "    </tr>\n",
       "  </tbody>\n",
       "</table>\n",
       "</div>"
      ],
      "text/plain": [
       "       country                                        description  \\\n",
       "count        0                                                 59   \n",
       "unique       0                                                 55   \n",
       "top        NaN  A lively whiff of white blossom, Muscat grapes...   \n",
       "freq       NaN                                                  2   \n",
       "mean       NaN                                                NaN   \n",
       "std        NaN                                                NaN   \n",
       "min        NaN                                                NaN   \n",
       "25%        NaN                                                NaN   \n",
       "50%        NaN                                                NaN   \n",
       "75%        NaN                                                NaN   \n",
       "max        NaN                                                NaN   \n",
       "\n",
       "               designation     points      price province region_1 region_2  \\\n",
       "count                   48  59.000000  59.000000        0        0        0   \n",
       "unique                  37        NaN        NaN        0        0        0   \n",
       "top     Steirische Klassik        NaN        NaN      NaN      NaN      NaN   \n",
       "freq                     6        NaN        NaN      NaN      NaN      NaN   \n",
       "mean                   NaN  88.745763  24.593220      NaN      NaN      NaN   \n",
       "std                    NaN   1.952834   9.084125      NaN      NaN      NaN   \n",
       "min                    NaN  84.000000   6.000000      NaN      NaN      NaN   \n",
       "25%                    NaN  88.000000  19.000000      NaN      NaN      NaN   \n",
       "50%                    NaN  89.000000  25.000000      NaN      NaN      NaN   \n",
       "75%                    NaN  90.000000  30.000000      NaN      NaN      NaN   \n",
       "max                    NaN  92.000000  50.000000      NaN      NaN      NaN   \n",
       "\n",
       "         taster_name taster_twitter_handle  \\\n",
       "count             59                    59   \n",
       "unique             8                     7   \n",
       "top     Jeff Jenssen        @worldwineguys   \n",
       "freq              22                    34   \n",
       "mean             NaN                   NaN   \n",
       "std              NaN                   NaN   \n",
       "min              NaN                   NaN   \n",
       "25%              NaN                   NaN   \n",
       "50%              NaN                   NaN   \n",
       "75%              NaN                   NaN   \n",
       "max              NaN                   NaN   \n",
       "\n",
       "                                                    title    variety  \\\n",
       "count                                                  59         59   \n",
       "unique                                                 55         31   \n",
       "top     Neumeister 2016 Steirische Klassik Gelber Musk...  Red Blend   \n",
       "freq                                                    2         10   \n",
       "mean                                                  NaN        NaN   \n",
       "std                                                   NaN        NaN   \n",
       "min                                                   NaN        NaN   \n",
       "25%                                                   NaN        NaN   \n",
       "50%                                                   NaN        NaN   \n",
       "75%                                                   NaN        NaN   \n",
       "max                                                   NaN        NaN   \n",
       "\n",
       "            winery has_missing_price  \n",
       "count           59                59  \n",
       "unique          24                 1  \n",
       "top     Neumeister         Has price  \n",
       "freq             9                59  \n",
       "mean           NaN               NaN  \n",
       "std            NaN               NaN  \n",
       "min            NaN               NaN  \n",
       "25%            NaN               NaN  \n",
       "50%            NaN               NaN  \n",
       "75%            NaN               NaN  \n",
       "max            NaN               NaN  "
      ]
     },
     "execution_count": 15,
     "metadata": {},
     "output_type": "execute_result"
    }
   ],
   "source": [
    "print(eda_wine_data_with_price.loc[['country'],['missing_count', 'missing_perc']])\n",
    "wine_data_with_price[wine_data_with_price['country'].isnull()].describe(include = 'all')"
   ]
  },
  {
   "cell_type": "markdown",
   "metadata": {},
   "source": [
    "For missing values provinces and regions are also missing. The only field which could help to impute country is winery."
   ]
  },
  {
   "cell_type": "code",
   "execution_count": 16,
   "metadata": {},
   "outputs": [
    {
     "data": {
      "text/plain": [
       "array(['Gotsa Family Wines', 'Kakhetia Traditional Winemaking',\n",
       "       'Tsililis', 'Ross-idi', 'Orbelus', 'St. Donat', 'Familia Deicas',\n",
       "       'Stone Castle', 'Teliani Valley', 'Undurraga', 'Mt. Beautiful',\n",
       "       'Neumeister', 'Bachelder', 'Chilcas', 'Santa Ema', 'Psagot',\n",
       "       'Ktima Voyatzi', 'Lismore', 'Logodaj', 'Somlói Vándor',\n",
       "       'Les Frères Dutruy', 'El Capricho', 'Amiran Vepkhvadze',\n",
       "       'Büyülübağ'], dtype=object)"
      ]
     },
     "execution_count": 16,
     "metadata": {},
     "output_type": "execute_result"
    }
   ],
   "source": [
    "# Get all winery names with missing country\n",
    "wine_data_with_price[wine_data_with_price['country'].isnull()]['winery'].unique()"
   ]
  },
  {
   "cell_type": "code",
   "execution_count": 17,
   "metadata": {},
   "outputs": [],
   "source": [
    "# Create dictionary\n",
    "# winery: country\n",
    "winery_country_dict = {\n",
    "    'Gotsa Family Wines': 'Georgia'\n",
    "    , 'Kakhetia Traditional Winemaking': 'Georgia'\n",
    "    , 'Tsililis': 'Georgia'\n",
    "    , 'Ross-idi': 'Bulgaria'\n",
    "    , 'Orbelus': 'Bulgaria'\n",
    "    , 'St. Donat': 'Hungary'\n",
    "    , 'Familia Deicas': 'Uruguay'\n",
    "    , 'Stone Castle': 'Albania'\n",
    "    , 'Teliani Valley': 'Georgia'\n",
    "    , 'Undurraga': 'Chile'\n",
    "    , 'Mt. Beautiful': 'New Zealand'\n",
    "    , 'Neumeister': 'Austria'\n",
    "    , 'Bachelder': 'Canada'\n",
    "    , 'Chilcas': 'Chile'\n",
    "    , 'Santa Ema': 'Chile'\n",
    "    , 'Psagot': 'Israel'\n",
    "    , 'Ktima Voyatzi': 'Greece'\n",
    "    , 'Lismore': 'South Africa'\n",
    "    , 'Logodaj': 'Bulgaria'\n",
    "    , 'Somlói Vándor': 'Hungary'\n",
    "    , 'Les Frères Dutruy': 'Switzerland'\n",
    "    , 'El Capricho': 'Uruguay'\n",
    "    , 'Amiran Vepkhvadze': 'Georgia'\n",
    "    , 'Büyülübağ': 'Turkey'\n",
    "}"
   ]
  },
  {
   "cell_type": "code",
   "execution_count": 18,
   "metadata": {},
   "outputs": [
    {
     "name": "stderr",
     "output_type": "stream",
     "text": [
      "C:\\Users\\jekat\\Anaconda3\\lib\\site-packages\\ipykernel_launcher.py:2: SettingWithCopyWarning: \n",
      "A value is trying to be set on a copy of a slice from a DataFrame.\n",
      "Try using .loc[row_indexer,col_indexer] = value instead\n",
      "\n",
      "See the caveats in the documentation: http://pandas.pydata.org/pandas-docs/stable/user_guide/indexing.html#returning-a-view-versus-a-copy\n",
      "  \n",
      "C:\\Users\\jekat\\Anaconda3\\lib\\site-packages\\ipykernel_launcher.py:4: SettingWithCopyWarning: \n",
      "A value is trying to be set on a copy of a slice from a DataFrame.\n",
      "Try using .loc[row_indexer,col_indexer] = value instead\n",
      "\n",
      "See the caveats in the documentation: http://pandas.pydata.org/pandas-docs/stable/user_guide/indexing.html#returning-a-view-versus-a-copy\n",
      "  after removing the cwd from sys.path.\n"
     ]
    }
   ],
   "source": [
    "# For further possible usage, create is_imputed_country flag\n",
    "wine_data_with_price['is_imputed_country'] = wine_data_with_price['country'].isnull()\n",
    "# Impute country\n",
    "wine_data_with_price['country'] = wine_data_with_price['country'].fillna(wine_data_with_price['winery'].map(winery_country_dict));"
   ]
  },
  {
   "cell_type": "markdown",
   "metadata": {},
   "source": [
    "### 3.2.2 Province"
   ]
  },
  {
   "cell_type": "code",
   "execution_count": 19,
   "metadata": {},
   "outputs": [
    {
     "data": {
      "text/html": [
       "<div>\n",
       "<style scoped>\n",
       "    .dataframe tbody tr th:only-of-type {\n",
       "        vertical-align: middle;\n",
       "    }\n",
       "\n",
       "    .dataframe tbody tr th {\n",
       "        vertical-align: top;\n",
       "    }\n",
       "\n",
       "    .dataframe thead th {\n",
       "        text-align: right;\n",
       "    }\n",
       "</style>\n",
       "<table border=\"1\" class=\"dataframe\">\n",
       "  <thead>\n",
       "    <tr style=\"text-align: right;\">\n",
       "      <th></th>\n",
       "      <th>record_count</th>\n",
       "      <th>record_perc</th>\n",
       "    </tr>\n",
       "    <tr>\n",
       "      <th>province</th>\n",
       "      <th></th>\n",
       "      <th></th>\n",
       "    </tr>\n",
       "  </thead>\n",
       "  <tbody>\n",
       "    <tr>\n",
       "      <td>California</td>\n",
       "      <td>36104</td>\n",
       "      <td>29.9</td>\n",
       "    </tr>\n",
       "    <tr>\n",
       "      <td>Washington</td>\n",
       "      <td>8583</td>\n",
       "      <td>7.1</td>\n",
       "    </tr>\n",
       "    <tr>\n",
       "      <td>Oregon</td>\n",
       "      <td>5359</td>\n",
       "      <td>4.4</td>\n",
       "    </tr>\n",
       "    <tr>\n",
       "      <td>Tuscany</td>\n",
       "      <td>5128</td>\n",
       "      <td>4.2</td>\n",
       "    </tr>\n",
       "    <tr>\n",
       "      <td>Bordeaux</td>\n",
       "      <td>4002</td>\n",
       "      <td>3.3</td>\n",
       "    </tr>\n",
       "    <tr>\n",
       "      <td>Northern Spain</td>\n",
       "      <td>3797</td>\n",
       "      <td>3.1</td>\n",
       "    </tr>\n",
       "    <tr>\n",
       "      <td>Mendoza Province</td>\n",
       "      <td>3226</td>\n",
       "      <td>2.7</td>\n",
       "    </tr>\n",
       "    <tr>\n",
       "      <td>Burgundy</td>\n",
       "      <td>3106</td>\n",
       "      <td>2.6</td>\n",
       "    </tr>\n",
       "    <tr>\n",
       "      <td>Piedmont</td>\n",
       "      <td>3089</td>\n",
       "      <td>2.6</td>\n",
       "    </tr>\n",
       "    <tr>\n",
       "      <td>New York</td>\n",
       "      <td>2676</td>\n",
       "      <td>2.2</td>\n",
       "    </tr>\n",
       "  </tbody>\n",
       "</table>\n",
       "</div>"
      ],
      "text/plain": [
       "                  record_count  record_perc\n",
       "province                                   \n",
       "California               36104         29.9\n",
       "Washington                8583          7.1\n",
       "Oregon                    5359          4.4\n",
       "Tuscany                   5128          4.2\n",
       "Bordeaux                  4002          3.3\n",
       "Northern Spain            3797          3.1\n",
       "Mendoza Province          3226          2.7\n",
       "Burgundy                  3106          2.6\n",
       "Piedmont                  3089          2.6\n",
       "New York                  2676          2.2"
      ]
     },
     "execution_count": 19,
     "metadata": {},
     "output_type": "execute_result"
    }
   ],
   "source": [
    "# Take a look on most popular provincies\n",
    "varCountDistStats(wine_data_with_price, 'province')"
   ]
  },
  {
   "cell_type": "markdown",
   "metadata": {},
   "source": [
    "Above (in 'country' section) we saw, that provincies are missing for the same records, where countries did. \n",
    "It is much more time consuming to find manually correct provinces for wineries. Let's take a look, whether there are records in initial dataset, where 'country' = 'province'. Perhaps it could be used for simple imputation."
   ]
  },
  {
   "cell_type": "code",
   "execution_count": 20,
   "metadata": {},
   "outputs": [
    {
     "data": {
      "text/html": [
       "<div>\n",
       "<style scoped>\n",
       "    .dataframe tbody tr th:only-of-type {\n",
       "        vertical-align: middle;\n",
       "    }\n",
       "\n",
       "    .dataframe tbody tr th {\n",
       "        vertical-align: top;\n",
       "    }\n",
       "\n",
       "    .dataframe thead th {\n",
       "        text-align: right;\n",
       "    }\n",
       "</style>\n",
       "<table border=\"1\" class=\"dataframe\">\n",
       "  <thead>\n",
       "    <tr style=\"text-align: right;\">\n",
       "      <th></th>\n",
       "      <th>record_count</th>\n",
       "      <th>same_province_record_count</th>\n",
       "      <th>same_province_record_perc</th>\n",
       "    </tr>\n",
       "  </thead>\n",
       "  <tbody>\n",
       "    <tr>\n",
       "      <td>Chile</td>\n",
       "      <td>4419</td>\n",
       "      <td>47.0</td>\n",
       "      <td>1.1</td>\n",
       "    </tr>\n",
       "    <tr>\n",
       "      <td>Austria</td>\n",
       "      <td>2808</td>\n",
       "      <td>22.0</td>\n",
       "      <td>0.8</td>\n",
       "    </tr>\n",
       "    <tr>\n",
       "      <td>New Zealand</td>\n",
       "      <td>1380</td>\n",
       "      <td>12.0</td>\n",
       "      <td>0.9</td>\n",
       "    </tr>\n",
       "    <tr>\n",
       "      <td>South Africa</td>\n",
       "      <td>1294</td>\n",
       "      <td>5.0</td>\n",
       "      <td>0.4</td>\n",
       "    </tr>\n",
       "    <tr>\n",
       "      <td>Israel</td>\n",
       "      <td>493</td>\n",
       "      <td>14.0</td>\n",
       "      <td>2.8</td>\n",
       "    </tr>\n",
       "    <tr>\n",
       "      <td>Greece</td>\n",
       "      <td>463</td>\n",
       "      <td>13.0</td>\n",
       "      <td>2.8</td>\n",
       "    </tr>\n",
       "    <tr>\n",
       "      <td>Canada</td>\n",
       "      <td>255</td>\n",
       "      <td>NaN</td>\n",
       "      <td>NaN</td>\n",
       "    </tr>\n",
       "    <tr>\n",
       "      <td>Bulgaria</td>\n",
       "      <td>153</td>\n",
       "      <td>9.0</td>\n",
       "      <td>5.9</td>\n",
       "    </tr>\n",
       "    <tr>\n",
       "      <td>Hungary</td>\n",
       "      <td>149</td>\n",
       "      <td>7.0</td>\n",
       "      <td>4.7</td>\n",
       "    </tr>\n",
       "    <tr>\n",
       "      <td>Uruguay</td>\n",
       "      <td>113</td>\n",
       "      <td>24.0</td>\n",
       "      <td>21.2</td>\n",
       "    </tr>\n",
       "  </tbody>\n",
       "</table>\n",
       "</div>"
      ],
      "text/plain": [
       "              record_count  same_province_record_count  \\\n",
       "Chile                 4419                        47.0   \n",
       "Austria               2808                        22.0   \n",
       "New Zealand           1380                        12.0   \n",
       "South Africa          1294                         5.0   \n",
       "Israel                 493                        14.0   \n",
       "Greece                 463                        13.0   \n",
       "Canada                 255                         NaN   \n",
       "Bulgaria               153                         9.0   \n",
       "Hungary                149                         7.0   \n",
       "Uruguay                113                        24.0   \n",
       "\n",
       "              same_province_record_perc  \n",
       "Chile                               1.1  \n",
       "Austria                             0.8  \n",
       "New Zealand                         0.9  \n",
       "South Africa                        0.4  \n",
       "Israel                              2.8  \n",
       "Greece                              2.8  \n",
       "Canada                              NaN  \n",
       "Bulgaria                            5.9  \n",
       "Hungary                             4.7  \n",
       "Uruguay                            21.2  "
      ]
     },
     "execution_count": 20,
     "metadata": {},
     "output_type": "execute_result"
    }
   ],
   "source": [
    "specific_countries = set(winery_country_dict.values())\n",
    "wine_data_spec_c = wine_data_with_price[wine_data_with_price['country'].isin(specific_countries)]\n",
    "country_spec_eda_dict = {\n",
    "        'record_count': wine_data_spec_c.groupby(['country'])['country'].count()\n",
    "        , 'same_province_record_count': wine_data_spec_c[wine_data_spec_c['province'] == wine_data_spec_c['country']].groupby(['country'])['country'].count()\n",
    "        , 'same_province_record_perc': round(wine_data_spec_c[wine_data_spec_c['province'] == wine_data_spec_c['country']].groupby(['country'])['country'].count() / wine_data_spec_c.groupby(['country'])['country'].count() * 100, 1)\n",
    "        }\n",
    "country_spec_eda_data = pd.concat(country_spec_eda_dict, axis = 1, sort = False)\n",
    "country_spec_eda_data.sort_values('record_count', ascending = False).head(10)"
   ]
  },
  {
   "cell_type": "markdown",
   "metadata": {},
   "source": [
    "Data shows, that initial data contains such records. So let`s impute province with country."
   ]
  },
  {
   "cell_type": "code",
   "execution_count": 21,
   "metadata": {},
   "outputs": [
    {
     "name": "stderr",
     "output_type": "stream",
     "text": [
      "C:\\Users\\jekat\\Anaconda3\\lib\\site-packages\\ipykernel_launcher.py:2: SettingWithCopyWarning: \n",
      "A value is trying to be set on a copy of a slice from a DataFrame.\n",
      "Try using .loc[row_indexer,col_indexer] = value instead\n",
      "\n",
      "See the caveats in the documentation: http://pandas.pydata.org/pandas-docs/stable/user_guide/indexing.html#returning-a-view-versus-a-copy\n",
      "  \n",
      "C:\\Users\\jekat\\Anaconda3\\lib\\site-packages\\ipykernel_launcher.py:4: SettingWithCopyWarning: \n",
      "A value is trying to be set on a copy of a slice from a DataFrame.\n",
      "Try using .loc[row_indexer,col_indexer] = value instead\n",
      "\n",
      "See the caveats in the documentation: http://pandas.pydata.org/pandas-docs/stable/user_guide/indexing.html#returning-a-view-versus-a-copy\n",
      "  after removing the cwd from sys.path.\n"
     ]
    }
   ],
   "source": [
    "# For further possible usage, create is_imputed_province flag\n",
    "wine_data_with_price['is_imputed_province'] = wine_data_with_price['province'].isnull()\n",
    "# Impute province\n",
    "wine_data_with_price['province'] = wine_data_with_price['province'].fillna(wine_data_with_price['winery'].map(winery_country_dict))"
   ]
  },
  {
   "cell_type": "markdown",
   "metadata": {},
   "source": [
    "### 3.2.4 Designation, region_1, region_2"
   ]
  },
  {
   "cell_type": "markdown",
   "metadata": {},
   "source": [
    "No specific ideas how to impute these columns with relevant data. Will impute 'Unknown' value."
   ]
  },
  {
   "cell_type": "code",
   "execution_count": 22,
   "metadata": {},
   "outputs": [
    {
     "name": "stderr",
     "output_type": "stream",
     "text": [
      "C:\\Users\\jekat\\Anaconda3\\lib\\site-packages\\ipykernel_launcher.py:2: SettingWithCopyWarning: \n",
      "A value is trying to be set on a copy of a slice from a DataFrame.\n",
      "Try using .loc[row_indexer,col_indexer] = value instead\n",
      "\n",
      "See the caveats in the documentation: http://pandas.pydata.org/pandas-docs/stable/user_guide/indexing.html#returning-a-view-versus-a-copy\n",
      "  \n",
      "C:\\Users\\jekat\\Anaconda3\\lib\\site-packages\\ipykernel_launcher.py:3: SettingWithCopyWarning: \n",
      "A value is trying to be set on a copy of a slice from a DataFrame.\n",
      "Try using .loc[row_indexer,col_indexer] = value instead\n",
      "\n",
      "See the caveats in the documentation: http://pandas.pydata.org/pandas-docs/stable/user_guide/indexing.html#returning-a-view-versus-a-copy\n",
      "  This is separate from the ipykernel package so we can avoid doing imports until\n",
      "C:\\Users\\jekat\\Anaconda3\\lib\\site-packages\\ipykernel_launcher.py:4: SettingWithCopyWarning: \n",
      "A value is trying to be set on a copy of a slice from a DataFrame.\n",
      "Try using .loc[row_indexer,col_indexer] = value instead\n",
      "\n",
      "See the caveats in the documentation: http://pandas.pydata.org/pandas-docs/stable/user_guide/indexing.html#returning-a-view-versus-a-copy\n",
      "  after removing the cwd from sys.path.\n",
      "C:\\Users\\jekat\\Anaconda3\\lib\\site-packages\\ipykernel_launcher.py:6: SettingWithCopyWarning: \n",
      "A value is trying to be set on a copy of a slice from a DataFrame.\n",
      "Try using .loc[row_indexer,col_indexer] = value instead\n",
      "\n",
      "See the caveats in the documentation: http://pandas.pydata.org/pandas-docs/stable/user_guide/indexing.html#returning-a-view-versus-a-copy\n",
      "  \n",
      "C:\\Users\\jekat\\Anaconda3\\lib\\site-packages\\ipykernel_launcher.py:7: SettingWithCopyWarning: \n",
      "A value is trying to be set on a copy of a slice from a DataFrame.\n",
      "Try using .loc[row_indexer,col_indexer] = value instead\n",
      "\n",
      "See the caveats in the documentation: http://pandas.pydata.org/pandas-docs/stable/user_guide/indexing.html#returning-a-view-versus-a-copy\n",
      "  import sys\n",
      "C:\\Users\\jekat\\Anaconda3\\lib\\site-packages\\ipykernel_launcher.py:8: SettingWithCopyWarning: \n",
      "A value is trying to be set on a copy of a slice from a DataFrame.\n",
      "Try using .loc[row_indexer,col_indexer] = value instead\n",
      "\n",
      "See the caveats in the documentation: http://pandas.pydata.org/pandas-docs/stable/user_guide/indexing.html#returning-a-view-versus-a-copy\n",
      "  \n"
     ]
    }
   ],
   "source": [
    "# For further possible usage, create is_imputed flags\n",
    "wine_data_with_price['is_imputed_designation'] = wine_data_with_price['designation'].isnull()\n",
    "wine_data_with_price['is_imputed_region_1'] = wine_data_with_price['region_1'].isnull()\n",
    "wine_data_with_price['is_imputed_region_2'] = wine_data_with_price['region_2'].isnull()\n",
    "# Impute\n",
    "wine_data_with_price['designation'] = wine_data_with_price['designation'].fillna('Unknown designation')\n",
    "wine_data_with_price['region_1'] = wine_data_with_price['region_1'].fillna('Unknown region_1')\n",
    "wine_data_with_price['region_2'] = wine_data_with_price['region_2'].fillna('Unknown region_2');"
   ]
  },
  {
   "cell_type": "markdown",
   "metadata": {},
   "source": [
    "### 3.2.5 Variety"
   ]
  },
  {
   "cell_type": "code",
   "execution_count": 23,
   "metadata": {},
   "outputs": [
    {
     "data": {
      "text/html": [
       "<div>\n",
       "<style scoped>\n",
       "    .dataframe tbody tr th:only-of-type {\n",
       "        vertical-align: middle;\n",
       "    }\n",
       "\n",
       "    .dataframe tbody tr th {\n",
       "        vertical-align: top;\n",
       "    }\n",
       "\n",
       "    .dataframe thead th {\n",
       "        text-align: right;\n",
       "    }\n",
       "</style>\n",
       "<table border=\"1\" class=\"dataframe\">\n",
       "  <thead>\n",
       "    <tr style=\"text-align: right;\">\n",
       "      <th></th>\n",
       "      <th>record_count</th>\n",
       "      <th>record_perc</th>\n",
       "    </tr>\n",
       "    <tr>\n",
       "      <th>variety</th>\n",
       "      <th></th>\n",
       "      <th></th>\n",
       "    </tr>\n",
       "  </thead>\n",
       "  <tbody>\n",
       "    <tr>\n",
       "      <td>Pinot Noir</td>\n",
       "      <td>12787</td>\n",
       "      <td>10.6</td>\n",
       "    </tr>\n",
       "    <tr>\n",
       "      <td>Chardonnay</td>\n",
       "      <td>11080</td>\n",
       "      <td>9.2</td>\n",
       "    </tr>\n",
       "    <tr>\n",
       "      <td>Cabernet Sauvignon</td>\n",
       "      <td>9386</td>\n",
       "      <td>7.8</td>\n",
       "    </tr>\n",
       "    <tr>\n",
       "      <td>Red Blend</td>\n",
       "      <td>8476</td>\n",
       "      <td>7.0</td>\n",
       "    </tr>\n",
       "    <tr>\n",
       "      <td>Bordeaux-style Red Blend</td>\n",
       "      <td>5340</td>\n",
       "      <td>4.4</td>\n",
       "    </tr>\n",
       "    <tr>\n",
       "      <td>Riesling</td>\n",
       "      <td>4972</td>\n",
       "      <td>4.1</td>\n",
       "    </tr>\n",
       "    <tr>\n",
       "      <td>Sauvignon Blanc</td>\n",
       "      <td>4783</td>\n",
       "      <td>4.0</td>\n",
       "    </tr>\n",
       "    <tr>\n",
       "      <td>Syrah</td>\n",
       "      <td>4086</td>\n",
       "      <td>3.4</td>\n",
       "    </tr>\n",
       "    <tr>\n",
       "      <td>Rosé</td>\n",
       "      <td>3262</td>\n",
       "      <td>2.7</td>\n",
       "    </tr>\n",
       "    <tr>\n",
       "      <td>Merlot</td>\n",
       "      <td>3062</td>\n",
       "      <td>2.5</td>\n",
       "    </tr>\n",
       "  </tbody>\n",
       "</table>\n",
       "</div>"
      ],
      "text/plain": [
       "                          record_count  record_perc\n",
       "variety                                            \n",
       "Pinot Noir                       12787         10.6\n",
       "Chardonnay                       11080          9.2\n",
       "Cabernet Sauvignon                9386          7.8\n",
       "Red Blend                         8476          7.0\n",
       "Bordeaux-style Red Blend          5340          4.4\n",
       "Riesling                          4972          4.1\n",
       "Sauvignon Blanc                   4783          4.0\n",
       "Syrah                             4086          3.4\n",
       "Rosé                              3262          2.7\n",
       "Merlot                            3062          2.5"
      ]
     },
     "execution_count": 23,
     "metadata": {},
     "output_type": "execute_result"
    }
   ],
   "source": [
    "# Take a look on most popular varieties\n",
    "varCountDistStats(wine_data_with_price, 'variety')"
   ]
  },
  {
   "cell_type": "code",
   "execution_count": 24,
   "metadata": {},
   "outputs": [
    {
     "name": "stdout",
     "output_type": "stream",
     "text": [
      "         missing_count  missing_perc\n",
      "variety              1           0.0\n"
     ]
    },
    {
     "data": {
      "text/html": [
       "<div>\n",
       "<style scoped>\n",
       "    .dataframe tbody tr th:only-of-type {\n",
       "        vertical-align: middle;\n",
       "    }\n",
       "\n",
       "    .dataframe tbody tr th {\n",
       "        vertical-align: top;\n",
       "    }\n",
       "\n",
       "    .dataframe thead th {\n",
       "        text-align: right;\n",
       "    }\n",
       "</style>\n",
       "<table border=\"1\" class=\"dataframe\">\n",
       "  <thead>\n",
       "    <tr style=\"text-align: right;\">\n",
       "      <th></th>\n",
       "      <th>country</th>\n",
       "      <th>description</th>\n",
       "      <th>designation</th>\n",
       "      <th>points</th>\n",
       "      <th>price</th>\n",
       "      <th>province</th>\n",
       "      <th>region_1</th>\n",
       "      <th>region_2</th>\n",
       "      <th>taster_name</th>\n",
       "      <th>taster_twitter_handle</th>\n",
       "      <th>title</th>\n",
       "      <th>variety</th>\n",
       "      <th>winery</th>\n",
       "      <th>has_missing_price</th>\n",
       "      <th>is_imputed_country</th>\n",
       "      <th>is_imputed_province</th>\n",
       "      <th>is_imputed_designation</th>\n",
       "      <th>is_imputed_region_1</th>\n",
       "      <th>is_imputed_region_2</th>\n",
       "    </tr>\n",
       "  </thead>\n",
       "  <tbody>\n",
       "    <tr>\n",
       "      <td>86909</td>\n",
       "      <td>Chile</td>\n",
       "      <td>A chalky, dusty mouthfeel nicely balances this...</td>\n",
       "      <td>Unknown designation</td>\n",
       "      <td>88</td>\n",
       "      <td>17.0</td>\n",
       "      <td>Maipo Valley</td>\n",
       "      <td>Unknown region_1</td>\n",
       "      <td>Unknown region_2</td>\n",
       "      <td>NaN</td>\n",
       "      <td>NaN</td>\n",
       "      <td>Carmen 1999  (Maipo Valley)</td>\n",
       "      <td>NaN</td>\n",
       "      <td>Carmen</td>\n",
       "      <td>Has price</td>\n",
       "      <td>False</td>\n",
       "      <td>False</td>\n",
       "      <td>True</td>\n",
       "      <td>True</td>\n",
       "      <td>True</td>\n",
       "    </tr>\n",
       "  </tbody>\n",
       "</table>\n",
       "</div>"
      ],
      "text/plain": [
       "      country                                        description  \\\n",
       "86909   Chile  A chalky, dusty mouthfeel nicely balances this...   \n",
       "\n",
       "               designation  points  price      province          region_1  \\\n",
       "86909  Unknown designation      88   17.0  Maipo Valley  Unknown region_1   \n",
       "\n",
       "               region_2 taster_name taster_twitter_handle  \\\n",
       "86909  Unknown region_2         NaN                   NaN   \n",
       "\n",
       "                             title variety  winery has_missing_price  \\\n",
       "86909  Carmen 1999  (Maipo Valley)     NaN  Carmen         Has price   \n",
       "\n",
       "       is_imputed_country  is_imputed_province  is_imputed_designation  \\\n",
       "86909               False                False                    True   \n",
       "\n",
       "       is_imputed_region_1  is_imputed_region_2  \n",
       "86909                 True                 True  "
      ]
     },
     "execution_count": 24,
     "metadata": {},
     "output_type": "execute_result"
    }
   ],
   "source": [
    "print(eda_wine_data_with_price.loc[['variety'],['missing_count', 'missing_perc']])\n",
    "wine_data_with_price[wine_data_with_price['variety'].isnull()]"
   ]
  },
  {
   "cell_type": "markdown",
   "metadata": {},
   "source": [
    "There is only 1 missing record, let's impute it manually. [Winemag page](https://www.winemag.com/buying-guide/carmen-1999-maipo-valley/) states it's red wine, but has no variety. Let's impute the most popular variety: Pinot Noir."
   ]
  },
  {
   "cell_type": "code",
   "execution_count": 25,
   "metadata": {},
   "outputs": [
    {
     "name": "stderr",
     "output_type": "stream",
     "text": [
      "C:\\Users\\jekat\\Anaconda3\\lib\\site-packages\\ipykernel_launcher.py:2: SettingWithCopyWarning: \n",
      "A value is trying to be set on a copy of a slice from a DataFrame.\n",
      "Try using .loc[row_indexer,col_indexer] = value instead\n",
      "\n",
      "See the caveats in the documentation: http://pandas.pydata.org/pandas-docs/stable/user_guide/indexing.html#returning-a-view-versus-a-copy\n",
      "  \n",
      "C:\\Users\\jekat\\Anaconda3\\lib\\site-packages\\ipykernel_launcher.py:4: SettingWithCopyWarning: \n",
      "A value is trying to be set on a copy of a slice from a DataFrame.\n",
      "Try using .loc[row_indexer,col_indexer] = value instead\n",
      "\n",
      "See the caveats in the documentation: http://pandas.pydata.org/pandas-docs/stable/user_guide/indexing.html#returning-a-view-versus-a-copy\n",
      "  after removing the cwd from sys.path.\n"
     ]
    }
   ],
   "source": [
    "# For further possible usage, create is_imputed_variety flag\n",
    "wine_data_with_price['is_imputed_variety'] = wine_data_with_price['variety'].isnull()\n",
    "# Impute variety\n",
    "wine_data_with_price['variety'] = wine_data_with_price['variety'].fillna('Pinot Noir');"
   ]
  },
  {
   "cell_type": "markdown",
   "metadata": {},
   "source": [
    "### 3.2.6 Twitter account"
   ]
  },
  {
   "cell_type": "markdown",
   "metadata": {},
   "source": [
    "From missing records stats before we've seen that there are records with taster names with no twitter account reference. Let's add this missing info."
   ]
  },
  {
   "cell_type": "code",
   "execution_count": 26,
   "metadata": {},
   "outputs": [],
   "source": [
    "# Info from https://www.geeksforgeeks.org/performing-google-search-using-python-code/\n",
    "# Install google package\n",
    "# !pip install google\n",
    "from googlesearch import search\n",
    "import requests"
   ]
  },
  {
   "cell_type": "code",
   "execution_count": 27,
   "metadata": {},
   "outputs": [
    {
     "data": {
      "text/plain": [
       "['Alexander Peartree', 'Carrie Dykes', 'Anna Lee C. Iijima']"
      ]
     },
     "execution_count": 27,
     "metadata": {},
     "output_type": "execute_result"
    }
   ],
   "source": [
    "# Find taster names with no twitter accounts\n",
    "taster_names = list(set(wine_data_with_price[wine_data_with_price['taster_twitter_handle'].isnull() \n",
    "                         & (wine_data_with_price['taster_name'].notnull())]['taster_name']))\n",
    "taster_names"
   ]
  },
  {
   "cell_type": "code",
   "execution_count": 28,
   "metadata": {},
   "outputs": [],
   "source": [
    "# for i in taster_names[0]:\n",
    "#     query = i + ' site:winemag.com/contributor'\n",
    "#     for j in search(query, tld='com', lang='en', start=0, stop=1, pause=2.0): \n",
    "#         print(j)\n",
    "#         req = requests.get(j)\n",
    "#         if req.status_code != 200:\n",
    "#             print(f'Unexpected status code {req.status_code}. Stopping parse')\n",
    "#         soup = BeautifulSoup(req.text, 'lxml')"
   ]
  },
  {
   "cell_type": "markdown",
   "metadata": {},
   "source": [
    "No luck, website has block for python requests. Will need to impute manually (luckily, there are only 3 values to impute)."
   ]
  },
  {
   "cell_type": "code",
   "execution_count": 29,
   "metadata": {},
   "outputs": [],
   "source": [
    "taster_twitter_accounts_dict = {\n",
    "    'Carrie Dykes': '@carriedykes1'\n",
    "    , 'Alexander Peartree': '@apatrone23'\n",
    "}\n",
    "# For taster 'Anna Lee C. Iijima' there is no Twiter at all"
   ]
  },
  {
   "cell_type": "markdown",
   "metadata": {},
   "source": [
    "The only missing values remaining are some reviewer names and their twitters. As they are not specified on website will fill them with 'Unknown' value."
   ]
  },
  {
   "cell_type": "code",
   "execution_count": 30,
   "metadata": {},
   "outputs": [
    {
     "name": "stderr",
     "output_type": "stream",
     "text": [
      "C:\\Users\\jekat\\Anaconda3\\lib\\site-packages\\ipykernel_launcher.py:2: SettingWithCopyWarning: \n",
      "A value is trying to be set on a copy of a slice from a DataFrame.\n",
      "Try using .loc[row_indexer,col_indexer] = value instead\n",
      "\n",
      "See the caveats in the documentation: http://pandas.pydata.org/pandas-docs/stable/user_guide/indexing.html#returning-a-view-versus-a-copy\n",
      "  \n",
      "C:\\Users\\jekat\\Anaconda3\\lib\\site-packages\\ipykernel_launcher.py:3: SettingWithCopyWarning: \n",
      "A value is trying to be set on a copy of a slice from a DataFrame.\n",
      "Try using .loc[row_indexer,col_indexer] = value instead\n",
      "\n",
      "See the caveats in the documentation: http://pandas.pydata.org/pandas-docs/stable/user_guide/indexing.html#returning-a-view-versus-a-copy\n",
      "  This is separate from the ipykernel package so we can avoid doing imports until\n",
      "C:\\Users\\jekat\\Anaconda3\\lib\\site-packages\\ipykernel_launcher.py:5: SettingWithCopyWarning: \n",
      "A value is trying to be set on a copy of a slice from a DataFrame.\n",
      "Try using .loc[row_indexer,col_indexer] = value instead\n",
      "\n",
      "See the caveats in the documentation: http://pandas.pydata.org/pandas-docs/stable/user_guide/indexing.html#returning-a-view-versus-a-copy\n",
      "  \"\"\"\n",
      "C:\\Users\\jekat\\Anaconda3\\lib\\site-packages\\ipykernel_launcher.py:6: SettingWithCopyWarning: \n",
      "A value is trying to be set on a copy of a slice from a DataFrame.\n",
      "Try using .loc[row_indexer,col_indexer] = value instead\n",
      "\n",
      "See the caveats in the documentation: http://pandas.pydata.org/pandas-docs/stable/user_guide/indexing.html#returning-a-view-versus-a-copy\n",
      "  \n"
     ]
    }
   ],
   "source": [
    "# For further possible usage, create is_imputed flags\n",
    "wine_data_with_price['is_imputed_twitter'] = wine_data_with_price['taster_twitter_handle'].isnull()\n",
    "wine_data_with_price['is_imputed_taster_name'] = wine_data_with_price['taster_name'].isnull()\n",
    "# Impute\n",
    "wine_data_with_price['taster_twitter_handle'] = wine_data_with_price['taster_twitter_handle'].fillna('Unknown twitter')\n",
    "wine_data_with_price['taster_name'] = wine_data_with_price['taster_name'].fillna('Unknown taster_name');"
   ]
  },
  {
   "cell_type": "code",
   "execution_count": 31,
   "metadata": {},
   "outputs": [
    {
     "data": {
      "text/html": [
       "<div>\n",
       "<style scoped>\n",
       "    .dataframe tbody tr th:only-of-type {\n",
       "        vertical-align: middle;\n",
       "    }\n",
       "\n",
       "    .dataframe tbody tr th {\n",
       "        vertical-align: top;\n",
       "    }\n",
       "\n",
       "    .dataframe thead th {\n",
       "        text-align: right;\n",
       "    }\n",
       "</style>\n",
       "<table border=\"1\" class=\"dataframe\">\n",
       "  <thead>\n",
       "    <tr style=\"text-align: right;\">\n",
       "      <th></th>\n",
       "      <th>record_count</th>\n",
       "      <th>column_type</th>\n",
       "      <th>unique_count</th>\n",
       "      <th>nonmissing_count</th>\n",
       "      <th>missing_count</th>\n",
       "      <th>missing_perc</th>\n",
       "    </tr>\n",
       "  </thead>\n",
       "  <tbody>\n",
       "    <tr>\n",
       "      <td>country</td>\n",
       "      <td>120975</td>\n",
       "      <td>object</td>\n",
       "      <td>43</td>\n",
       "      <td>120975</td>\n",
       "      <td>0</td>\n",
       "      <td>0.0</td>\n",
       "    </tr>\n",
       "    <tr>\n",
       "      <td>description</td>\n",
       "      <td>120975</td>\n",
       "      <td>object</td>\n",
       "      <td>111567</td>\n",
       "      <td>120975</td>\n",
       "      <td>0</td>\n",
       "      <td>0.0</td>\n",
       "    </tr>\n",
       "    <tr>\n",
       "      <td>designation</td>\n",
       "      <td>120975</td>\n",
       "      <td>object</td>\n",
       "      <td>35777</td>\n",
       "      <td>120975</td>\n",
       "      <td>0</td>\n",
       "      <td>0.0</td>\n",
       "    </tr>\n",
       "    <tr>\n",
       "      <td>points</td>\n",
       "      <td>120975</td>\n",
       "      <td>int64</td>\n",
       "      <td>21</td>\n",
       "      <td>120975</td>\n",
       "      <td>0</td>\n",
       "      <td>0.0</td>\n",
       "    </tr>\n",
       "    <tr>\n",
       "      <td>price</td>\n",
       "      <td>120975</td>\n",
       "      <td>float64</td>\n",
       "      <td>390</td>\n",
       "      <td>120975</td>\n",
       "      <td>0</td>\n",
       "      <td>0.0</td>\n",
       "    </tr>\n",
       "    <tr>\n",
       "      <td>province</td>\n",
       "      <td>120975</td>\n",
       "      <td>object</td>\n",
       "      <td>424</td>\n",
       "      <td>120975</td>\n",
       "      <td>0</td>\n",
       "      <td>0.0</td>\n",
       "    </tr>\n",
       "    <tr>\n",
       "      <td>region_1</td>\n",
       "      <td>120975</td>\n",
       "      <td>object</td>\n",
       "      <td>1205</td>\n",
       "      <td>120975</td>\n",
       "      <td>0</td>\n",
       "      <td>0.0</td>\n",
       "    </tr>\n",
       "    <tr>\n",
       "      <td>region_2</td>\n",
       "      <td>120975</td>\n",
       "      <td>object</td>\n",
       "      <td>18</td>\n",
       "      <td>120975</td>\n",
       "      <td>0</td>\n",
       "      <td>0.0</td>\n",
       "    </tr>\n",
       "    <tr>\n",
       "      <td>taster_name</td>\n",
       "      <td>120975</td>\n",
       "      <td>object</td>\n",
       "      <td>20</td>\n",
       "      <td>120975</td>\n",
       "      <td>0</td>\n",
       "      <td>0.0</td>\n",
       "    </tr>\n",
       "    <tr>\n",
       "      <td>taster_twitter_handle</td>\n",
       "      <td>120975</td>\n",
       "      <td>object</td>\n",
       "      <td>16</td>\n",
       "      <td>120975</td>\n",
       "      <td>0</td>\n",
       "      <td>0.0</td>\n",
       "    </tr>\n",
       "    <tr>\n",
       "      <td>title</td>\n",
       "      <td>120975</td>\n",
       "      <td>object</td>\n",
       "      <td>110638</td>\n",
       "      <td>120975</td>\n",
       "      <td>0</td>\n",
       "      <td>0.0</td>\n",
       "    </tr>\n",
       "    <tr>\n",
       "      <td>variety</td>\n",
       "      <td>120975</td>\n",
       "      <td>object</td>\n",
       "      <td>697</td>\n",
       "      <td>120975</td>\n",
       "      <td>0</td>\n",
       "      <td>0.0</td>\n",
       "    </tr>\n",
       "    <tr>\n",
       "      <td>winery</td>\n",
       "      <td>120975</td>\n",
       "      <td>object</td>\n",
       "      <td>15855</td>\n",
       "      <td>120975</td>\n",
       "      <td>0</td>\n",
       "      <td>0.0</td>\n",
       "    </tr>\n",
       "    <tr>\n",
       "      <td>has_missing_price</td>\n",
       "      <td>120975</td>\n",
       "      <td>object</td>\n",
       "      <td>1</td>\n",
       "      <td>120975</td>\n",
       "      <td>0</td>\n",
       "      <td>0.0</td>\n",
       "    </tr>\n",
       "    <tr>\n",
       "      <td>is_imputed_country</td>\n",
       "      <td>120975</td>\n",
       "      <td>bool</td>\n",
       "      <td>2</td>\n",
       "      <td>120975</td>\n",
       "      <td>0</td>\n",
       "      <td>0.0</td>\n",
       "    </tr>\n",
       "    <tr>\n",
       "      <td>is_imputed_province</td>\n",
       "      <td>120975</td>\n",
       "      <td>bool</td>\n",
       "      <td>2</td>\n",
       "      <td>120975</td>\n",
       "      <td>0</td>\n",
       "      <td>0.0</td>\n",
       "    </tr>\n",
       "    <tr>\n",
       "      <td>is_imputed_designation</td>\n",
       "      <td>120975</td>\n",
       "      <td>bool</td>\n",
       "      <td>2</td>\n",
       "      <td>120975</td>\n",
       "      <td>0</td>\n",
       "      <td>0.0</td>\n",
       "    </tr>\n",
       "    <tr>\n",
       "      <td>is_imputed_region_1</td>\n",
       "      <td>120975</td>\n",
       "      <td>bool</td>\n",
       "      <td>2</td>\n",
       "      <td>120975</td>\n",
       "      <td>0</td>\n",
       "      <td>0.0</td>\n",
       "    </tr>\n",
       "    <tr>\n",
       "      <td>is_imputed_region_2</td>\n",
       "      <td>120975</td>\n",
       "      <td>bool</td>\n",
       "      <td>2</td>\n",
       "      <td>120975</td>\n",
       "      <td>0</td>\n",
       "      <td>0.0</td>\n",
       "    </tr>\n",
       "    <tr>\n",
       "      <td>is_imputed_variety</td>\n",
       "      <td>120975</td>\n",
       "      <td>bool</td>\n",
       "      <td>2</td>\n",
       "      <td>120975</td>\n",
       "      <td>0</td>\n",
       "      <td>0.0</td>\n",
       "    </tr>\n",
       "    <tr>\n",
       "      <td>is_imputed_twitter</td>\n",
       "      <td>120975</td>\n",
       "      <td>bool</td>\n",
       "      <td>2</td>\n",
       "      <td>120975</td>\n",
       "      <td>0</td>\n",
       "      <td>0.0</td>\n",
       "    </tr>\n",
       "    <tr>\n",
       "      <td>is_imputed_taster_name</td>\n",
       "      <td>120975</td>\n",
       "      <td>bool</td>\n",
       "      <td>2</td>\n",
       "      <td>120975</td>\n",
       "      <td>0</td>\n",
       "      <td>0.0</td>\n",
       "    </tr>\n",
       "  </tbody>\n",
       "</table>\n",
       "</div>"
      ],
      "text/plain": [
       "                        record_count column_type  unique_count  \\\n",
       "country                       120975      object            43   \n",
       "description                   120975      object        111567   \n",
       "designation                   120975      object         35777   \n",
       "points                        120975       int64            21   \n",
       "price                         120975     float64           390   \n",
       "province                      120975      object           424   \n",
       "region_1                      120975      object          1205   \n",
       "region_2                      120975      object            18   \n",
       "taster_name                   120975      object            20   \n",
       "taster_twitter_handle         120975      object            16   \n",
       "title                         120975      object        110638   \n",
       "variety                       120975      object           697   \n",
       "winery                        120975      object         15855   \n",
       "has_missing_price             120975      object             1   \n",
       "is_imputed_country            120975        bool             2   \n",
       "is_imputed_province           120975        bool             2   \n",
       "is_imputed_designation        120975        bool             2   \n",
       "is_imputed_region_1           120975        bool             2   \n",
       "is_imputed_region_2           120975        bool             2   \n",
       "is_imputed_variety            120975        bool             2   \n",
       "is_imputed_twitter            120975        bool             2   \n",
       "is_imputed_taster_name        120975        bool             2   \n",
       "\n",
       "                        nonmissing_count  missing_count  missing_perc  \n",
       "country                           120975              0           0.0  \n",
       "description                       120975              0           0.0  \n",
       "designation                       120975              0           0.0  \n",
       "points                            120975              0           0.0  \n",
       "price                             120975              0           0.0  \n",
       "province                          120975              0           0.0  \n",
       "region_1                          120975              0           0.0  \n",
       "region_2                          120975              0           0.0  \n",
       "taster_name                       120975              0           0.0  \n",
       "taster_twitter_handle             120975              0           0.0  \n",
       "title                             120975              0           0.0  \n",
       "variety                           120975              0           0.0  \n",
       "winery                            120975              0           0.0  \n",
       "has_missing_price                 120975              0           0.0  \n",
       "is_imputed_country                120975              0           0.0  \n",
       "is_imputed_province               120975              0           0.0  \n",
       "is_imputed_designation            120975              0           0.0  \n",
       "is_imputed_region_1               120975              0           0.0  \n",
       "is_imputed_region_2               120975              0           0.0  \n",
       "is_imputed_variety                120975              0           0.0  \n",
       "is_imputed_twitter                120975              0           0.0  \n",
       "is_imputed_taster_name            120975              0           0.0  "
      ]
     },
     "execution_count": 31,
     "metadata": {},
     "output_type": "execute_result"
    }
   ],
   "source": [
    "# Get insights of data\n",
    "eda_wine_data_with_price = dataSummary(wine_data_with_price)\n",
    "eda_wine_data_with_price"
   ]
  },
  {
   "cell_type": "markdown",
   "metadata": {},
   "source": [
    "No more missings, could continue with additional feature engineering."
   ]
  },
  {
   "cell_type": "markdown",
   "metadata": {},
   "source": [
    "## 4. Additional features<a class=\"anchor\" id=\"additional-features\">\n",
    "[Back to Table of Contents](#toc)"
   ]
  },
  {
   "cell_type": "markdown",
   "metadata": {},
   "source": [
    "### 4.1 Reviewer's count of followers on Twitter<a class=\"anchor\" id=\"twitter-followers\">\n",
    "[Back to Table of Contents](#toc)"
   ]
  },
  {
   "cell_type": "markdown",
   "metadata": {},
   "source": [
    "Idea how to get followers count from https://kaspars.net/blog/twitter-follower-count-without-api"
   ]
  },
  {
   "cell_type": "code",
   "execution_count": 32,
   "metadata": {},
   "outputs": [
    {
     "data": {
      "text/plain": [
       "['vossroger',\n",
       " 'worldwineguys',\n",
       " 'wawinereport',\n",
       " 'JoeCz',\n",
       " 'vboone',\n",
       " 'paulgwine ',\n",
       " 'gordone_cellars',\n",
       " 'laurbuzz',\n",
       " 'kerinokeefe',\n",
       " 'wineschach',\n",
       " 'bkfiona',\n",
       " 'AnneInVino',\n",
       " 'suskostrzewa',\n",
       " 'mattkettmann',\n",
       " 'winewchristina']"
      ]
     },
     "execution_count": 32,
     "metadata": {},
     "output_type": "execute_result"
    }
   ],
   "source": [
    "# Find all Twitter accounts in dataset, delete Unknown, remove unicode space, remove @\n",
    "twitter_accounts = list(set(wine_data_with_price['taster_twitter_handle']))\n",
    "twitter_accounts = [unicodedata.normalize(\"NFKD\", i)[1:] for i in twitter_accounts if '@' in i]\n",
    "twitter_accounts"
   ]
  },
  {
   "cell_type": "code",
   "execution_count": 33,
   "metadata": {},
   "outputs": [],
   "source": [
    "twitter_url_base = 'https://cdn.syndication.twimg.com/widgets/followbutton/info.json?screen_names='"
   ]
  },
  {
   "cell_type": "code",
   "execution_count": 34,
   "metadata": {},
   "outputs": [
    {
     "name": "stdout",
     "output_type": "stream",
     "text": [
      "Twitter name does not exist, check manually:  winewchristina\n"
     ]
    }
   ],
   "source": [
    "# Check if all Twitter accounts exist\n",
    "for i in twitter_accounts:\n",
    "    req = requests.get(twitter_url_base + i)\n",
    "    if req.status_code != 200:\n",
    "        print(f'Unexpected status code {req.status_code}. Stopping parse')\n",
    "    soup = BeautifulSoup(req.text, 'lxml')\n",
    "    if soup.text == '[]':\n",
    "        print('Twitter name does not exist, check manually: ', i)"
   ]
  },
  {
   "cell_type": "markdown",
   "metadata": {},
   "source": [
    "Found out non-existing Twitter account - now it's '@ckpickard'. To replace account name and to add follower count to dictionary."
   ]
  },
  {
   "cell_type": "code",
   "execution_count": 35,
   "metadata": {},
   "outputs": [
    {
     "name": "stderr",
     "output_type": "stream",
     "text": [
      "C:\\Users\\jekat\\Anaconda3\\lib\\site-packages\\pandas\\core\\indexing.py:494: SettingWithCopyWarning: \n",
      "A value is trying to be set on a copy of a slice from a DataFrame.\n",
      "Try using .loc[row_indexer,col_indexer] = value instead\n",
      "\n",
      "See the caveats in the documentation: http://pandas.pydata.org/pandas-docs/stable/user_guide/indexing.html#returning-a-view-versus-a-copy\n",
      "  self.obj[item] = s\n"
     ]
    }
   ],
   "source": [
    "wine_data_with_price.loc[wine_data_with_price['taster_twitter_handle'] == '@winewchristina', 'taster_twitter_handle'] = '@ckpickard'"
   ]
  },
  {
   "cell_type": "code",
   "execution_count": 36,
   "metadata": {},
   "outputs": [
    {
     "data": {
      "text/plain": [
       "['vossroger',\n",
       " 'worldwineguys',\n",
       " 'wawinereport',\n",
       " 'JoeCz',\n",
       " 'vboone',\n",
       " 'paulgwine ',\n",
       " 'gordone_cellars',\n",
       " 'laurbuzz',\n",
       " 'kerinokeefe',\n",
       " 'wineschach',\n",
       " 'bkfiona',\n",
       " 'AnneInVino',\n",
       " 'suskostrzewa',\n",
       " 'mattkettmann',\n",
       " 'ckpickard']"
      ]
     },
     "execution_count": 36,
     "metadata": {},
     "output_type": "execute_result"
    }
   ],
   "source": [
    "# Find all Twitter accounts once again\n",
    "twitter_accounts = list(set(wine_data_with_price['taster_twitter_handle']))\n",
    "twitter_accounts = [unicodedata.normalize(\"NFKD\", i)[1:] for i in twitter_accounts if '@' in i]\n",
    "twitter_accounts"
   ]
  },
  {
   "cell_type": "code",
   "execution_count": 37,
   "metadata": {},
   "outputs": [
    {
     "data": {
      "text/plain": [
       "{'@vossroger': 1035,\n",
       " '@worldwineguys': 2612,\n",
       " '@wawinereport': 10288,\n",
       " '@JoeCz': 4724,\n",
       " '@vboone': 2298,\n",
       " '@paulgwine ': 3214,\n",
       " '@gordone_cellars': 1001,\n",
       " '@laurbuzz': 1936,\n",
       " '@kerinokeefe': 6195,\n",
       " '@wineschach': 1445,\n",
       " '@bkfiona': 259,\n",
       " '@AnneInVino': 6868,\n",
       " '@suskostrzewa': 1924,\n",
       " '@mattkettmann': 2539,\n",
       " '@ckpickard': 3722}"
      ]
     },
     "execution_count": 37,
     "metadata": {},
     "output_type": "execute_result"
    }
   ],
   "source": [
    "twitter_dict = dict()\n",
    "for i in twitter_accounts:\n",
    "    req = requests.get(twitter_url_base + i)\n",
    "    if req.status_code != 200:\n",
    "        print(f'Unexpected status code {req.status_code}. Stopping parse')\n",
    "    soup = BeautifulSoup(req.text, 'lxml')\n",
    "    if soup.text == '[]':\n",
    "        print('Twitter name does not exist, check manually: ', i)\n",
    "        continue\n",
    "    twitter_dict['@' + i] = json.loads(soup.find('body').string)[0]['followers_count']\n",
    "twitter_dict"
   ]
  },
  {
   "cell_type": "code",
   "execution_count": 38,
   "metadata": {},
   "outputs": [
    {
     "name": "stderr",
     "output_type": "stream",
     "text": [
      "C:\\Users\\jekat\\Anaconda3\\lib\\site-packages\\ipykernel_launcher.py:2: SettingWithCopyWarning: \n",
      "A value is trying to be set on a copy of a slice from a DataFrame.\n",
      "Try using .loc[row_indexer,col_indexer] = value instead\n",
      "\n",
      "See the caveats in the documentation: http://pandas.pydata.org/pandas-docs/stable/user_guide/indexing.html#returning-a-view-versus-a-copy\n",
      "  \n",
      "C:\\Users\\jekat\\Anaconda3\\lib\\site-packages\\ipykernel_launcher.py:3: SettingWithCopyWarning: \n",
      "A value is trying to be set on a copy of a slice from a DataFrame.\n",
      "Try using .loc[row_indexer,col_indexer] = value instead\n",
      "\n",
      "See the caveats in the documentation: http://pandas.pydata.org/pandas-docs/stable/user_guide/indexing.html#returning-a-view-versus-a-copy\n",
      "  This is separate from the ipykernel package so we can avoid doing imports until\n",
      "C:\\Users\\jekat\\Anaconda3\\lib\\site-packages\\ipykernel_launcher.py:4: SettingWithCopyWarning: \n",
      "A value is trying to be set on a copy of a slice from a DataFrame.\n",
      "Try using .loc[row_indexer,col_indexer] = value instead\n",
      "\n",
      "See the caveats in the documentation: http://pandas.pydata.org/pandas-docs/stable/user_guide/indexing.html#returning-a-view-versus-a-copy\n",
      "  after removing the cwd from sys.path.\n"
     ]
    }
   ],
   "source": [
    "# Add Twitter followers count to data, fill all records with no Twitter accounts with 0\n",
    "wine_data_with_price['twitter_follower_count'] = np.nan\n",
    "wine_data_with_price['twitter_follower_count'] = wine_data_with_price['twitter_follower_count'].fillna(wine_data_with_price['taster_twitter_handle'].map(twitter_dict))\n",
    "wine_data_with_price['twitter_follower_count'] = wine_data_with_price['twitter_follower_count'].fillna(0)"
   ]
  },
  {
   "cell_type": "markdown",
   "metadata": {},
   "source": [
    "### 4.2 Analysis of keywords in descriptions<a class=\"anchor\" id=\"description-keywords\">\n",
    "[Back to Table of Contents](#toc)"
   ]
  },
  {
   "cell_type": "code",
   "execution_count": 39,
   "metadata": {},
   "outputs": [],
   "source": [
    "# pip install nltk==3.3\n",
    "# wordcloud installed through prompt\n",
    "# conda install -c conda-forge wordcloud"
   ]
  },
  {
   "cell_type": "code",
   "execution_count": 40,
   "metadata": {},
   "outputs": [],
   "source": [
    "import nltk\n",
    "import string  \n",
    "# nltk.download('stopwords')\n",
    "from nltk.corpus import stopwords\n",
    "import re\n",
    "\n",
    "# from nltk.corpus import webtext\n",
    "# from nltk.probability import FreqDist\n",
    "from wordcloud import WordCloud\n",
    "from nltk.stem import PorterStemmer "
   ]
  },
  {
   "cell_type": "code",
   "execution_count": 41,
   "metadata": {},
   "outputs": [
    {
     "name": "stderr",
     "output_type": "stream",
     "text": [
      "C:\\Users\\jekat\\Anaconda3\\lib\\site-packages\\ipykernel_launcher.py:3: SettingWithCopyWarning: \n",
      "A value is trying to be set on a copy of a slice from a DataFrame.\n",
      "Try using .loc[row_indexer,col_indexer] = value instead\n",
      "\n",
      "See the caveats in the documentation: http://pandas.pydata.org/pandas-docs/stable/user_guide/indexing.html#returning-a-view-versus-a-copy\n",
      "  This is separate from the ipykernel package so we can avoid doing imports until\n",
      "C:\\Users\\jekat\\Anaconda3\\lib\\site-packages\\ipykernel_launcher.py:4: SettingWithCopyWarning: \n",
      "A value is trying to be set on a copy of a slice from a DataFrame.\n",
      "Try using .loc[row_indexer,col_indexer] = value instead\n",
      "\n",
      "See the caveats in the documentation: http://pandas.pydata.org/pandas-docs/stable/user_guide/indexing.html#returning-a-view-versus-a-copy\n",
      "  after removing the cwd from sys.path.\n"
     ]
    },
    {
     "data": {
      "text/html": [
       "<div>\n",
       "<style scoped>\n",
       "    .dataframe tbody tr th:only-of-type {\n",
       "        vertical-align: middle;\n",
       "    }\n",
       "\n",
       "    .dataframe tbody tr th {\n",
       "        vertical-align: top;\n",
       "    }\n",
       "\n",
       "    .dataframe thead th {\n",
       "        text-align: right;\n",
       "    }\n",
       "</style>\n",
       "<table border=\"1\" class=\"dataframe\">\n",
       "  <thead>\n",
       "    <tr style=\"text-align: right;\">\n",
       "      <th></th>\n",
       "      <th>country</th>\n",
       "      <th>description</th>\n",
       "      <th>designation</th>\n",
       "      <th>points</th>\n",
       "      <th>price</th>\n",
       "      <th>province</th>\n",
       "      <th>region_1</th>\n",
       "      <th>region_2</th>\n",
       "      <th>taster_name</th>\n",
       "      <th>taster_twitter_handle</th>\n",
       "      <th>...</th>\n",
       "      <th>is_imputed_country</th>\n",
       "      <th>is_imputed_province</th>\n",
       "      <th>is_imputed_designation</th>\n",
       "      <th>is_imputed_region_1</th>\n",
       "      <th>is_imputed_region_2</th>\n",
       "      <th>is_imputed_variety</th>\n",
       "      <th>is_imputed_twitter</th>\n",
       "      <th>is_imputed_taster_name</th>\n",
       "      <th>twitter_follower_count</th>\n",
       "      <th>description_divided</th>\n",
       "    </tr>\n",
       "  </thead>\n",
       "  <tbody>\n",
       "    <tr>\n",
       "      <td>1</td>\n",
       "      <td>Portugal</td>\n",
       "      <td>This is ripe and fruity, a wine that is smooth...</td>\n",
       "      <td>Avidagos</td>\n",
       "      <td>87</td>\n",
       "      <td>15.0</td>\n",
       "      <td>Douro</td>\n",
       "      <td>Unknown region_1</td>\n",
       "      <td>Unknown region_2</td>\n",
       "      <td>Roger Voss</td>\n",
       "      <td>@vossroger</td>\n",
       "      <td>...</td>\n",
       "      <td>False</td>\n",
       "      <td>False</td>\n",
       "      <td>False</td>\n",
       "      <td>True</td>\n",
       "      <td>True</td>\n",
       "      <td>False</td>\n",
       "      <td>False</td>\n",
       "      <td>False</td>\n",
       "      <td>1035.0</td>\n",
       "      <td>[this, is, ripe, and, fruity, a, wine, that, i...</td>\n",
       "    </tr>\n",
       "    <tr>\n",
       "      <td>2</td>\n",
       "      <td>US</td>\n",
       "      <td>Tart and snappy, the flavors of lime flesh and...</td>\n",
       "      <td>Unknown designation</td>\n",
       "      <td>87</td>\n",
       "      <td>14.0</td>\n",
       "      <td>Oregon</td>\n",
       "      <td>Willamette Valley</td>\n",
       "      <td>Willamette Valley</td>\n",
       "      <td>Paul Gregutt</td>\n",
       "      <td>@paulgwine</td>\n",
       "      <td>...</td>\n",
       "      <td>False</td>\n",
       "      <td>False</td>\n",
       "      <td>True</td>\n",
       "      <td>False</td>\n",
       "      <td>False</td>\n",
       "      <td>False</td>\n",
       "      <td>False</td>\n",
       "      <td>False</td>\n",
       "      <td>0.0</td>\n",
       "      <td>[tart, and, snappy, the, flavors, of, lime, fl...</td>\n",
       "    </tr>\n",
       "    <tr>\n",
       "      <td>3</td>\n",
       "      <td>US</td>\n",
       "      <td>Pineapple rind, lemon pith and orange blossom ...</td>\n",
       "      <td>Reserve Late Harvest</td>\n",
       "      <td>87</td>\n",
       "      <td>13.0</td>\n",
       "      <td>Michigan</td>\n",
       "      <td>Lake Michigan Shore</td>\n",
       "      <td>Unknown region_2</td>\n",
       "      <td>Alexander Peartree</td>\n",
       "      <td>Unknown twitter</td>\n",
       "      <td>...</td>\n",
       "      <td>False</td>\n",
       "      <td>False</td>\n",
       "      <td>False</td>\n",
       "      <td>False</td>\n",
       "      <td>True</td>\n",
       "      <td>False</td>\n",
       "      <td>True</td>\n",
       "      <td>False</td>\n",
       "      <td>0.0</td>\n",
       "      <td>[pineapple, rind, lemon, pith, and, orange, bl...</td>\n",
       "    </tr>\n",
       "    <tr>\n",
       "      <td>4</td>\n",
       "      <td>US</td>\n",
       "      <td>Much like the regular bottling from 2012, this...</td>\n",
       "      <td>Vintner's Reserve Wild Child Block</td>\n",
       "      <td>87</td>\n",
       "      <td>65.0</td>\n",
       "      <td>Oregon</td>\n",
       "      <td>Willamette Valley</td>\n",
       "      <td>Willamette Valley</td>\n",
       "      <td>Paul Gregutt</td>\n",
       "      <td>@paulgwine</td>\n",
       "      <td>...</td>\n",
       "      <td>False</td>\n",
       "      <td>False</td>\n",
       "      <td>False</td>\n",
       "      <td>False</td>\n",
       "      <td>False</td>\n",
       "      <td>False</td>\n",
       "      <td>False</td>\n",
       "      <td>False</td>\n",
       "      <td>0.0</td>\n",
       "      <td>[much, like, the, regular, bottling, from, thi...</td>\n",
       "    </tr>\n",
       "    <tr>\n",
       "      <td>5</td>\n",
       "      <td>Spain</td>\n",
       "      <td>Blackberry and raspberry aromas show a typical...</td>\n",
       "      <td>Ars In Vitro</td>\n",
       "      <td>87</td>\n",
       "      <td>15.0</td>\n",
       "      <td>Northern Spain</td>\n",
       "      <td>Navarra</td>\n",
       "      <td>Unknown region_2</td>\n",
       "      <td>Michael Schachner</td>\n",
       "      <td>@wineschach</td>\n",
       "      <td>...</td>\n",
       "      <td>False</td>\n",
       "      <td>False</td>\n",
       "      <td>False</td>\n",
       "      <td>False</td>\n",
       "      <td>True</td>\n",
       "      <td>False</td>\n",
       "      <td>False</td>\n",
       "      <td>False</td>\n",
       "      <td>1445.0</td>\n",
       "      <td>[blackberry, and, raspberry, aromas, show, a, ...</td>\n",
       "    </tr>\n",
       "  </tbody>\n",
       "</table>\n",
       "<p>5 rows × 24 columns</p>\n",
       "</div>"
      ],
      "text/plain": [
       "    country                                        description  \\\n",
       "1  Portugal  This is ripe and fruity, a wine that is smooth...   \n",
       "2        US  Tart and snappy, the flavors of lime flesh and...   \n",
       "3        US  Pineapple rind, lemon pith and orange blossom ...   \n",
       "4        US  Much like the regular bottling from 2012, this...   \n",
       "5     Spain  Blackberry and raspberry aromas show a typical...   \n",
       "\n",
       "                          designation  points  price        province  \\\n",
       "1                            Avidagos      87   15.0           Douro   \n",
       "2                 Unknown designation      87   14.0          Oregon   \n",
       "3                Reserve Late Harvest      87   13.0        Michigan   \n",
       "4  Vintner's Reserve Wild Child Block      87   65.0          Oregon   \n",
       "5                        Ars In Vitro      87   15.0  Northern Spain   \n",
       "\n",
       "              region_1           region_2         taster_name  \\\n",
       "1     Unknown region_1   Unknown region_2          Roger Voss   \n",
       "2    Willamette Valley  Willamette Valley        Paul Gregutt   \n",
       "3  Lake Michigan Shore   Unknown region_2  Alexander Peartree   \n",
       "4    Willamette Valley  Willamette Valley        Paul Gregutt   \n",
       "5              Navarra   Unknown region_2   Michael Schachner   \n",
       "\n",
       "  taster_twitter_handle  ... is_imputed_country is_imputed_province  \\\n",
       "1            @vossroger  ...              False               False   \n",
       "2           @paulgwine   ...              False               False   \n",
       "3       Unknown twitter  ...              False               False   \n",
       "4           @paulgwine   ...              False               False   \n",
       "5           @wineschach  ...              False               False   \n",
       "\n",
       "  is_imputed_designation is_imputed_region_1  is_imputed_region_2  \\\n",
       "1                  False                True                 True   \n",
       "2                   True               False                False   \n",
       "3                  False               False                 True   \n",
       "4                  False               False                False   \n",
       "5                  False               False                 True   \n",
       "\n",
       "   is_imputed_variety  is_imputed_twitter  is_imputed_taster_name  \\\n",
       "1               False               False                   False   \n",
       "2               False               False                   False   \n",
       "3               False                True                   False   \n",
       "4               False               False                   False   \n",
       "5               False               False                   False   \n",
       "\n",
       "   twitter_follower_count                                description_divided  \n",
       "1                  1035.0  [this, is, ripe, and, fruity, a, wine, that, i...  \n",
       "2                     0.0  [tart, and, snappy, the, flavors, of, lime, fl...  \n",
       "3                     0.0  [pineapple, rind, lemon, pith, and, orange, bl...  \n",
       "4                     0.0  [much, like, the, regular, bottling, from, thi...  \n",
       "5                  1445.0  [blackberry, and, raspberry, aromas, show, a, ...  \n",
       "\n",
       "[5 rows x 24 columns]"
      ]
     },
     "execution_count": 41,
     "metadata": {},
     "output_type": "execute_result"
    }
   ],
   "source": [
    "# Create column with cleaned divided description\n",
    "symbols_to_clean = string.punctuation + '¬•–––—–”“´’‘…' + string.digits\n",
    "wine_data_with_price['description_divided'] = wine_data_with_price['description'].apply(lambda i: i.lower().translate(str.maketrans('', '', symbols_to_clean)))\n",
    "wine_data_with_price['description_divided'] = wine_data_with_price['description_divided'].apply(lambda i: i.split())\n",
    "wine_data_with_price.head()"
   ]
  },
  {
   "cell_type": "code",
   "execution_count": 42,
   "metadata": {},
   "outputs": [
    {
     "data": {
      "text/plain": [
       "1    [this, is, ripe, and, fruity, a, wine, that, i...\n",
       "2    [tart, and, snappy, the, flavors, of, lime, fl...\n",
       "3    [pineapple, rind, lemon, pith, and, orange, bl...\n",
       "Name: description_divided, dtype: object"
      ]
     },
     "execution_count": 42,
     "metadata": {},
     "output_type": "execute_result"
    }
   ],
   "source": [
    "# Create list of descriptions\n",
    "descriptions = wine_data_with_price['description_divided']\n",
    "descriptions[:3]"
   ]
  },
  {
   "cell_type": "code",
   "execution_count": 43,
   "metadata": {},
   "outputs": [
    {
     "data": {
      "text/plain": [
       "['this', 'is', 'ripe', 'and', 'fruity', 'a', 'wine', 'that', 'is', 'smooth']"
      ]
     },
     "execution_count": 43,
     "metadata": {},
     "output_type": "execute_result"
    }
   ],
   "source": [
    "# Make list of words from descriptions\n",
    "all_words = []\n",
    "for i in descriptions:\n",
    "    all_words += i\n",
    "all_words[:10]"
   ]
  },
  {
   "cell_type": "code",
   "execution_count": 44,
   "metadata": {},
   "outputs": [
    {
     "name": "stdout",
     "output_type": "stream",
     "text": [
      "Examples of stopwords: ['t', 'what', 'havent', 'doing', 'further', 'dont', 'from', 'and', 's', 'should', 'shant', 'o', 'theirs', 'were', 'he']\n",
      "Examples of left words ['ripe', 'fruity', 'wine', 'smooth', 'still', 'structured', 'firm', 'tannins', 'filled', 'juicy', 'red', 'berry', 'fruits', 'freshened', 'acidity']\n"
     ]
    }
   ],
   "source": [
    "# Remove stopwords (make same punctuation removal from them)\n",
    "stopWords = [i.lower().translate(str.maketrans('', '', symbols_to_clean)) for i in stopwords.words('english')]\n",
    "stopWords = set(stopWords)\n",
    "print('Examples of stopwords:', list(stopWords)[:15])\n",
    "\n",
    "all_words = [i for i in all_words if not i in stopWords]\n",
    "print('Examples of left words', all_words[:15])"
   ]
  },
  {
   "cell_type": "markdown",
   "metadata": {},
   "source": [
    "To improve word matching let's perform stemming of words: convert, for example 'wine' and 'wines' into 'wine'."
   ]
  },
  {
   "cell_type": "code",
   "execution_count": 45,
   "metadata": {},
   "outputs": [],
   "source": [
    "# Perform word stemming (idea from https://www.geeksforgeeks.org/python-stemming-words-with-nltk/)\n",
    "# Create dictionary to make opposite conversion\n",
    "ps = PorterStemmer() \n",
    "all_words_stemmed_dict = dict(zip(set(all_words), [ps.stem(i) for i in list(set(all_words))]))\n",
    "# all_words_stemmed_dict"
   ]
  },
  {
   "cell_type": "code",
   "execution_count": 46,
   "metadata": {},
   "outputs": [
    {
     "data": {
      "text/html": [
       "<div>\n",
       "<style scoped>\n",
       "    .dataframe tbody tr th:only-of-type {\n",
       "        vertical-align: middle;\n",
       "    }\n",
       "\n",
       "    .dataframe tbody tr th {\n",
       "        vertical-align: top;\n",
       "    }\n",
       "\n",
       "    .dataframe thead th {\n",
       "        text-align: right;\n",
       "    }\n",
       "</style>\n",
       "<table border=\"1\" class=\"dataframe\">\n",
       "  <thead>\n",
       "    <tr style=\"text-align: right;\">\n",
       "      <th></th>\n",
       "      <th>word_stemmed</th>\n",
       "      <th>frequency</th>\n",
       "    </tr>\n",
       "  </thead>\n",
       "  <tbody>\n",
       "    <tr>\n",
       "      <td>2</td>\n",
       "      <td>wine</td>\n",
       "      <td>74579</td>\n",
       "    </tr>\n",
       "    <tr>\n",
       "      <td>22</td>\n",
       "      <td>flavor</td>\n",
       "      <td>66948</td>\n",
       "    </tr>\n",
       "    <tr>\n",
       "      <td>12</td>\n",
       "      <td>fruit</td>\n",
       "      <td>53471</td>\n",
       "    </tr>\n",
       "    <tr>\n",
       "      <td>52</td>\n",
       "      <td>finish</td>\n",
       "      <td>38962</td>\n",
       "    </tr>\n",
       "    <tr>\n",
       "      <td>39</td>\n",
       "      <td>aroma</td>\n",
       "      <td>38838</td>\n",
       "    </tr>\n",
       "    <tr>\n",
       "      <td>...</td>\n",
       "      <td>...</td>\n",
       "      <td>...</td>\n",
       "    </tr>\n",
       "    <tr>\n",
       "      <td>21447</td>\n",
       "      <td>centurion</td>\n",
       "      <td>1</td>\n",
       "    </tr>\n",
       "    <tr>\n",
       "      <td>21448</td>\n",
       "      <td>harbor</td>\n",
       "      <td>1</td>\n",
       "    </tr>\n",
       "    <tr>\n",
       "      <td>21449</td>\n",
       "      <td>cous</td>\n",
       "      <td>1</td>\n",
       "    </tr>\n",
       "    <tr>\n",
       "      <td>21450</td>\n",
       "      <td>nomalolact</td>\n",
       "      <td>1</td>\n",
       "    </tr>\n",
       "    <tr>\n",
       "      <td>33222</td>\n",
       "      <td>precellar</td>\n",
       "      <td>1</td>\n",
       "    </tr>\n",
       "  </tbody>\n",
       "</table>\n",
       "<p>33223 rows × 2 columns</p>\n",
       "</div>"
      ],
      "text/plain": [
       "      word_stemmed  frequency\n",
       "2             wine      74579\n",
       "22          flavor      66948\n",
       "12           fruit      53471\n",
       "52          finish      38962\n",
       "39           aroma      38838\n",
       "...            ...        ...\n",
       "21447    centurion          1\n",
       "21448       harbor          1\n",
       "21449         cous          1\n",
       "21450   nomalolact          1\n",
       "33222    precellar          1\n",
       "\n",
       "[33223 rows x 2 columns]"
      ]
     },
     "execution_count": 46,
     "metadata": {},
     "output_type": "execute_result"
    }
   ],
   "source": [
    "# Create frequencies of stemmed words\n",
    "fdist = nltk.FreqDist([ps.stem(i) for i in all_words])\n",
    "keyword_freq = pd.DataFrame(fdist.items(), columns=['word_stemmed', 'frequency'])\n",
    "keyword_freq.sort_values('frequency', ascending = False)"
   ]
  },
  {
   "cell_type": "code",
   "execution_count": 47,
   "metadata": {},
   "outputs": [
    {
     "data": {
      "text/plain": [
       "count    33223.000000\n",
       "mean        90.169792\n",
       "std       1028.442791\n",
       "min          1.000000\n",
       "25%          1.000000\n",
       "50%          2.000000\n",
       "75%          6.000000\n",
       "max      74579.000000\n",
       "Name: frequency, dtype: float64"
      ]
     },
     "execution_count": 47,
     "metadata": {},
     "output_type": "execute_result"
    }
   ],
   "source": [
    "# Take a look on frequencies\n",
    "keyword_freq['frequency'].describe()"
   ]
  },
  {
   "cell_type": "code",
   "execution_count": 48,
   "metadata": {},
   "outputs": [
    {
     "data": {
      "text/plain": [
       "0.90      42.00\n",
       "0.91      52.00\n",
       "0.92      66.00\n",
       "0.93      86.00\n",
       "0.94     117.00\n",
       "0.95     168.00\n",
       "0.96     252.00\n",
       "0.97     389.00\n",
       "0.98     692.68\n",
       "0.99    1686.46\n",
       "Name: frequency, dtype: float64"
      ]
     },
     "execution_count": 48,
     "metadata": {},
     "output_type": "execute_result"
    }
   ],
   "source": [
    "# Take a look on frequency quantiles\n",
    "keyword_freq['frequency'].quantile(np.array(range(90, 100)) / 100)"
   ]
  },
  {
   "cell_type": "markdown",
   "metadata": {},
   "source": [
    "There are 33223 unique stemmed words in descriptions, 90% of them appear up to 42 times in descriptions. Take closer look on words: make frequency wordclouds and histograms."
   ]
  },
  {
   "cell_type": "code",
   "execution_count": 49,
   "metadata": {},
   "outputs": [
    {
     "data": {
      "image/png": "[encoded data removed]",
      "text/plain": [
       "<Figure size 1440x360 with 2 Axes>"
      ]
     },
     "metadata": {
      "needs_background": "light"
     },
     "output_type": "display_data"
    }
   ],
   "source": [
    "# Plotting the wordclouds\n",
    "fig, (ax1, ax2) = plt.subplots(1, 2, figsize=(20,5))\n",
    "fig.suptitle('Word clouds for words in wine descriptions')\n",
    "\n",
    "wcloud = WordCloud().generate_from_frequencies(dict([(m, n) for m, n in fdist.items() if n > 5000]))\n",
    "ax1.imshow(wcloud, interpolation=\"bilinear\")\n",
    "ax1.axis(\"off\")\n",
    "ax1.title.set_text('Word in > 5000 descriptions')\n",
    "\n",
    "wcloud = WordCloud().generate_from_frequencies(dict([(m, n) for m, n in fdist.items() if n == 1]))\n",
    "ax2.imshow(wcloud, interpolation=\"bilinear\")\n",
    "ax2.axis(\"off\")\n",
    "ax2.title.set_text('Word in only 1 description')"
   ]
  },
  {
   "cell_type": "code",
   "execution_count": 50,
   "metadata": {},
   "outputs": [
    {
     "data": {
      "image/png": "[encoded data removed]",
      "text/plain": [
       "<Figure size 1440x360 with 2 Axes>"
      ]
     },
     "metadata": {
      "needs_background": "light"
     },
     "output_type": "display_data"
    }
   ],
   "source": [
    "# Plotting the histograms\n",
    "k = 5000\n",
    "\n",
    "fig, (ax1, ax2) = plt.subplots(1, 2, figsize = (20,5))\n",
    "fig.suptitle('Histograms of word frequencies')\n",
    "\n",
    "ax1.hist(keyword_freq[keyword_freq['frequency'] < k]['frequency'], bins = min(k - 1, 100));\n",
    "ax1.title.set_text('Words with frequencies < {} (total {} words)'.format(k, keyword_freq[keyword_freq['frequency'] < k]['frequency'].count()))\n",
    "\n",
    "ax2.hist(keyword_freq[keyword_freq['frequency'] >= k]['frequency'], bins = keyword_freq[keyword_freq['frequency'] >= k]['frequency'].count() - 1);\n",
    "ax2.title.set_text('Words with frequencies >= {} (total {} words)'.format(k, keyword_freq[keyword_freq['frequency'] >= k]['frequency'].count()))"
   ]
  },
  {
   "cell_type": "markdown",
   "metadata": {},
   "source": [
    "There are a lot of words appearing in few descriptions. Let's concentrate on more frequent words (expert choice of >=5000 appearances in descriptions) and create dummy variables for them: whether wine description contains the word or not.\n",
    "(Word count is reduced in order to decrease computational time - 111 words selected)"
   ]
  },
  {
   "cell_type": "code",
   "execution_count": 51,
   "metadata": {},
   "outputs": [],
   "source": [
    "# Filter words of interest\n",
    "words_set = set(keyword_freq[keyword_freq['frequency'] >= k]['word_stemmed'])"
   ]
  },
  {
   "cell_type": "code",
   "execution_count": 52,
   "metadata": {},
   "outputs": [],
   "source": [
    "# Create stemmed word dictionary only of words of interest\n",
    "words_set_dict = dict()\n",
    "for key, value in all_words_stemmed_dict.items():\n",
    "    if value in words_set:\n",
    "        words_set_dict[key] = value"
   ]
  },
  {
   "cell_type": "code",
   "execution_count": 53,
   "metadata": {},
   "outputs": [
    {
     "name": "stderr",
     "output_type": "stream",
     "text": [
      "C:\\Users\\jekat\\Anaconda3\\lib\\site-packages\\ipykernel_launcher.py:3: SettingWithCopyWarning: \n",
      "A value is trying to be set on a copy of a slice from a DataFrame.\n",
      "Try using .loc[row_indexer,col_indexer] = value instead\n",
      "\n",
      "See the caveats in the documentation: http://pandas.pydata.org/pandas-docs/stable/user_guide/indexing.html#returning-a-view-versus-a-copy\n",
      "  This is separate from the ipykernel package so we can avoid doing imports until\n",
      "C:\\Users\\jekat\\Anaconda3\\lib\\site-packages\\ipykernel_launcher.py:6: SettingWithCopyWarning: \n",
      "A value is trying to be set on a copy of a slice from a DataFrame\n",
      "\n",
      "See the caveats in the documentation: http://pandas.pydata.org/pandas-docs/stable/user_guide/indexing.html#returning-a-view-versus-a-copy\n",
      "  \n",
      "C:\\Users\\jekat\\Anaconda3\\lib\\site-packages\\pandas\\core\\generic.py:9114: SettingWithCopyWarning: \n",
      "A value is trying to be set on a copy of a slice from a DataFrame\n",
      "\n",
      "See the caveats in the documentation: http://pandas.pydata.org/pandas-docs/stable/user_guide/indexing.html#returning-a-view-versus-a-copy\n",
      "  self._update_inplace(new_data)\n",
      "C:\\Users\\jekat\\Anaconda3\\lib\\site-packages\\IPython\\core\\magics\\execution.py:1310: SettingWithCopyWarning: \n",
      "A value is trying to be set on a copy of a slice from a DataFrame\n",
      "\n",
      "See the caveats in the documentation: http://pandas.pydata.org/pandas-docs/stable/user_guide/indexing.html#returning-a-view-versus-a-copy\n",
      "  exec(code, glob, local_ns)\n"
     ]
    },
    {
     "name": "stdout",
     "output_type": "stream",
     "text": [
      "Wall time: 38.6 s\n"
     ]
    }
   ],
   "source": [
    "%%time\n",
    "# Create dummy columns: 0/1\n",
    "for i in list(words_set):\n",
    "    wine_data_with_price['dummy_desc_' + i] = 0\n",
    "    for key, value in words_set_dict.items():\n",
    "        if value == i:\n",
    "            wine_data_with_price['dummy_desc_' + i][wine_data_with_price['description_divided'].apply(lambda x: key in x)] = 1\n",
    "# 31 sec for 111 words"
   ]
  },
  {
   "cell_type": "code",
   "execution_count": 54,
   "metadata": {},
   "outputs": [
    {
     "data": {
      "text/html": [
       "<div>\n",
       "<style scoped>\n",
       "    .dataframe tbody tr th:only-of-type {\n",
       "        vertical-align: middle;\n",
       "    }\n",
       "\n",
       "    .dataframe tbody tr th {\n",
       "        vertical-align: top;\n",
       "    }\n",
       "\n",
       "    .dataframe thead th {\n",
       "        text-align: right;\n",
       "    }\n",
       "</style>\n",
       "<table border=\"1\" class=\"dataframe\">\n",
       "  <thead>\n",
       "    <tr style=\"text-align: right;\">\n",
       "      <th></th>\n",
       "      <th>country</th>\n",
       "      <th>description</th>\n",
       "      <th>designation</th>\n",
       "      <th>points</th>\n",
       "      <th>price</th>\n",
       "      <th>province</th>\n",
       "      <th>region_1</th>\n",
       "      <th>region_2</th>\n",
       "      <th>taster_name</th>\n",
       "      <th>taster_twitter_handle</th>\n",
       "      <th>...</th>\n",
       "      <th>dummy_desc_chocol</th>\n",
       "      <th>dummy_desc_note</th>\n",
       "      <th>dummy_desc_lime</th>\n",
       "      <th>dummy_desc_firm</th>\n",
       "      <th>dummy_desc_still</th>\n",
       "      <th>dummy_desc_delici</th>\n",
       "      <th>dummy_desc_berri</th>\n",
       "      <th>dummy_desc_feel</th>\n",
       "      <th>dummy_desc_year</th>\n",
       "      <th>dummy_desc_power</th>\n",
       "    </tr>\n",
       "  </thead>\n",
       "  <tbody>\n",
       "    <tr>\n",
       "      <td>1</td>\n",
       "      <td>Portugal</td>\n",
       "      <td>This is ripe and fruity, a wine that is smooth...</td>\n",
       "      <td>Avidagos</td>\n",
       "      <td>87</td>\n",
       "      <td>15.0</td>\n",
       "      <td>Douro</td>\n",
       "      <td>Unknown region_1</td>\n",
       "      <td>Unknown region_2</td>\n",
       "      <td>Roger Voss</td>\n",
       "      <td>@vossroger</td>\n",
       "      <td>...</td>\n",
       "      <td>0</td>\n",
       "      <td>0</td>\n",
       "      <td>0</td>\n",
       "      <td>1</td>\n",
       "      <td>1</td>\n",
       "      <td>0</td>\n",
       "      <td>1</td>\n",
       "      <td>0</td>\n",
       "      <td>0</td>\n",
       "      <td>0</td>\n",
       "    </tr>\n",
       "    <tr>\n",
       "      <td>2</td>\n",
       "      <td>US</td>\n",
       "      <td>Tart and snappy, the flavors of lime flesh and...</td>\n",
       "      <td>Unknown designation</td>\n",
       "      <td>87</td>\n",
       "      <td>14.0</td>\n",
       "      <td>Oregon</td>\n",
       "      <td>Willamette Valley</td>\n",
       "      <td>Willamette Valley</td>\n",
       "      <td>Paul Gregutt</td>\n",
       "      <td>@paulgwine</td>\n",
       "      <td>...</td>\n",
       "      <td>0</td>\n",
       "      <td>0</td>\n",
       "      <td>1</td>\n",
       "      <td>0</td>\n",
       "      <td>0</td>\n",
       "      <td>0</td>\n",
       "      <td>0</td>\n",
       "      <td>0</td>\n",
       "      <td>0</td>\n",
       "      <td>0</td>\n",
       "    </tr>\n",
       "    <tr>\n",
       "      <td>3</td>\n",
       "      <td>US</td>\n",
       "      <td>Pineapple rind, lemon pith and orange blossom ...</td>\n",
       "      <td>Reserve Late Harvest</td>\n",
       "      <td>87</td>\n",
       "      <td>13.0</td>\n",
       "      <td>Michigan</td>\n",
       "      <td>Lake Michigan Shore</td>\n",
       "      <td>Unknown region_2</td>\n",
       "      <td>Alexander Peartree</td>\n",
       "      <td>Unknown twitter</td>\n",
       "      <td>...</td>\n",
       "      <td>0</td>\n",
       "      <td>1</td>\n",
       "      <td>0</td>\n",
       "      <td>0</td>\n",
       "      <td>0</td>\n",
       "      <td>0</td>\n",
       "      <td>0</td>\n",
       "      <td>0</td>\n",
       "      <td>0</td>\n",
       "      <td>0</td>\n",
       "    </tr>\n",
       "    <tr>\n",
       "      <td>4</td>\n",
       "      <td>US</td>\n",
       "      <td>Much like the regular bottling from 2012, this...</td>\n",
       "      <td>Vintner's Reserve Wild Child Block</td>\n",
       "      <td>87</td>\n",
       "      <td>65.0</td>\n",
       "      <td>Oregon</td>\n",
       "      <td>Willamette Valley</td>\n",
       "      <td>Willamette Valley</td>\n",
       "      <td>Paul Gregutt</td>\n",
       "      <td>@paulgwine</td>\n",
       "      <td>...</td>\n",
       "      <td>0</td>\n",
       "      <td>0</td>\n",
       "      <td>0</td>\n",
       "      <td>0</td>\n",
       "      <td>0</td>\n",
       "      <td>0</td>\n",
       "      <td>0</td>\n",
       "      <td>0</td>\n",
       "      <td>0</td>\n",
       "      <td>0</td>\n",
       "    </tr>\n",
       "    <tr>\n",
       "      <td>5</td>\n",
       "      <td>Spain</td>\n",
       "      <td>Blackberry and raspberry aromas show a typical...</td>\n",
       "      <td>Ars In Vitro</td>\n",
       "      <td>87</td>\n",
       "      <td>15.0</td>\n",
       "      <td>Northern Spain</td>\n",
       "      <td>Navarra</td>\n",
       "      <td>Unknown region_2</td>\n",
       "      <td>Michael Schachner</td>\n",
       "      <td>@wineschach</td>\n",
       "      <td>...</td>\n",
       "      <td>0</td>\n",
       "      <td>0</td>\n",
       "      <td>0</td>\n",
       "      <td>0</td>\n",
       "      <td>0</td>\n",
       "      <td>0</td>\n",
       "      <td>0</td>\n",
       "      <td>0</td>\n",
       "      <td>0</td>\n",
       "      <td>0</td>\n",
       "    </tr>\n",
       "  </tbody>\n",
       "</table>\n",
       "<p>5 rows × 135 columns</p>\n",
       "</div>"
      ],
      "text/plain": [
       "    country                                        description  \\\n",
       "1  Portugal  This is ripe and fruity, a wine that is smooth...   \n",
       "2        US  Tart and snappy, the flavors of lime flesh and...   \n",
       "3        US  Pineapple rind, lemon pith and orange blossom ...   \n",
       "4        US  Much like the regular bottling from 2012, this...   \n",
       "5     Spain  Blackberry and raspberry aromas show a typical...   \n",
       "\n",
       "                          designation  points  price        province  \\\n",
       "1                            Avidagos      87   15.0           Douro   \n",
       "2                 Unknown designation      87   14.0          Oregon   \n",
       "3                Reserve Late Harvest      87   13.0        Michigan   \n",
       "4  Vintner's Reserve Wild Child Block      87   65.0          Oregon   \n",
       "5                        Ars In Vitro      87   15.0  Northern Spain   \n",
       "\n",
       "              region_1           region_2         taster_name  \\\n",
       "1     Unknown region_1   Unknown region_2          Roger Voss   \n",
       "2    Willamette Valley  Willamette Valley        Paul Gregutt   \n",
       "3  Lake Michigan Shore   Unknown region_2  Alexander Peartree   \n",
       "4    Willamette Valley  Willamette Valley        Paul Gregutt   \n",
       "5              Navarra   Unknown region_2   Michael Schachner   \n",
       "\n",
       "  taster_twitter_handle  ... dummy_desc_chocol dummy_desc_note  \\\n",
       "1            @vossroger  ...                 0               0   \n",
       "2           @paulgwine   ...                 0               0   \n",
       "3       Unknown twitter  ...                 0               1   \n",
       "4           @paulgwine   ...                 0               0   \n",
       "5           @wineschach  ...                 0               0   \n",
       "\n",
       "  dummy_desc_lime dummy_desc_firm  dummy_desc_still  dummy_desc_delici  \\\n",
       "1               0               1                 1                  0   \n",
       "2               1               0                 0                  0   \n",
       "3               0               0                 0                  0   \n",
       "4               0               0                 0                  0   \n",
       "5               0               0                 0                  0   \n",
       "\n",
       "   dummy_desc_berri  dummy_desc_feel  dummy_desc_year  dummy_desc_power  \n",
       "1                 1                0                0                 0  \n",
       "2                 0                0                0                 0  \n",
       "3                 0                0                0                 0  \n",
       "4                 0                0                0                 0  \n",
       "5                 0                0                0                 0  \n",
       "\n",
       "[5 rows x 135 columns]"
      ]
     },
     "execution_count": 54,
     "metadata": {},
     "output_type": "execute_result"
    }
   ],
   "source": [
    "wine_data_with_price.head()"
   ]
  },
  {
   "cell_type": "markdown",
   "metadata": {},
   "source": [
    "## 5. Dummies for categorical variables<a class=\"anchor\" id=\"dummies-for-categorical\">\n",
    "[Back to Table of Contents](#toc)"
   ]
  },
  {
   "cell_type": "markdown",
   "metadata": {},
   "source": [
    "Will try to include only column with less categories - country."
   ]
  },
  {
   "cell_type": "code",
   "execution_count": 55,
   "metadata": {},
   "outputs": [
    {
     "data": {
      "text/plain": [
       "['country', 'taster_name', 'taster_twitter_handle', 'variety']"
      ]
     },
     "execution_count": 55,
     "metadata": {},
     "output_type": "execute_result"
    }
   ],
   "source": [
    "# Choose suitable categorical columns and create for them dummy variables\n",
    "categorical_columns = wine_data_with_price.select_dtypes(include = 'object').columns.tolist()\n",
    "to_remove = ['description', 'designation', 'title', 'winery', 'has_missing_price', 'description_divided', \n",
    "             'region_1', 'region_2', 'province'\n",
    "#              ,'variety', 'taster_name', 'taster_twitter_handle'\n",
    "            ]\n",
    "for i in to_remove:\n",
    "    categorical_columns.remove(i)\n",
    "categorical_columns"
   ]
  },
  {
   "cell_type": "code",
   "execution_count": 56,
   "metadata": {},
   "outputs": [],
   "source": [
    "for i in categorical_columns:\n",
    "    temp = pd.get_dummies(wine_data_with_price[i], prefix = 'dummy_' + i)\n",
    "    temp.columns = temp.columns.str.replace(' ', '')\n",
    "    wine_data_with_price = pd.merge(wine_data_with_price, temp, left_index = True, right_index = True)"
   ]
  },
  {
   "cell_type": "code",
   "execution_count": 57,
   "metadata": {},
   "outputs": [
    {
     "data": {
      "text/html": [
       "<div>\n",
       "<style scoped>\n",
       "    .dataframe tbody tr th:only-of-type {\n",
       "        vertical-align: middle;\n",
       "    }\n",
       "\n",
       "    .dataframe tbody tr th {\n",
       "        vertical-align: top;\n",
       "    }\n",
       "\n",
       "    .dataframe thead th {\n",
       "        text-align: right;\n",
       "    }\n",
       "</style>\n",
       "<table border=\"1\" class=\"dataframe\">\n",
       "  <thead>\n",
       "    <tr style=\"text-align: right;\">\n",
       "      <th></th>\n",
       "      <th>country</th>\n",
       "      <th>description</th>\n",
       "      <th>designation</th>\n",
       "      <th>points</th>\n",
       "      <th>price</th>\n",
       "      <th>province</th>\n",
       "      <th>region_1</th>\n",
       "      <th>region_2</th>\n",
       "      <th>taster_name</th>\n",
       "      <th>taster_twitter_handle</th>\n",
       "      <th>...</th>\n",
       "      <th>dummy_variety_Xynisteri</th>\n",
       "      <th>dummy_variety_Yapincak</th>\n",
       "      <th>dummy_variety_Zibibbo</th>\n",
       "      <th>dummy_variety_Zierfandler</th>\n",
       "      <th>dummy_variety_Zierfandler-Rotgipfler</th>\n",
       "      <th>dummy_variety_Zinfandel</th>\n",
       "      <th>dummy_variety_Zlahtina</th>\n",
       "      <th>dummy_variety_Zweigelt</th>\n",
       "      <th>dummy_variety_Çalkarası</th>\n",
       "      <th>dummy_variety_Žilavka</th>\n",
       "    </tr>\n",
       "  </thead>\n",
       "  <tbody>\n",
       "    <tr>\n",
       "      <td>1</td>\n",
       "      <td>Portugal</td>\n",
       "      <td>This is ripe and fruity, a wine that is smooth...</td>\n",
       "      <td>Avidagos</td>\n",
       "      <td>87</td>\n",
       "      <td>15.0</td>\n",
       "      <td>Douro</td>\n",
       "      <td>Unknown region_1</td>\n",
       "      <td>Unknown region_2</td>\n",
       "      <td>Roger Voss</td>\n",
       "      <td>@vossroger</td>\n",
       "      <td>...</td>\n",
       "      <td>0</td>\n",
       "      <td>0</td>\n",
       "      <td>0</td>\n",
       "      <td>0</td>\n",
       "      <td>0</td>\n",
       "      <td>0</td>\n",
       "      <td>0</td>\n",
       "      <td>0</td>\n",
       "      <td>0</td>\n",
       "      <td>0</td>\n",
       "    </tr>\n",
       "    <tr>\n",
       "      <td>2</td>\n",
       "      <td>US</td>\n",
       "      <td>Tart and snappy, the flavors of lime flesh and...</td>\n",
       "      <td>Unknown designation</td>\n",
       "      <td>87</td>\n",
       "      <td>14.0</td>\n",
       "      <td>Oregon</td>\n",
       "      <td>Willamette Valley</td>\n",
       "      <td>Willamette Valley</td>\n",
       "      <td>Paul Gregutt</td>\n",
       "      <td>@paulgwine</td>\n",
       "      <td>...</td>\n",
       "      <td>0</td>\n",
       "      <td>0</td>\n",
       "      <td>0</td>\n",
       "      <td>0</td>\n",
       "      <td>0</td>\n",
       "      <td>0</td>\n",
       "      <td>0</td>\n",
       "      <td>0</td>\n",
       "      <td>0</td>\n",
       "      <td>0</td>\n",
       "    </tr>\n",
       "    <tr>\n",
       "      <td>3</td>\n",
       "      <td>US</td>\n",
       "      <td>Pineapple rind, lemon pith and orange blossom ...</td>\n",
       "      <td>Reserve Late Harvest</td>\n",
       "      <td>87</td>\n",
       "      <td>13.0</td>\n",
       "      <td>Michigan</td>\n",
       "      <td>Lake Michigan Shore</td>\n",
       "      <td>Unknown region_2</td>\n",
       "      <td>Alexander Peartree</td>\n",
       "      <td>Unknown twitter</td>\n",
       "      <td>...</td>\n",
       "      <td>0</td>\n",
       "      <td>0</td>\n",
       "      <td>0</td>\n",
       "      <td>0</td>\n",
       "      <td>0</td>\n",
       "      <td>0</td>\n",
       "      <td>0</td>\n",
       "      <td>0</td>\n",
       "      <td>0</td>\n",
       "      <td>0</td>\n",
       "    </tr>\n",
       "    <tr>\n",
       "      <td>4</td>\n",
       "      <td>US</td>\n",
       "      <td>Much like the regular bottling from 2012, this...</td>\n",
       "      <td>Vintner's Reserve Wild Child Block</td>\n",
       "      <td>87</td>\n",
       "      <td>65.0</td>\n",
       "      <td>Oregon</td>\n",
       "      <td>Willamette Valley</td>\n",
       "      <td>Willamette Valley</td>\n",
       "      <td>Paul Gregutt</td>\n",
       "      <td>@paulgwine</td>\n",
       "      <td>...</td>\n",
       "      <td>0</td>\n",
       "      <td>0</td>\n",
       "      <td>0</td>\n",
       "      <td>0</td>\n",
       "      <td>0</td>\n",
       "      <td>0</td>\n",
       "      <td>0</td>\n",
       "      <td>0</td>\n",
       "      <td>0</td>\n",
       "      <td>0</td>\n",
       "    </tr>\n",
       "    <tr>\n",
       "      <td>5</td>\n",
       "      <td>Spain</td>\n",
       "      <td>Blackberry and raspberry aromas show a typical...</td>\n",
       "      <td>Ars In Vitro</td>\n",
       "      <td>87</td>\n",
       "      <td>15.0</td>\n",
       "      <td>Northern Spain</td>\n",
       "      <td>Navarra</td>\n",
       "      <td>Unknown region_2</td>\n",
       "      <td>Michael Schachner</td>\n",
       "      <td>@wineschach</td>\n",
       "      <td>...</td>\n",
       "      <td>0</td>\n",
       "      <td>0</td>\n",
       "      <td>0</td>\n",
       "      <td>0</td>\n",
       "      <td>0</td>\n",
       "      <td>0</td>\n",
       "      <td>0</td>\n",
       "      <td>0</td>\n",
       "      <td>0</td>\n",
       "      <td>0</td>\n",
       "    </tr>\n",
       "  </tbody>\n",
       "</table>\n",
       "<p>5 rows × 911 columns</p>\n",
       "</div>"
      ],
      "text/plain": [
       "    country                                        description  \\\n",
       "1  Portugal  This is ripe and fruity, a wine that is smooth...   \n",
       "2        US  Tart and snappy, the flavors of lime flesh and...   \n",
       "3        US  Pineapple rind, lemon pith and orange blossom ...   \n",
       "4        US  Much like the regular bottling from 2012, this...   \n",
       "5     Spain  Blackberry and raspberry aromas show a typical...   \n",
       "\n",
       "                          designation  points  price        province  \\\n",
       "1                            Avidagos      87   15.0           Douro   \n",
       "2                 Unknown designation      87   14.0          Oregon   \n",
       "3                Reserve Late Harvest      87   13.0        Michigan   \n",
       "4  Vintner's Reserve Wild Child Block      87   65.0          Oregon   \n",
       "5                        Ars In Vitro      87   15.0  Northern Spain   \n",
       "\n",
       "              region_1           region_2         taster_name  \\\n",
       "1     Unknown region_1   Unknown region_2          Roger Voss   \n",
       "2    Willamette Valley  Willamette Valley        Paul Gregutt   \n",
       "3  Lake Michigan Shore   Unknown region_2  Alexander Peartree   \n",
       "4    Willamette Valley  Willamette Valley        Paul Gregutt   \n",
       "5              Navarra   Unknown region_2   Michael Schachner   \n",
       "\n",
       "  taster_twitter_handle  ... dummy_variety_Xynisteri dummy_variety_Yapincak  \\\n",
       "1            @vossroger  ...                       0                      0   \n",
       "2           @paulgwine   ...                       0                      0   \n",
       "3       Unknown twitter  ...                       0                      0   \n",
       "4           @paulgwine   ...                       0                      0   \n",
       "5           @wineschach  ...                       0                      0   \n",
       "\n",
       "  dummy_variety_Zibibbo dummy_variety_Zierfandler  \\\n",
       "1                     0                         0   \n",
       "2                     0                         0   \n",
       "3                     0                         0   \n",
       "4                     0                         0   \n",
       "5                     0                         0   \n",
       "\n",
       "   dummy_variety_Zierfandler-Rotgipfler  dummy_variety_Zinfandel  \\\n",
       "1                                     0                        0   \n",
       "2                                     0                        0   \n",
       "3                                     0                        0   \n",
       "4                                     0                        0   \n",
       "5                                     0                        0   \n",
       "\n",
       "   dummy_variety_Zlahtina  dummy_variety_Zweigelt  dummy_variety_Çalkarası  \\\n",
       "1                       0                       0                        0   \n",
       "2                       0                       0                        0   \n",
       "3                       0                       0                        0   \n",
       "4                       0                       0                        0   \n",
       "5                       0                       0                        0   \n",
       "\n",
       "   dummy_variety_Žilavka  \n",
       "1                      0  \n",
       "2                      0  \n",
       "3                      0  \n",
       "4                      0  \n",
       "5                      0  \n",
       "\n",
       "[5 rows x 911 columns]"
      ]
     },
     "execution_count": 57,
     "metadata": {},
     "output_type": "execute_result"
    }
   ],
   "source": [
    "wine_data_with_price.head()"
   ]
  },
  {
   "cell_type": "markdown",
   "metadata": {},
   "source": [
    "## 6. Predictions<a class=\"anchor\" id=\"predictions\">\n",
    "[Back to Table of Contents](#toc)"
   ]
  },
  {
   "cell_type": "code",
   "execution_count": 58,
   "metadata": {},
   "outputs": [],
   "source": [
    "from sklearn.preprocessing import MinMaxScaler\n",
    "from sklearn.model_selection import train_test_split\n",
    "from sklearn.linear_model import LinearRegression\n",
    "from sklearn.linear_model import SGDRegressor\n",
    "from sklearn.model_selection import GridSearchCV\n",
    "from sklearn.model_selection import StratifiedKFold\n",
    "\n",
    "random_state = 20191229"
   ]
  },
  {
   "cell_type": "code",
   "execution_count": 59,
   "metadata": {},
   "outputs": [],
   "source": [
    "# Helper function\n",
    "def MAPE(y, yhat, digits = 5):\n",
    "    ''' Calculate mean average percentage error\n",
    "    digits: count of digits for rounding'''\n",
    "    return round(np.mean(abs((y - yhat) / y)), digits)\n",
    "\n",
    "# From https://stackoverflow.com/questions/7941226/how-to-add-line-based-on-slope-and-intercept-in-matplotlib\n",
    "def abline(slope, intercept):\n",
    "    \"\"\"Plot a line from slope and intercept\"\"\"\n",
    "    axes = plt.gca()\n",
    "    x_vals = np.array(axes.get_xlim())\n",
    "    y_vals = intercept + slope * x_vals\n",
    "    plt.plot(x_vals, y_vals, '--')"
   ]
  },
  {
   "cell_type": "code",
   "execution_count": 60,
   "metadata": {},
   "outputs": [],
   "source": [
    "# Create column name objects\n",
    "X_columns = ['twitter_follower_count'] + [s for s in wine_data_with_price.columns if 'dummy_' in s]\n",
    "Y1_columns = 'points'\n",
    "Y2_columns = 'price'"
   ]
  },
  {
   "cell_type": "code",
   "execution_count": 61,
   "metadata": {},
   "outputs": [],
   "source": [
    "# Scale columns of interest\n",
    "scaler = MinMaxScaler()\n",
    "wine_data_with_price[X_columns] = scaler.fit_transform(wine_data_with_price[X_columns])"
   ]
  },
  {
   "cell_type": "code",
   "execution_count": 62,
   "metadata": {},
   "outputs": [],
   "source": [
    "# Test/train split: 0.8/0.2\n",
    "train_df, test_df = train_test_split(wine_data_with_price, test_size = 0.2, random_state = random_state)"
   ]
  },
  {
   "cell_type": "markdown",
   "metadata": {},
   "source": [
    "### 6.1. Points<a class=\"anchor\" id=\"points\">\n",
    "[Back to Table of Contents](#toc)"
   ]
  },
  {
   "cell_type": "code",
   "execution_count": 63,
   "metadata": {},
   "outputs": [],
   "source": [
    "X_train = train_df[X_columns].values\n",
    "y_train = train_df[Y1_columns].values\n",
    "\n",
    "X_test = test_df[X_columns].values\n",
    "y_test = test_df[Y1_columns].values"
   ]
  },
  {
   "cell_type": "code",
   "execution_count": 64,
   "metadata": {},
   "outputs": [
    {
     "name": "stdout",
     "output_type": "stream",
     "text": [
      "(96780, 888)\n",
      "(96780,)\n",
      "(24195, 888)\n",
      "(24195,)\n"
     ]
    }
   ],
   "source": [
    "print(X_train.shape)\n",
    "print(y_train.shape)\n",
    "print(X_test.shape)\n",
    "print(y_test.shape)"
   ]
  },
  {
   "cell_type": "markdown",
   "metadata": {},
   "source": [
    "#### 6.1.1. Linear regression with default settings"
   ]
  },
  {
   "cell_type": "code",
   "execution_count": 65,
   "metadata": {},
   "outputs": [
    {
     "data": {
      "text/plain": [
       "LinearRegression(copy_X=True, fit_intercept=True, n_jobs=None, normalize=False)"
      ]
     },
     "execution_count": 65,
     "metadata": {},
     "output_type": "execute_result"
    }
   ],
   "source": [
    "learner = LinearRegression()\n",
    "learner.fit(X_train, y_train)"
   ]
  },
  {
   "cell_type": "code",
   "execution_count": 66,
   "metadata": {},
   "outputs": [],
   "source": [
    "y_test_pred = learner.predict(X_test)\n",
    "y_train_pred = learner.predict(X_train)"
   ]
  },
  {
   "cell_type": "code",
   "execution_count": 67,
   "metadata": {},
   "outputs": [
    {
     "name": "stdout",
     "output_type": "stream",
     "text": [
      "740728.04346 0.01941\n"
     ]
    }
   ],
   "source": [
    "# Check MAPE\n",
    "MAPE_test = MAPE(y_test, y_test_pred)\n",
    "MAPE_train = MAPE(y_train, y_train_pred)\n",
    "print(MAPE_test, MAPE_train)"
   ]
  },
  {
   "cell_type": "code",
   "execution_count": 68,
   "metadata": {},
   "outputs": [
    {
     "name": "stdout",
     "output_type": "stream",
     "text": [
      "[88.59924316 87.85766602 89.78082275 ... 90.22668457 88.77850342\n",
      " 88.12786865] [88 88 94 ... 94 95 92]\n"
     ]
    }
   ],
   "source": [
    "# Check results visually\n",
    "print(y_test_pred, y_test)"
   ]
  },
  {
   "cell_type": "code",
   "execution_count": 69,
   "metadata": {},
   "outputs": [
    {
     "data": {
      "image/png": "[encoded data removed]",
      "text/plain": [
       "<Figure size 432x288 with 1 Axes>"
      ]
     },
     "metadata": {
      "needs_background": "light"
     },
     "output_type": "display_data"
    }
   ],
   "source": [
    "# Check results visually\n",
    "plt.scatter(y_test, y_test_pred, c = 'orange', alpha = 0.1)\n",
    "abline(1,0)\n",
    "plt.xlabel('Observations')\n",
    "plt.ylabel('Predictions')\n",
    "plt.show()"
   ]
  },
  {
   "cell_type": "markdown",
   "metadata": {},
   "source": [
    "Such a huge MAPE on test data is explained by few points having abnormally high predictions. This needs to be inspected more carefully in case model is chosen for usage."
   ]
  },
  {
   "cell_type": "code",
   "execution_count": 70,
   "metadata": {},
   "outputs": [
    {
     "data": {
      "image/png": "[encoded data removed]",
      "text/plain": [
       "<Figure size 432x288 with 1 Axes>"
      ]
     },
     "metadata": {
      "needs_background": "light"
     },
     "output_type": "display_data"
    }
   ],
   "source": [
    "# Check results visually\n",
    "plt.scatter(y_test, y_test_pred, c = 'orange', alpha = 0.1)\n",
    "abline(1,0)\n",
    "plt.xlabel('Observations')\n",
    "plt.ylabel('Predictions')\n",
    "plt.xlim(75, 105)\n",
    "plt.ylim(75, 105)\n",
    "plt.show()"
   ]
  },
  {
   "cell_type": "markdown",
   "metadata": {},
   "source": [
    "#### 6.1.2. Stochastic Gradient Descent Regressor with default settings"
   ]
  },
  {
   "cell_type": "code",
   "execution_count": 71,
   "metadata": {},
   "outputs": [],
   "source": [
    "# Stochastic Gradient Descent: SGDRegressor\n",
    "learner = SGDRegressor(random_state = random_state)"
   ]
  },
  {
   "cell_type": "code",
   "execution_count": 72,
   "metadata": {},
   "outputs": [
    {
     "data": {
      "text/plain": [
       "SGDRegressor(alpha=0.0001, average=False, early_stopping=False, epsilon=0.1,\n",
       "             eta0=0.01, fit_intercept=True, l1_ratio=0.15,\n",
       "             learning_rate='invscaling', loss='squared_loss', max_iter=1000,\n",
       "             n_iter_no_change=5, penalty='l2', power_t=0.25,\n",
       "             random_state=20191229, shuffle=True, tol=0.001,\n",
       "             validation_fraction=0.1, verbose=0, warm_start=False)"
      ]
     },
     "execution_count": 72,
     "metadata": {},
     "output_type": "execute_result"
    }
   ],
   "source": [
    "learner.fit(X_train, y_train)"
   ]
  },
  {
   "cell_type": "code",
   "execution_count": 73,
   "metadata": {},
   "outputs": [],
   "source": [
    "y_test_pred = learner.predict(X_test)\n",
    "y_train_pred = learner.predict(X_train)"
   ]
  },
  {
   "cell_type": "code",
   "execution_count": 74,
   "metadata": {},
   "outputs": [
    {
     "name": "stdout",
     "output_type": "stream",
     "text": [
      "[88.44886979 87.95650885 89.64856739 ... 90.22577452 88.85426963\n",
      " 87.44649727] [88 88 94 ... 94 95 92]\n"
     ]
    }
   ],
   "source": [
    "# Check results visually\n",
    "print(y_test_pred, y_test)"
   ]
  },
  {
   "cell_type": "code",
   "execution_count": 75,
   "metadata": {},
   "outputs": [
    {
     "data": {
      "image/png": "[encoded data removed]",
      "text/plain": [
       "<Figure size 432x288 with 1 Axes>"
      ]
     },
     "metadata": {
      "needs_background": "light"
     },
     "output_type": "display_data"
    }
   ],
   "source": [
    "# Check results visually\n",
    "plt.scatter(y_test, y_test_pred, c = 'orange', alpha = 0.1)\n",
    "abline(1,0)\n",
    "plt.xlabel('Observations')\n",
    "plt.ylabel('Predictions')\n",
    "plt.show()"
   ]
  },
  {
   "cell_type": "code",
   "execution_count": 76,
   "metadata": {},
   "outputs": [
    {
     "name": "stdout",
     "output_type": "stream",
     "text": [
      "0.01958 0.01957\n"
     ]
    }
   ],
   "source": [
    "# Check MAPE\n",
    "MAPE_test = MAPE(y_test, y_test_pred)\n",
    "MAPE_train = MAPE(y_train, y_train_pred)\n",
    "print(MAPE_test, MAPE_train)"
   ]
  },
  {
   "cell_type": "markdown",
   "metadata": {},
   "source": [
    "Valuable result achieved even using default parameters of model: 1.96% mean average percentage error"
   ]
  },
  {
   "cell_type": "markdown",
   "metadata": {},
   "source": [
    "#### 6.1.3. Stochastic Gradient Descent Regressor: Parameter grid search"
   ]
  },
  {
   "cell_type": "code",
   "execution_count": 77,
   "metadata": {},
   "outputs": [],
   "source": [
    "# learner = SGDRegressor(random_state = random_state)\n",
    "# parameter_grid = {'loss': ['squared_loss', 'huber', 'epsilon_insensitive'],\n",
    "#                   'penalty': ['none', 'l2', 'l1', 'elasticnet']}\n",
    "# cross_validation = StratifiedKFold(n_splits = 10)\n",
    "# grid_search = GridSearchCV(learner,\n",
    "#                            param_grid = parameter_grid,\n",
    "#                            cv = cross_validation)\n",
    "# grid_search.fit(X_train, y_train)"
   ]
  },
  {
   "cell_type": "code",
   "execution_count": 78,
   "metadata": {},
   "outputs": [],
   "source": [
    "# print('Best score: {}'.format(grid_search.best_score_))\n",
    "# print('Best parameters: {}'.format(grid_search.best_params_))\n",
    "\n",
    "# grid_search.best_estimator_"
   ]
  },
  {
   "cell_type": "code",
   "execution_count": 79,
   "metadata": {},
   "outputs": [],
   "source": [
    "# Stochastic Gradient Descent: SGDRegressor\n",
    "learner = SGDRegressor(loss = 'squared_loss', penalty = 'elasticnet', random_state = random_state)"
   ]
  },
  {
   "cell_type": "code",
   "execution_count": 80,
   "metadata": {},
   "outputs": [
    {
     "data": {
      "text/plain": [
       "SGDRegressor(alpha=0.0001, average=False, early_stopping=False, epsilon=0.1,\n",
       "             eta0=0.01, fit_intercept=True, l1_ratio=0.15,\n",
       "             learning_rate='invscaling', loss='squared_loss', max_iter=1000,\n",
       "             n_iter_no_change=5, penalty='elasticnet', power_t=0.25,\n",
       "             random_state=20191229, shuffle=True, tol=0.001,\n",
       "             validation_fraction=0.1, verbose=0, warm_start=False)"
      ]
     },
     "execution_count": 80,
     "metadata": {},
     "output_type": "execute_result"
    }
   ],
   "source": [
    "learner.fit(X_train, y_train)"
   ]
  },
  {
   "cell_type": "code",
   "execution_count": 81,
   "metadata": {},
   "outputs": [],
   "source": [
    "y_test_pred = learner.predict(X_test)\n",
    "y_train_pred = learner.predict(X_train)"
   ]
  },
  {
   "cell_type": "code",
   "execution_count": 82,
   "metadata": {},
   "outputs": [
    {
     "name": "stdout",
     "output_type": "stream",
     "text": [
      "[88.61880263 87.93919683 89.7268094  ... 90.08222381 88.68570663\n",
      " 87.48968423] [88 88 94 ... 94 95 92]\n"
     ]
    }
   ],
   "source": [
    "# Check results visually\n",
    "print(y_test_pred, y_test)"
   ]
  },
  {
   "cell_type": "code",
   "execution_count": 83,
   "metadata": {},
   "outputs": [
    {
     "data": {
      "image/png": "[encoded data removed]",
      "text/plain": [
       "<Figure size 432x288 with 1 Axes>"
      ]
     },
     "metadata": {
      "needs_background": "light"
     },
     "output_type": "display_data"
    }
   ],
   "source": [
    "# Check results visually\n",
    "plt.scatter(y_test, y_test_pred, c = 'orange', alpha = 0.1)\n",
    "abline(1,0)\n",
    "plt.xlabel('Observations')\n",
    "plt.ylabel('Predictions')\n",
    "plt.show()"
   ]
  },
  {
   "cell_type": "code",
   "execution_count": 84,
   "metadata": {},
   "outputs": [
    {
     "name": "stdout",
     "output_type": "stream",
     "text": [
      "0.01959 0.01957\n"
     ]
    }
   ],
   "source": [
    "# Check MAPE\n",
    "MAPE_test = MAPE(y_test, y_test_pred)\n",
    "MAPE_train = MAPE(y_train, y_train_pred)\n",
    "print(MAPE_test, MAPE_train)"
   ]
  },
  {
   "cell_type": "markdown",
   "metadata": {},
   "source": [
    "Model chosen by optimisation of grid search shows the same MAPE results as model with default parameters: 1.96% MAPE."
   ]
  },
  {
   "cell_type": "markdown",
   "metadata": {},
   "source": [
    "### 6.2. Price<a class=\"anchor\" id=\"price\">\n",
    "[Back to Table of Contents](#toc)"
   ]
  },
  {
   "cell_type": "code",
   "execution_count": 85,
   "metadata": {},
   "outputs": [],
   "source": [
    "X_train = train_df[X_columns].values\n",
    "y_train = train_df[Y2_columns].values\n",
    "\n",
    "X_test = test_df[X_columns].values\n",
    "y_test = test_df[Y2_columns].values"
   ]
  },
  {
   "cell_type": "code",
   "execution_count": 86,
   "metadata": {},
   "outputs": [
    {
     "name": "stdout",
     "output_type": "stream",
     "text": [
      "(96780, 888)\n",
      "(96780,)\n",
      "(24195, 888)\n",
      "(24195,)\n"
     ]
    }
   ],
   "source": [
    "print(X_train.shape)\n",
    "print(y_train.shape)\n",
    "print(X_test.shape)\n",
    "print(y_test.shape)"
   ]
  },
  {
   "cell_type": "markdown",
   "metadata": {},
   "source": [
    "#### 6.2.1. Linear regression with default settings"
   ]
  },
  {
   "cell_type": "code",
   "execution_count": 87,
   "metadata": {},
   "outputs": [
    {
     "data": {
      "text/plain": [
       "LinearRegression(copy_X=True, fit_intercept=True, n_jobs=None, normalize=False)"
      ]
     },
     "execution_count": 87,
     "metadata": {},
     "output_type": "execute_result"
    }
   ],
   "source": [
    "learner = LinearRegression()\n",
    "learner.fit(X_train, y_train)"
   ]
  },
  {
   "cell_type": "code",
   "execution_count": 88,
   "metadata": {},
   "outputs": [],
   "source": [
    "y_test_pred = learner.predict(X_test)\n",
    "y_train_pred = learner.predict(X_train)"
   ]
  },
  {
   "cell_type": "code",
   "execution_count": 89,
   "metadata": {},
   "outputs": [
    {
     "name": "stdout",
     "output_type": "stream",
     "text": [
      "123312160.27703 0.54847\n"
     ]
    }
   ],
   "source": [
    "# Check MAPE\n",
    "MAPE_test = MAPE(y_test, y_test_pred)\n",
    "MAPE_train = MAPE(y_train, y_train_pred)\n",
    "print(MAPE_test, MAPE_train)"
   ]
  },
  {
   "cell_type": "code",
   "execution_count": 90,
   "metadata": {},
   "outputs": [
    {
     "name": "stdout",
     "output_type": "stream",
     "text": [
      "[47.9921875  21.52929688 43.79101562 ... 34.6171875  38.15820312\n",
      " 25.51171875] [15. 25. 65. ... 36. 70. 25.]\n"
     ]
    }
   ],
   "source": [
    "# Check results visually\n",
    "print(y_test_pred, y_test)"
   ]
  },
  {
   "cell_type": "code",
   "execution_count": 91,
   "metadata": {},
   "outputs": [
    {
     "data": {
      "image/png": "[encoded data removed]",
      "text/plain": [
       "<Figure size 432x288 with 1 Axes>"
      ]
     },
     "metadata": {
      "needs_background": "light"
     },
     "output_type": "display_data"
    }
   ],
   "source": [
    "# Check results visually\n",
    "plt.scatter(y_test_pred, y_test, c = 'orange', alpha = 0.1)\n",
    "abline(1,0)\n",
    "plt.xlabel('Observations')\n",
    "plt.ylabel('Predictions')\n",
    "plt.show()"
   ]
  },
  {
   "cell_type": "markdown",
   "metadata": {},
   "source": [
    "Again, such a huge MAPE on test data is explained by few points having abnormally high predictions. This needs to be inspected more carefully in case model is chosen for usage."
   ]
  },
  {
   "cell_type": "code",
   "execution_count": 92,
   "metadata": {},
   "outputs": [
    {
     "data": {
      "image/png": "[encoded data removed]",
      "text/plain": [
       "<Figure size 432x288 with 1 Axes>"
      ]
     },
     "metadata": {
      "needs_background": "light"
     },
     "output_type": "display_data"
    }
   ],
   "source": [
    "# Check results visually\n",
    "plt.scatter(y_test, y_test_pred, c = 'orange', alpha = 0.1)\n",
    "abline(1,0)\n",
    "plt.xlabel('Observations')\n",
    "plt.ylabel('Predictions')\n",
    "plt.xlim(-10, 200)\n",
    "plt.ylim(-10, 200)\n",
    "plt.show()"
   ]
  },
  {
   "cell_type": "markdown",
   "metadata": {},
   "source": [
    "#### 6.2.2. Stochastic Gradient Descent Regressor with default settings"
   ]
  },
  {
   "cell_type": "code",
   "execution_count": 93,
   "metadata": {},
   "outputs": [],
   "source": [
    "# Stochastic Gradient Descent: SGDRegressor\n",
    "learner = SGDRegressor(random_state = random_state)"
   ]
  },
  {
   "cell_type": "code",
   "execution_count": 94,
   "metadata": {},
   "outputs": [
    {
     "data": {
      "text/plain": [
       "SGDRegressor(alpha=0.0001, average=False, early_stopping=False, epsilon=0.1,\n",
       "             eta0=0.01, fit_intercept=True, l1_ratio=0.15,\n",
       "             learning_rate='invscaling', loss='squared_loss', max_iter=1000,\n",
       "             n_iter_no_change=5, penalty='l2', power_t=0.25,\n",
       "             random_state=20191229, shuffle=True, tol=0.001,\n",
       "             validation_fraction=0.1, verbose=0, warm_start=False)"
      ]
     },
     "execution_count": 94,
     "metadata": {},
     "output_type": "execute_result"
    }
   ],
   "source": [
    "learner.fit(X_train, y_train)"
   ]
  },
  {
   "cell_type": "code",
   "execution_count": 95,
   "metadata": {},
   "outputs": [],
   "source": [
    "y_test_pred = learner.predict(X_test)\n",
    "y_train_pred = learner.predict(X_train)"
   ]
  },
  {
   "cell_type": "code",
   "execution_count": 96,
   "metadata": {},
   "outputs": [
    {
     "name": "stdout",
     "output_type": "stream",
     "text": [
      "[49.18446317 23.37812745 42.48101259 ... 34.43569921 37.36599459\n",
      " 28.82595062] [15. 25. 65. ... 36. 70. 25.]\n"
     ]
    }
   ],
   "source": [
    "# Check results visually\n",
    "print(y_test_pred, y_test)"
   ]
  },
  {
   "cell_type": "code",
   "execution_count": 97,
   "metadata": {},
   "outputs": [
    {
     "data": {
      "image/png": "[encoded data removed]",
      "text/plain": [
       "<Figure size 432x288 with 1 Axes>"
      ]
     },
     "metadata": {
      "needs_background": "light"
     },
     "output_type": "display_data"
    }
   ],
   "source": [
    "# Check results visually\n",
    "plt.scatter(y_test, y_test_pred, c = 'orange', alpha = 0.1)\n",
    "abline(1,0)\n",
    "plt.xlabel('Observations')\n",
    "plt.ylabel('Predictions')\n",
    "plt.ylim(-10, max(y_test_pred) + 5)\n",
    "plt.show()"
   ]
  },
  {
   "cell_type": "code",
   "execution_count": 98,
   "metadata": {},
   "outputs": [
    {
     "data": {
      "image/png": "[encoded data removed]",
      "text/plain": [
       "<Figure size 432x288 with 1 Axes>"
      ]
     },
     "metadata": {
      "needs_background": "light"
     },
     "output_type": "display_data"
    }
   ],
   "source": [
    "# Check results visually\n",
    "plt.scatter(y_test, y_test_pred, c = 'orange', alpha = 0.1)\n",
    "abline(1,0)\n",
    "plt.xlabel('Observations')\n",
    "plt.ylabel('Predictions')\n",
    "plt.xlim(-10, 1000)\n",
    "plt.ylim(-10, max(y_test_pred) + 5)\n",
    "plt.show()"
   ]
  },
  {
   "cell_type": "code",
   "execution_count": 99,
   "metadata": {},
   "outputs": [
    {
     "name": "stdout",
     "output_type": "stream",
     "text": [
      "0.56119 0.56029\n"
     ]
    }
   ],
   "source": [
    "# Check MAPE\n",
    "MAPE_test = MAPE(y_test, y_test_pred)\n",
    "MAPE_train = MAPE(y_train, y_train_pred)\n",
    "print(MAPE_test, MAPE_train)"
   ]
  },
  {
   "cell_type": "markdown",
   "metadata": {},
   "source": [
    "In case of price model is very inprecise: MAPE 56%. Let's see if parameter grid search can improve this result."
   ]
  },
  {
   "cell_type": "markdown",
   "metadata": {},
   "source": [
    "#### 6.2.3. Stochastic Gradient Descent Regressor: Parameter grid search"
   ]
  },
  {
   "cell_type": "code",
   "execution_count": 100,
   "metadata": {},
   "outputs": [],
   "source": [
    "# learner = SGDRegressor(random_state = random_state)\n",
    "# parameter_grid = {'loss': ['squared_loss', 'huber', 'epsilon_insensitive'],\n",
    "#                   'penalty': ['none', 'l2', 'l1', 'elasticnet']}\n",
    "# cross_validation = StratifiedKFold(n_splits = 10)\n",
    "# grid_search = GridSearchCV(learner,\n",
    "#                            param_grid = parameter_grid,\n",
    "#                            cv = cross_validation)\n",
    "# grid_search.fit(X_train, y_train)"
   ]
  },
  {
   "cell_type": "code",
   "execution_count": 101,
   "metadata": {},
   "outputs": [],
   "source": [
    "# print('Best score: {}'.format(grid_search.best_score_))\n",
    "# print('Best parameters: {}'.format(grid_search.best_params_))\n",
    "\n",
    "# grid_search.best_estimator_"
   ]
  },
  {
   "cell_type": "code",
   "execution_count": 102,
   "metadata": {},
   "outputs": [],
   "source": [
    "# Stochastic Gradient Descent: SGDRegressor\n",
    "learner = SGDRegressor(loss = 'squared_loss', penalty = 'l2', random_state = random_state)"
   ]
  },
  {
   "cell_type": "code",
   "execution_count": 103,
   "metadata": {},
   "outputs": [
    {
     "data": {
      "text/plain": [
       "SGDRegressor(alpha=0.0001, average=False, early_stopping=False, epsilon=0.1,\n",
       "             eta0=0.01, fit_intercept=True, l1_ratio=0.15,\n",
       "             learning_rate='invscaling', loss='squared_loss', max_iter=1000,\n",
       "             n_iter_no_change=5, penalty='l2', power_t=0.25,\n",
       "             random_state=20191229, shuffle=True, tol=0.001,\n",
       "             validation_fraction=0.1, verbose=0, warm_start=False)"
      ]
     },
     "execution_count": 103,
     "metadata": {},
     "output_type": "execute_result"
    }
   ],
   "source": [
    "learner.fit(X_train, y_train)"
   ]
  },
  {
   "cell_type": "code",
   "execution_count": 104,
   "metadata": {},
   "outputs": [],
   "source": [
    "y_test_pred = learner.predict(X_test)\n",
    "y_train_pred = learner.predict(X_train)"
   ]
  },
  {
   "cell_type": "code",
   "execution_count": 105,
   "metadata": {},
   "outputs": [
    {
     "name": "stdout",
     "output_type": "stream",
     "text": [
      "[49.18446317 23.37812745 42.48101259 ... 34.43569921 37.36599459\n",
      " 28.82595062] [15. 25. 65. ... 36. 70. 25.]\n"
     ]
    }
   ],
   "source": [
    "# Check results visually\n",
    "print(y_test_pred, y_test)"
   ]
  },
  {
   "cell_type": "code",
   "execution_count": 106,
   "metadata": {},
   "outputs": [
    {
     "data": {
      "image/png": "[encoded data removed]",
      "text/plain": [
       "<Figure size 432x288 with 1 Axes>"
      ]
     },
     "metadata": {
      "needs_background": "light"
     },
     "output_type": "display_data"
    }
   ],
   "source": [
    "# Check results visually\n",
    "plt.scatter(y_test, y_test_pred, c = 'orange', alpha = 0.1)\n",
    "abline(1,0)\n",
    "plt.xlabel('Observations')\n",
    "plt.ylabel('Predictions')\n",
    "plt.xlim(-10, 1000)\n",
    "plt.ylim(-10, max(y_test_pred) + 5)\n",
    "plt.show()"
   ]
  },
  {
   "cell_type": "code",
   "execution_count": 107,
   "metadata": {},
   "outputs": [
    {
     "name": "stdout",
     "output_type": "stream",
     "text": [
      "0.56119 0.56029\n"
     ]
    }
   ],
   "source": [
    "# Check MAPE\n",
    "MAPE_test = MAPE(y_test, y_test_pred)\n",
    "MAPE_train = MAPE(y_train, y_train_pred)\n",
    "print(MAPE_test, MAPE_train)"
   ]
  },
  {
   "cell_type": "markdown",
   "metadata": {},
   "source": [
    "Model chosen by optimisation of grid search shows the same MAPE results as model with default parameters: 56% MAPE."
   ]
  },
  {
   "cell_type": "markdown",
   "metadata": {},
   "source": [
    "## 7. Conclusions and further actions<a class=\"anchor\" id=\"conclusions\">\n",
    "[Back to Table of Contents](#toc)"
   ]
  },
  {
   "cell_type": "markdown",
   "metadata": {},
   "source": [
    "Analysis has shown, that wine score points could be predicted with relatively high precision: 1.96% MAPE, meaning, that from description given by taster wine score could be predicted with acceptable error. At the same time, models did not succeeded in price predictions at all: 56% MAPE."
   ]
  },
  {
   "cell_type": "markdown",
   "metadata": {},
   "source": [
    "To improve results, following actions could be done:\n",
    "* Addition of more data from wine descriptions (in analysis only words appearing in at least 5000 descriptions were transformed into features)\n",
    "* Addition of any different possible features\n",
    "* Tuning of different models"
   ]
  }
 ],
 "metadata": {
  "kernelspec": {
   "display_name": "Python 3",
   "language": "python",
   "name": "python3"
  },
  "language_info": {
   "codemirror_mode": {
    "name": "ipython",
    "version": 3
   },
   "file_extension": ".py",
   "mimetype": "text/x-python",
   "name": "python",
   "nbconvert_exporter": "python",
   "pygments_lexer": "ipython3",
   "version": "3.7.4"
  },
  "varInspector": {
   "cols": {
    "lenName": 16,
    "lenType": 16,
    "lenVar": 40
   },
   "kernels_config": {
    "python": {
     "delete_cmd_postfix": "",
     "delete_cmd_prefix": "del ",
     "library": "var_list.py",
     "varRefreshCmd": "print(var_dic_list())"
    },
    "r": {
     "delete_cmd_postfix": ") ",
     "delete_cmd_prefix": "rm(",
     "library": "var_list.r",
     "varRefreshCmd": "cat(var_dic_list()) "
    }
   },
   "types_to_exclude": [
    "module",
    "function",
    "builtin_function_or_method",
    "instance",
    "_Feature"
   ],
   "window_display": false
  }
 },
 "nbformat": 4,
 "nbformat_minor": 2
}
