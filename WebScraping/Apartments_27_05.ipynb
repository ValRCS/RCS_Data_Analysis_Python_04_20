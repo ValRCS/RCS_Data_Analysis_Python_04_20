{
 "cells": [
  {
   "cell_type": "code",
   "execution_count": 1,
   "metadata": {},
   "outputs": [],
   "source": [
    "# Requests for handling HTTP get and other requests\n",
    "import requests\n",
    "import time\n",
    "import pandas as pd\n",
    "# from BeautifulSoup4 import BeatifulSoup if installed through pip install BeautifulSoup4\n",
    "# \n",
    "from bs4 import BeautifulSoup\n"
   ]
  },
  {
   "cell_type": "code",
   "execution_count": null,
   "metadata": {},
   "outputs": [],
   "source": [
    "!pip install beatifulsoup4"
   ]
  },
  {
   "cell_type": "code",
   "execution_count": 2,
   "metadata": {},
   "outputs": [],
   "source": [
    "maskavas = \"https://www.ss.com/lv/real-estate/flats/riga/maskavas-priekshpilseta/sell/\"\n",
    "centrs = \"https://www.ss.com/lv/real-estate/flats/riga/centre/sell/\""
   ]
  },
  {
   "cell_type": "code",
   "execution_count": null,
   "metadata": {},
   "outputs": [],
   "source": [
    "dflist = pd.read_html(maskavas) # pandas attempts to read all tables on the url so dflist\n",
    "type(dflist)"
   ]
  },
  {
   "cell_type": "code",
   "execution_count": null,
   "metadata": {},
   "outputs": [],
   "source": [
    "for df in dflist:\n",
    "    print(df.shape)"
   ]
  },
  {
   "cell_type": "code",
   "execution_count": null,
   "metadata": {},
   "outputs": [],
   "source": [
    "df = dflist[4]\n",
    "df.head()"
   ]
  },
  {
   "cell_type": "code",
   "execution_count": null,
   "metadata": {},
   "outputs": [],
   "source": [
    "lvcitylist = pd.read_html(\"https://en.wikipedia.org/wiki/List_of_cities_and_towns_in_Latvia\")\n",
    "len(lvcitylist)"
   ]
  },
  {
   "cell_type": "code",
   "execution_count": null,
   "metadata": {},
   "outputs": [],
   "source": [
    "for citydf in lvcitylist:\n",
    "    print(citydf.shape)"
   ]
  },
  {
   "cell_type": "code",
   "execution_count": null,
   "metadata": {},
   "outputs": [],
   "source": [
    "lvcitydf = lvcitylist[1]\n",
    "lvcitydf.head()"
   ]
  },
  {
   "cell_type": "code",
   "execution_count": null,
   "metadata": {},
   "outputs": [],
   "source": [
    "req = requests.get(maskavas)\n",
    "req.status_code # https://en.wikipedia.org/wiki/List_of_HTTP_status_codes"
   ]
  },
  {
   "cell_type": "code",
   "execution_count": null,
   "metadata": {},
   "outputs": [],
   "source": [
    "req.text[:200]"
   ]
  },
  {
   "cell_type": "code",
   "execution_count": null,
   "metadata": {},
   "outputs": [],
   "source": [
    "req.text.index(\"tr_47482426\") # we could fine the line that interests us manually using Python string index command"
   ]
  },
  {
   "cell_type": "code",
   "execution_count": null,
   "metadata": {},
   "outputs": [],
   "source": [
    "req.text[14907:15100]\n",
    "# we could attempt to parse this manually, but there is no need for HTML since we have Beautiful Soup which does it for us"
   ]
  },
  {
   "cell_type": "code",
   "execution_count": null,
   "metadata": {},
   "outputs": [],
   "source": [
    "soup = BeautifulSoup(req.text, 'lxml') \n",
    "# lxml is a type of parser, a bit better than standard\n",
    "# soup = BeautifulSoup(req.text) \n",
    "type(soup)"
   ]
  },
  {
   "cell_type": "code",
   "execution_count": null,
   "metadata": {},
   "outputs": [],
   "source": [
    "allrows = soup.find_all('tr') # so we want to find all table rows (no matter the table)\n",
    "len(allrows)\n",
    "# so what would be common to our rows which contain an advertisement"
   ]
  },
  {
   "cell_type": "code",
   "execution_count": null,
   "metadata": {},
   "outputs": [],
   "source": [
    "allrows[12]"
   ]
  },
  {
   "cell_type": "code",
   "execution_count": null,
   "metadata": {},
   "outputs": [],
   "source": [
    "allrows[12].get('id')"
   ]
  },
  {
   "cell_type": "code",
   "execution_count": null,
   "metadata": {},
   "outputs": [],
   "source": [
    "allrows[12]"
   ]
  },
  {
   "cell_type": "code",
   "execution_count": null,
   "metadata": {},
   "outputs": [],
   "source": [
    "aprows = [row for row in allrows if \"id\" in row.attrs and \"tr_\" in row.get('id')] #full check\n",
    "len(aprows)"
   ]
  },
  {
   "cell_type": "code",
   "execution_count": null,
   "metadata": {},
   "outputs": [],
   "source": [
    "aprows = [row for row in allrows if \"tr_\" in row.get('id',[])] # we pass empty list as fallback when id is not found\n",
    "len(aprows)"
   ]
  },
  {
   "cell_type": "code",
   "execution_count": null,
   "metadata": {},
   "outputs": [],
   "source": [
    "aprows = [row for row in allrows if row.get('id',\"\").startswith(\"tr_\") and not row.get('id',\"\").startswith(\"tr_bnr\") ] # this is more precise\n",
    "# of course above could have been done with regular expression for more difficult cases\n",
    "len(aprows)"
   ]
  },
  {
   "cell_type": "code",
   "execution_count": null,
   "metadata": {},
   "outputs": [],
   "source": [
    "aprows[-1]"
   ]
  },
  {
   "cell_type": "code",
   "execution_count": null,
   "metadata": {},
   "outputs": [],
   "source": [
    "firstrow = aprows[0]\n",
    "firstrow"
   ]
  },
  {
   "cell_type": "code",
   "execution_count": null,
   "metadata": {},
   "outputs": [],
   "source": [
    "len(firstcells)"
   ]
  },
  {
   "cell_type": "code",
   "execution_count": null,
   "metadata": {},
   "outputs": [],
   "source": [
    "firstcells[-1].text"
   ]
  },
  {
   "cell_type": "code",
   "execution_count": null,
   "metadata": {},
   "outputs": [],
   "source": [
    "anchor = firstcells[1].find('a')\n",
    "anchor"
   ]
  },
  {
   "cell_type": "code",
   "execution_count": null,
   "metadata": {},
   "outputs": [],
   "source": [
    "anchor.get('href')"
   ]
  },
  {
   "cell_type": "code",
   "execution_count": null,
   "metadata": {},
   "outputs": [],
   "source": [
    "firstcells[2].find('a').text"
   ]
  },
  {
   "cell_type": "code",
   "execution_count": null,
   "metadata": {},
   "outputs": [],
   "source": [
    "firstcells = firstrow.find_all('td')\n",
    "firstcells"
   ]
  },
  {
   "cell_type": "code",
   "execution_count": null,
   "metadata": {},
   "outputs": [],
   "source": [
    "def getRowDict(row):\n",
    "    row_tds = row.find_all('td')\n",
    "    rowDict = {}\n",
    "    if len(row_tds) != 10: # a little sanity check\n",
    "        print(\"Hmm bad row\")\n",
    "        return rowDict\n",
    "    rowDict['url'] = \"https://ss.com\" + row_tds[1].find('a').get('href')\n",
    "    rowDict['desc'] = row_tds[2].text\n",
    "    rowDict['street'] = row_tds[3].text\n",
    "    rowDict['rooms'] = row_tds[4].text\n",
    "    rowDict['sqr_m'] = row_tds[5].text\n",
    "    rowDict['floor'] = row_tds[6].text\n",
    "    rowDict['build_type'] = row_tds[7].text\n",
    "    rowDict['price_sqm'] = row_tds[8].text\n",
    "    rowDict['price_raw'] = row_tds[9].text\n",
    "    rowDict['currency'] = row_tds[9].text.split()[1] # currency is always after multiple spaces in price\n",
    "    rowDict['price'] = row_tds[9].text.split()[0].replace(',','') # we do need comma\n",
    "    return rowDict\n",
    "    "
   ]
  },
  {
   "cell_type": "code",
   "execution_count": null,
   "metadata": {},
   "outputs": [],
   "source": [
    "mydatadict = getRowDict(aprows[7])\n",
    "mydatadict"
   ]
  },
  {
   "cell_type": "code",
   "execution_count": null,
   "metadata": {},
   "outputs": [],
   "source": [
    "myrowlist = []\n",
    "for row in aprows:\n",
    "    myrowlist.append(getRowDict(row))\n",
    "myrowlist[:5]"
   ]
  },
  {
   "cell_type": "code",
   "execution_count": 45,
   "metadata": {},
   "outputs": [],
   "source": [
    "def processAptRows(rows):\n",
    "    rowlist = []\n",
    "    for row in rows:\n",
    "        rowlist.append(getRowDict(row))\n",
    "    return rowlist"
   ]
  },
  {
   "cell_type": "code",
   "execution_count": null,
   "metadata": {},
   "outputs": [],
   "source": [
    "myrows = processAptRows(aprows)\n",
    "myrows[:2]"
   ]
  },
  {
   "cell_type": "code",
   "execution_count": null,
   "metadata": {},
   "outputs": [],
   "source": [
    "df = pd.DataFrame(myrowlist)\n",
    "df.head()"
   ]
  },
  {
   "cell_type": "code",
   "execution_count": null,
   "metadata": {},
   "outputs": [],
   "source": [
    "df.to_excel('maskavas_pardod.xlsx')"
   ]
  },
  {
   "cell_type": "code",
   "execution_count": null,
   "metadata": {},
   "outputs": [],
   "source": [
    "maskavas"
   ]
  },
  {
   "cell_type": "code",
   "execution_count": null,
   "metadata": {},
   "outputs": [],
   "source": [
    "maskavas.split(\"/\")[-3]"
   ]
  },
  {
   "cell_type": "code",
   "execution_count": 46,
   "metadata": {},
   "outputs": [],
   "source": [
    "# lets put this in one big function\n",
    "def getExcelFromUrl(url):\n",
    "    req = requests.get(url)\n",
    "    if req.status_code != 200:\n",
    "        print(\"Bad request\", req.status_code)\n",
    "        return None\n",
    "    soup = BeautifulSoup(req.text, 'lxml')\n",
    "    trows = soup.find_all('tr')\n",
    "    aprows = [row for row in trows if row.get('id',\"\").startswith(\"tr_\") and not row.get('id',\"\").startswith(\"tr_bnr\") ]\n",
    "    myrows = processAptRows(aprows)\n",
    "    df = pd.DataFrame(myrows)\n",
    "    print(f\"Got DF in shape {df.shape}\")\n",
    "    df.to_excel(f\"{url.split('/')[-3]}.xlsx\") #we just need a unique and descriptive name for our sheet\n",
    "    "
   ]
  },
  {
   "cell_type": "code",
   "execution_count": null,
   "metadata": {},
   "outputs": [],
   "source": [
    "getExcelFromUrl(maskavas)"
   ]
  },
  {
   "cell_type": "code",
   "execution_count": null,
   "metadata": {},
   "outputs": [],
   "source": [
    "getExcelFromUrl(\"https://www.ss.com/lv/real-estate/flats/riga/imanta/sell/\")"
   ]
  },
  {
   "cell_type": "code",
   "execution_count": null,
   "metadata": {},
   "outputs": [],
   "source": [
    "# aprows = aprows[:-1] # if we do not need the last one, so we just take it off\n"
   ]
  },
  {
   "cell_type": "code",
   "execution_count": 3,
   "metadata": {},
   "outputs": [
    {
     "data": {
      "text/plain": [
       "200"
      ]
     },
     "execution_count": 3,
     "metadata": {},
     "output_type": "execute_result"
    }
   ],
   "source": [
    "# now we need to find a list of all pages for certain region\n",
    "req = requests.get(centrs)\n",
    "req.status_code"
   ]
  },
  {
   "cell_type": "code",
   "execution_count": 4,
   "metadata": {},
   "outputs": [
    {
     "data": {
      "text/plain": [
       "<title>SS.COM Dzīvokļi - Rīga - Centrs, Cenas, Pārdod - Sludinājumi</title>"
      ]
     },
     "execution_count": 4,
     "metadata": {},
     "output_type": "execute_result"
    }
   ],
   "source": [
    "soup = BeautifulSoup(req.text, 'lxml') \n",
    "soup.title"
   ]
  },
  {
   "cell_type": "code",
   "execution_count": 5,
   "metadata": {},
   "outputs": [
    {
     "data": {
      "text/plain": [
       "0"
      ]
     },
     "execution_count": 5,
     "metadata": {},
     "output_type": "execute_result"
    }
   ],
   "source": [
    "navs = soup.find_all(name=\"nav_id\")\n",
    "len(navs)"
   ]
  },
  {
   "cell_type": "code",
   "execution_count": 6,
   "metadata": {},
   "outputs": [
    {
     "data": {
      "text/plain": [
       "873"
      ]
     },
     "execution_count": 6,
     "metadata": {},
     "output_type": "execute_result"
    }
   ],
   "source": [
    "len(soup.find_all(name=True))"
   ]
  },
  {
   "cell_type": "code",
   "execution_count": 7,
   "metadata": {},
   "outputs": [
    {
     "data": {
      "text/plain": [
       "98"
      ]
     },
     "execution_count": 7,
     "metadata": {},
     "output_type": "execute_result"
    }
   ],
   "source": [
    "anchors = soup.find_all(\"a\")\n",
    "len(anchors)"
   ]
  },
  {
   "cell_type": "code",
   "execution_count": 14,
   "metadata": {},
   "outputs": [
    {
     "data": {
      "text/plain": [
       "bs4.element.ResultSet"
      ]
     },
     "execution_count": 14,
     "metadata": {},
     "output_type": "execute_result"
    }
   ],
   "source": [
    "type(anchors)"
   ]
  },
  {
   "cell_type": "code",
   "execution_count": 9,
   "metadata": {},
   "outputs": [
    {
     "data": {
      "text/plain": [
       "[<a href=\"/\" title=\"Sludinājumi\"><img alt=\"Sludinājumi\" border=\"0\" class=\"page_header_logo\" src=\"https://i.ss.com/img/p.gif\"/></a>,\n",
       " <a class=\"a_menu\" href=\"/lv/real-estate/flats/new/\" title=\"Iesniegt Sludinājumu\">Iesniegt Sludinājumu</a>,\n",
       " <a class=\"a_menu\" href=\"/lv/login/\" title=\"Mani Sludinājumi\">Mani Sludinājumi</a>,\n",
       " <a class=\"a_menu\" href=\"/lv/real-estate/flats/riga/centre/search/\" title=\"Meklēt sludinājumus\">Meklēšana</a>,\n",
       " <a class=\"a_menu\" href=\"/lv/favorites/\" title=\"Memo\">Memo</a>]"
      ]
     },
     "execution_count": 9,
     "metadata": {},
     "output_type": "execute_result"
    }
   ],
   "source": [
    "anchors[:5]"
   ]
  },
  {
   "cell_type": "code",
   "execution_count": 15,
   "metadata": {},
   "outputs": [
    {
     "data": {
      "text/plain": [
       "(98, list)"
      ]
     },
     "execution_count": 15,
     "metadata": {},
     "output_type": "execute_result"
    }
   ],
   "source": [
    "alist = [anchor for anchor in anchors] #list comprehension would conver anchors, same as list(anchors)\n",
    "# list(anchors)\n",
    "len(alist),type(alist)"
   ]
  },
  {
   "cell_type": "code",
   "execution_count": 17,
   "metadata": {},
   "outputs": [
    {
     "data": {
      "text/plain": [
       "10"
      ]
     },
     "execution_count": 17,
     "metadata": {},
     "output_type": "execute_result"
    }
   ],
   "source": [
    "navs = [anchor for anchor in anchors if anchor.get(\"name\") == \"nav_id\"] # get will get us None if no \"name\" exists\n",
    "len(navs)"
   ]
  },
  {
   "cell_type": "code",
   "execution_count": 12,
   "metadata": {},
   "outputs": [
    {
     "data": {
      "text/plain": [
       "<a class=\"navi\" href=\"/lv/real-estate/flats/riga/centre/sell/page23.html\" name=\"nav_id\" rel=\"prev\"><img border=\"0\" height=\"5\" src=\"https://i.ss.com/img/s_left.png\" style=\"padding-bottom:2px;\" width=\"9\"/> Iepriekšējie</a>"
      ]
     },
     "execution_count": 12,
     "metadata": {},
     "output_type": "execute_result"
    }
   ],
   "source": [
    "navs[0]"
   ]
  },
  {
   "cell_type": "code",
   "execution_count": 18,
   "metadata": {},
   "outputs": [
    {
     "data": {
      "text/plain": [
       "{'name': 'nav_id',\n",
       " 'rel': ['prev'],\n",
       " 'class': ['navi'],\n",
       " 'href': '/lv/real-estate/flats/riga/centre/sell/page23.html'}"
      ]
     },
     "execution_count": 18,
     "metadata": {},
     "output_type": "execute_result"
    }
   ],
   "source": [
    "navs[0].attrs"
   ]
  },
  {
   "cell_type": "code",
   "execution_count": 13,
   "metadata": {},
   "outputs": [
    {
     "data": {
      "text/plain": [
       "'/lv/real-estate/flats/riga/centre/sell/page23.html'"
      ]
     },
     "execution_count": 13,
     "metadata": {},
     "output_type": "execute_result"
    }
   ],
   "source": [
    "navs[0]['href']"
   ]
  },
  {
   "cell_type": "code",
   "execution_count": 19,
   "metadata": {},
   "outputs": [
    {
     "data": {
      "text/plain": [
       "'23.html'"
      ]
     },
     "execution_count": 19,
     "metadata": {},
     "output_type": "execute_result"
    }
   ],
   "source": [
    "navs[0]['href'].split(\"/page\")[1]"
   ]
  },
  {
   "cell_type": "code",
   "execution_count": 21,
   "metadata": {},
   "outputs": [
    {
     "data": {
      "text/plain": [
       "'/lv/real-estate/flats/riga/centre/sell'"
      ]
     },
     "execution_count": 21,
     "metadata": {},
     "output_type": "execute_result"
    }
   ],
   "source": [
    "navs[0]['href'].split(\"/page\")[0]"
   ]
  },
  {
   "cell_type": "code",
   "execution_count": 22,
   "metadata": {},
   "outputs": [
    {
     "data": {
      "text/plain": [
       "('23', str)"
      ]
     },
     "execution_count": 22,
     "metadata": {},
     "output_type": "execute_result"
    }
   ],
   "source": [
    "lastpage = navs[0]['href'].split(\"/page\")[1].split(\".\")[0]\n",
    "lastpage, type(lastpage)"
   ]
  },
  {
   "cell_type": "code",
   "execution_count": 26,
   "metadata": {},
   "outputs": [
    {
     "data": {
      "text/plain": [
       "23"
      ]
     },
     "execution_count": 26,
     "metadata": {},
     "output_type": "execute_result"
    }
   ],
   "source": [
    "lastpage = int(lastpage)\n",
    "lastpage"
   ]
  },
  {
   "cell_type": "code",
   "execution_count": 24,
   "metadata": {},
   "outputs": [
    {
     "data": {
      "text/plain": [
       "'https://www.ss.com/lv/real-estate/flats/riga/centre/sell/'"
      ]
     },
     "execution_count": 24,
     "metadata": {},
     "output_type": "execute_result"
    }
   ],
   "source": [
    "centrs"
   ]
  },
  {
   "cell_type": "code",
   "execution_count": 27,
   "metadata": {},
   "outputs": [
    {
     "data": {
      "text/plain": [
       "['https://www.ss.com/lv/real-estate/flats/riga/centre/sell/',\n",
       " 'https://www.ss.com/lv/real-estate/flats/riga/centre/sell/',\n",
       " 'https://www.ss.com/lv/real-estate/flats/riga/centre/sell/',\n",
       " 'https://www.ss.com/lv/real-estate/flats/riga/centre/sell/',\n",
       " 'https://www.ss.com/lv/real-estate/flats/riga/centre/sell/']"
      ]
     },
     "execution_count": 27,
     "metadata": {},
     "output_type": "execute_result"
    }
   ],
   "source": [
    "pagelist = [centrs]\n",
    "extrapages = [f\"{centrs}\" for n in range(2,lastpage+1)]\n",
    "extrapages[:5]"
   ]
  },
  {
   "cell_type": "code",
   "execution_count": 29,
   "metadata": {},
   "outputs": [
    {
     "data": {
      "text/plain": [
       "(['https://www.ss.com/lv/real-estate/flats/riga/centre/sell//page2.html',\n",
       "  'https://www.ss.com/lv/real-estate/flats/riga/centre/sell//page3.html',\n",
       "  'https://www.ss.com/lv/real-estate/flats/riga/centre/sell//page4.html',\n",
       "  'https://www.ss.com/lv/real-estate/flats/riga/centre/sell//page5.html',\n",
       "  'https://www.ss.com/lv/real-estate/flats/riga/centre/sell//page6.html'],\n",
       " ['https://www.ss.com/lv/real-estate/flats/riga/centre/sell//page19.html',\n",
       "  'https://www.ss.com/lv/real-estate/flats/riga/centre/sell//page20.html',\n",
       "  'https://www.ss.com/lv/real-estate/flats/riga/centre/sell//page21.html',\n",
       "  'https://www.ss.com/lv/real-estate/flats/riga/centre/sell//page22.html',\n",
       "  'https://www.ss.com/lv/real-estate/flats/riga/centre/sell//page23.html'])"
      ]
     },
     "execution_count": 29,
     "metadata": {},
     "output_type": "execute_result"
    }
   ],
   "source": [
    "pagelist = [centrs]\n",
    "extrapages = [f\"{centrs}/page{n}.html\" for n in range(2,lastpage+1)]\n",
    "extrapages[:5],extrapages[-5:]"
   ]
  },
  {
   "cell_type": "code",
   "execution_count": 30,
   "metadata": {},
   "outputs": [
    {
     "data": {
      "text/plain": [
       "['https://www.ss.com/lv/real-estate/flats/riga/centre/sell/',\n",
       " 'https://www.ss.com/lv/real-estate/flats/riga/centre/sell//page2.html',\n",
       " 'https://www.ss.com/lv/real-estate/flats/riga/centre/sell//page3.html',\n",
       " 'https://www.ss.com/lv/real-estate/flats/riga/centre/sell//page4.html',\n",
       " 'https://www.ss.com/lv/real-estate/flats/riga/centre/sell//page5.html']"
      ]
     },
     "execution_count": 30,
     "metadata": {},
     "output_type": "execute_result"
    }
   ],
   "source": [
    "pagelist += extrapages # I add extrapages list to pagelist (flat)\n",
    "pagelist[:5]"
   ]
  },
  {
   "cell_type": "code",
   "execution_count": 40,
   "metadata": {},
   "outputs": [],
   "source": [
    "def getLocalPageList(url):\n",
    "    localPageList = [url]\n",
    "    req = requests.get(url)\n",
    "    if req.status_code != 200:\n",
    "        print(\"Bad Status Code\", req.status_code)\n",
    "        return\n",
    "    soup = BeautifulSoup(req.text, 'lxml') \n",
    "    anchors = soup.find_all(\"a\")\n",
    "    navs = [anchor for anchor in anchors if anchor.get(\"name\") == \"nav_id\"] # get will get us None if no \"name\" exists\n",
    "    if len(navs) == 0:\n",
    "        return localPageList # means we only have the first page and that is it\n",
    "    lastpage = navs[0]['href'].split(\"/page\")[1].split(\".\")[0]\n",
    "    lastpage = int(lastpage) # could have done in the previous page\n",
    "    extrapages = [f\"{centrs}page{n}.html\" for n in range(2,lastpage+1)]\n",
    "    localPageList += extrapages\n",
    "    return localPageList"
   ]
  },
  {
   "cell_type": "code",
   "execution_count": 35,
   "metadata": {},
   "outputs": [
    {
     "data": {
      "text/plain": [
       "['https://www.ss.com/lv/real-estate/flats/riga/centre/sell/',\n",
       " 'https://www.ss.com/lv/real-estate/flats/riga/centre/sell/page2.html',\n",
       " 'https://www.ss.com/lv/real-estate/flats/riga/centre/sell/page3.html',\n",
       " 'https://www.ss.com/lv/real-estate/flats/riga/centre/sell/page4.html',\n",
       " 'https://www.ss.com/lv/real-estate/flats/riga/centre/sell/page5.html',\n",
       " 'https://www.ss.com/lv/real-estate/flats/riga/centre/sell/page6.html',\n",
       " 'https://www.ss.com/lv/real-estate/flats/riga/centre/sell/page7.html',\n",
       " 'https://www.ss.com/lv/real-estate/flats/riga/centre/sell/page8.html',\n",
       " 'https://www.ss.com/lv/real-estate/flats/riga/centre/sell/page9.html',\n",
       " 'https://www.ss.com/lv/real-estate/flats/riga/centre/sell/page10.html',\n",
       " 'https://www.ss.com/lv/real-estate/flats/riga/centre/sell/page11.html',\n",
       " 'https://www.ss.com/lv/real-estate/flats/riga/centre/sell/page12.html',\n",
       " 'https://www.ss.com/lv/real-estate/flats/riga/centre/sell/page13.html',\n",
       " 'https://www.ss.com/lv/real-estate/flats/riga/centre/sell/page14.html',\n",
       " 'https://www.ss.com/lv/real-estate/flats/riga/centre/sell/page15.html',\n",
       " 'https://www.ss.com/lv/real-estate/flats/riga/centre/sell/page16.html',\n",
       " 'https://www.ss.com/lv/real-estate/flats/riga/centre/sell/page17.html',\n",
       " 'https://www.ss.com/lv/real-estate/flats/riga/centre/sell/page18.html',\n",
       " 'https://www.ss.com/lv/real-estate/flats/riga/centre/sell/page19.html',\n",
       " 'https://www.ss.com/lv/real-estate/flats/riga/centre/sell/page20.html',\n",
       " 'https://www.ss.com/lv/real-estate/flats/riga/centre/sell/page21.html',\n",
       " 'https://www.ss.com/lv/real-estate/flats/riga/centre/sell/page22.html',\n",
       " 'https://www.ss.com/lv/real-estate/flats/riga/centre/sell/page23.html']"
      ]
     },
     "execution_count": 35,
     "metadata": {},
     "output_type": "execute_result"
    }
   ],
   "source": [
    "getLocalPageList(centrs)"
   ]
  },
  {
   "cell_type": "code",
   "execution_count": 33,
   "metadata": {},
   "outputs": [
    {
     "data": {
      "text/plain": [
       "['https://www.ss.com/lv/real-estate/flats/riga/imanta/sell/',\n",
       " 'https://www.ss.com/lv/real-estate/flats/riga/centre/sell//page2.html',\n",
       " 'https://www.ss.com/lv/real-estate/flats/riga/centre/sell//page3.html',\n",
       " 'https://www.ss.com/lv/real-estate/flats/riga/centre/sell//page4.html',\n",
       " 'https://www.ss.com/lv/real-estate/flats/riga/centre/sell//page5.html']"
      ]
     },
     "execution_count": 33,
     "metadata": {},
     "output_type": "execute_result"
    }
   ],
   "source": [
    "getLocalPageList(\"https://www.ss.com/lv/real-estate/flats/riga/imanta/sell/\")"
   ]
  },
  {
   "cell_type": "code",
   "execution_count": 41,
   "metadata": {},
   "outputs": [
    {
     "data": {
      "text/plain": [
       "['https://www.ss.com/lv/real-estate/flats/riga/maskavas-priekshpilseta/sell/']"
      ]
     },
     "execution_count": 41,
     "metadata": {},
     "output_type": "execute_result"
    }
   ],
   "source": [
    "getLocalPageList(maskavas)"
   ]
  },
  {
   "cell_type": "code",
   "execution_count": 37,
   "metadata": {},
   "outputs": [
    {
     "data": {
      "text/plain": [
       "'https://www.ss.com/lv/real-estate/flats/riga/maskavas-priekshpilseta/sell/'"
      ]
     },
     "execution_count": 37,
     "metadata": {},
     "output_type": "execute_result"
    }
   ],
   "source": [
    "maskavas"
   ]
  },
  {
   "cell_type": "code",
   "execution_count": 43,
   "metadata": {},
   "outputs": [
    {
     "data": {
      "text/plain": [
       "166"
      ]
     },
     "execution_count": 43,
     "metadata": {},
     "output_type": "execute_result"
    }
   ],
   "source": [
    "allpages = getLocalPageList(\"https://www.ss.com/lv/real-estate/flats/riga/all/\")\n",
    "len(allpages)"
   ]
  },
  {
   "cell_type": "code",
   "execution_count": 44,
   "metadata": {},
   "outputs": [
    {
     "data": {
      "text/plain": [
       "4980"
      ]
     },
     "execution_count": 44,
     "metadata": {},
     "output_type": "execute_result"
    }
   ],
   "source": [
    "166*30 # should be a bit more than 4963 (at this particular time)"
   ]
  },
  {
   "cell_type": "code",
   "execution_count": 42,
   "metadata": {},
   "outputs": [],
   "source": [
    "url = \"https://www.ss.com/lv/real-estate/flats/riga/\"\n",
    "baseurl = \"https://ss.com\"\n",
    "postfix = \"sell/\""
   ]
  },
  {
   "cell_type": "code",
   "execution_count": 47,
   "metadata": {},
   "outputs": [
    {
     "data": {
      "text/plain": [
       "200"
      ]
     },
     "execution_count": 47,
     "metadata": {},
     "output_type": "execute_result"
    }
   ],
   "source": [
    "# task get column information\n",
    "req = requests.get(\"https://www.ss.com/lv/real-estate/flats/riga/all/\")\n",
    "req.status_code"
   ]
  },
  {
   "cell_type": "code",
   "execution_count": 48,
   "metadata": {},
   "outputs": [
    {
     "data": {
      "text/plain": [
       "<title>SS.COM Dzīvokļi - Rīga, Cenas - Visi sludinājumi</title>"
      ]
     },
     "execution_count": 48,
     "metadata": {},
     "output_type": "execute_result"
    }
   ],
   "source": [
    "soup = BeautifulSoup(req.text, 'lxml')\n",
    "soup.title"
   ]
  },
  {
   "cell_type": "code",
   "execution_count": 50,
   "metadata": {},
   "outputs": [
    {
     "data": {
      "text/plain": [
       "<tr id=\"head_line\">\n",
       "<td class=\"msg_column\" colspan=\"3\" width=\"70%\">\n",
       "<span style=\"float:left;\"> Sludinājumi\n",
       "</span>\n",
       "<span align=\"right\" class=\"msg_column\" style=\"float:right;text-align:right;padding-right:3px;\">\n",
       "<noindex>\n",
       "<a class=\"a19\" href=\"/lv/real-estate/flats/riga/all/fDgSeF4S.html\" rel=\"nofollow\">datums</a></noindex></span>\n",
       "</td>\n",
       "<td class=\"msg_column_td\" nowrap=\"\"><noindex><a class=\"a18\" href=\"/lv/real-estate/flats/riga/all/fDgSeF4bEFV8FQ==.html\" rel=\"nofollow\" title=\"\">Pagasts</a></noindex></td><td class=\"msg_column_td\" nowrap=\"\"><noindex><a class=\"a18\" href=\"/lv/real-estate/flats/riga/all/fDgSeF4SelM=.html\" rel=\"nofollow\" title=\"\">Ist.</a></noindex></td><td class=\"msg_column_td\" nowrap=\"\"><noindex><a class=\"a18\" href=\"/lv/real-estate/flats/riga/all/fDgSeF4QelM=.html\" rel=\"nofollow\" title=\"\">m2</a></noindex></td><td class=\"msg_column_td\" nowrap=\"\"><noindex><a class=\"a18\" href=\"/lv/real-estate/flats/riga/all/fDgSeF4XelM=.html\" rel=\"nofollow\" title=\"\">Stāvs</a></noindex></td><td class=\"msg_column_td\" nowrap=\"\"><noindex><a class=\"a18\" href=\"/lv/real-estate/flats/riga/all/fDgSeF4VelM=.html\" rel=\"nofollow\" title=\"\">Sērija</a></noindex></td><td class=\"msg_column_td\" nowrap=\"\"><noindex><a class=\"a18\" href=\"/lv/real-estate/flats/riga/all/fDgSeF4belM=.html\" rel=\"nofollow\" title=\"\">Cena</a></noindex></td></tr>"
      ]
     },
     "execution_count": 50,
     "metadata": {},
     "output_type": "execute_result"
    }
   ],
   "source": [
    "headline = soup.find(\"tr\", {\"id\":\"head_line\"}) # this is a shorter way of finding by tr AND this element having particular id\n",
    "headline"
   ]
  },
  {
   "cell_type": "code",
   "execution_count": 54,
   "metadata": {},
   "outputs": [
    {
     "data": {
      "text/plain": [
       "7"
      ]
     },
     "execution_count": 54,
     "metadata": {},
     "output_type": "execute_result"
    }
   ],
   "source": [
    "headtds = headline.find_all(\"td\")\n",
    "len(headtds)"
   ]
  },
  {
   "cell_type": "code",
   "execution_count": 55,
   "metadata": {},
   "outputs": [
    {
     "data": {
      "text/plain": [
       "[<td class=\"msg_column\" colspan=\"3\" width=\"70%\">\n",
       " <span style=\"float:left;\"> Sludinājumi\n",
       " </span>\n",
       " <span align=\"right\" class=\"msg_column\" style=\"float:right;text-align:right;padding-right:3px;\">\n",
       " <noindex>\n",
       " <a class=\"a19\" href=\"/lv/real-estate/flats/riga/all/fDgSeF4S.html\" rel=\"nofollow\">datums</a></noindex></span>\n",
       " </td>,\n",
       " <td class=\"msg_column_td\" nowrap=\"\"><noindex><a class=\"a18\" href=\"/lv/real-estate/flats/riga/all/fDgSeF4bEFV8FQ==.html\" rel=\"nofollow\" title=\"\">Pagasts</a></noindex></td>,\n",
       " <td class=\"msg_column_td\" nowrap=\"\"><noindex><a class=\"a18\" href=\"/lv/real-estate/flats/riga/all/fDgSeF4SelM=.html\" rel=\"nofollow\" title=\"\">Ist.</a></noindex></td>,\n",
       " <td class=\"msg_column_td\" nowrap=\"\"><noindex><a class=\"a18\" href=\"/lv/real-estate/flats/riga/all/fDgSeF4QelM=.html\" rel=\"nofollow\" title=\"\">m2</a></noindex></td>,\n",
       " <td class=\"msg_column_td\" nowrap=\"\"><noindex><a class=\"a18\" href=\"/lv/real-estate/flats/riga/all/fDgSeF4XelM=.html\" rel=\"nofollow\" title=\"\">Stāvs</a></noindex></td>,\n",
       " <td class=\"msg_column_td\" nowrap=\"\"><noindex><a class=\"a18\" href=\"/lv/real-estate/flats/riga/all/fDgSeF4VelM=.html\" rel=\"nofollow\" title=\"\">Sērija</a></noindex></td>,\n",
       " <td class=\"msg_column_td\" nowrap=\"\"><noindex><a class=\"a18\" href=\"/lv/real-estate/flats/riga/all/fDgSeF4belM=.html\" rel=\"nofollow\" title=\"\">Cena</a></noindex></td>]"
      ]
     },
     "execution_count": 55,
     "metadata": {},
     "output_type": "execute_result"
    }
   ],
   "source": [
    "headtds"
   ]
  },
  {
   "cell_type": "code",
   "execution_count": 56,
   "metadata": {},
   "outputs": [
    {
     "data": {
      "text/plain": [
       "['Pagasts', 'Ist.', 'm2', 'Stāvs', 'Sērija', 'Cena']"
      ]
     },
     "execution_count": 56,
     "metadata": {},
     "output_type": "execute_result"
    }
   ],
   "source": [
    "headcolumns = [el.text for el in headtds[1:]] #.text gets us content even from children and grandchildren\n",
    "headcolumns"
   ]
  },
  {
   "cell_type": "code",
   "execution_count": 57,
   "metadata": {},
   "outputs": [],
   "source": [
    "def getColList(soup):\n",
    "    column_list = [\"description\",\"url\"]\n",
    "    headline = soup.find(\"tr\", {\"id\":\"head_line\"})\n",
    "    headtds = headline.find_all(\"td\")\n",
    "    headcolumns = [el.text for el in headtds[1:]]\n",
    "    column_list += headcolumns\n",
    "    return column_list"
   ]
  },
  {
   "cell_type": "code",
   "execution_count": 58,
   "metadata": {},
   "outputs": [
    {
     "data": {
      "text/plain": [
       "['description', 'url', 'Pagasts', 'Ist.', 'm2', 'Stāvs', 'Sērija', 'Cena']"
      ]
     },
     "execution_count": 58,
     "metadata": {},
     "output_type": "execute_result"
    }
   ],
   "source": [
    "mycolist = getColList(soup)\n",
    "mycolist"
   ]
  },
  {
   "cell_type": "code",
   "execution_count": 60,
   "metadata": {},
   "outputs": [
    {
     "data": {
      "text/plain": [
       "['description', 'url', 'Modelis', 'Gads', 'Tilp.', 'Nobrauk.', 'Cena']"
      ]
     },
     "execution_count": 60,
     "metadata": {},
     "output_type": "execute_result"
    }
   ],
   "source": [
    "carcols = getColList(BeautifulSoup(requests.get(\"https://www.ss.com/lv/transport/cars/volkswagen/\").text, 'lxml'))\n",
    "carcols"
   ]
  },
  {
   "cell_type": "code",
   "execution_count": 67,
   "metadata": {},
   "outputs": [],
   "source": [
    "def getRow(row,colist):\n",
    "    row_tds = row.find_all('td')\n",
    "    rowDict = {}\n",
    "    if len(row_tds) <3: # a little sanity check\n",
    "        print(\"Hmm bad row\")\n",
    "        return rowDict\n",
    "    \n",
    "    rowDict[colist[0]] = row_tds[2].text\n",
    "    rowDict[colist[1]] = \"https://ss.com\" + row_tds[1].find('a').get('href')\n",
    "    for td,key in zip(row_tds[3:],colist[2:]): \n",
    "        rowDict[key] = td.text\n",
    "    return rowDict\n",
    "    "
   ]
  },
  {
   "cell_type": "code",
   "execution_count": 62,
   "metadata": {},
   "outputs": [
    {
     "data": {
      "text/plain": [
       "<title>SS.COM Dzīvokļi - Rīga, Cenas - Visi sludinājumi</title>"
      ]
     },
     "execution_count": 62,
     "metadata": {},
     "output_type": "execute_result"
    }
   ],
   "source": [
    "soup.title"
   ]
  },
  {
   "cell_type": "code",
   "execution_count": 63,
   "metadata": {},
   "outputs": [],
   "source": [
    "trows = soup.find_all('tr')\n",
    "aprows = [row for row in trows if row.get('id',\"\").startswith(\"tr_\") and not row.get('id',\"\").startswith(\"tr_bnr\") ]"
   ]
  },
  {
   "cell_type": "code",
   "execution_count": 64,
   "metadata": {},
   "outputs": [
    {
     "data": {
      "text/plain": [
       "{'description': 'Īpašnieki piedāvā iegādāties skaistu 3 istabas dzīvokli, 89 kv. ',\n",
       " 'url': 'https://ss.com/msg/lv/real-estate/flats/riga/agenskalns/ankni.html',\n",
       " 'Pagasts': 'ĀgenskalnsNometņu 18',\n",
       " 'Ist.': '3',\n",
       " 'm2': '89',\n",
       " 'Stāvs': '1/4',\n",
       " 'Sērija': 'Renov.',\n",
       " 'Cena': '80,000  €'}"
      ]
     },
     "execution_count": 64,
     "metadata": {},
     "output_type": "execute_result"
    }
   ],
   "source": [
    "getRows(aprows[0], mycolist)"
   ]
  },
  {
   "cell_type": "code",
   "execution_count": 65,
   "metadata": {},
   "outputs": [
    {
     "data": {
      "text/plain": [
       "<title>SS.COM Vieglie auto - Volkswagen, Cenas - Sludinājumi</title>"
      ]
     },
     "execution_count": 65,
     "metadata": {},
     "output_type": "execute_result"
    }
   ],
   "source": [
    "carsoup = BeautifulSoup(requests.get(\"https://www.ss.com/lv/transport/cars/volkswagen/\").text, 'lxml')\n",
    "carsoup.title"
   ]
  },
  {
   "cell_type": "code",
   "execution_count": 66,
   "metadata": {},
   "outputs": [
    {
     "data": {
      "text/plain": [
       "{'description': 'Sakarā ar cita auto iegādi tiek tirgots tehniski labā stāvoklī auto. Protams',\n",
       " 'url': 'https://ss.com/msg/lv/transport/cars/volkswagen/sharan/cbnpj.html',\n",
       " 'Modelis': 'Sharan',\n",
       " 'Gads': '2006',\n",
       " 'Tilp.': '1.9D',\n",
       " 'Nobrauk.': '284 tūkst.',\n",
       " 'Cena': '3,200  €'}"
      ]
     },
     "execution_count": 66,
     "metadata": {},
     "output_type": "execute_result"
    }
   ],
   "source": [
    "trows = carsoup.find_all('tr')\n",
    "aprows = [row for row in trows if row.get('id',\"\").startswith(\"tr_\") and not row.get('id',\"\").startswith(\"tr_bnr\") ]\n",
    "getRows(aprows[0], carcols)"
   ]
  },
  {
   "cell_type": "code",
   "execution_count": 68,
   "metadata": {},
   "outputs": [
    {
     "data": {
      "text/plain": [
       "<title>SS.COM Dzīvokļi - Rīga, Cenas - Visi sludinājumi</title>"
      ]
     },
     "execution_count": 68,
     "metadata": {},
     "output_type": "execute_result"
    }
   ],
   "source": [
    "soup.title"
   ]
  },
  {
   "cell_type": "code",
   "execution_count": 72,
   "metadata": {},
   "outputs": [],
   "source": [
    "def getRowList(url):\n",
    "    req = requests.get(url)\n",
    "    if req.status_code != 200:\n",
    "        print(\"Bad request\", req.status_code)\n",
    "        return [] # more likely to work even if one bad request goes through\n",
    "    soup = BeautifulSoup(req.text, 'lxml')\n",
    "    trows = soup.find_all('tr')\n",
    "    aprows = [row for row in trows if row.get('id',\"\").startswith(\"tr_\") and not row.get('id',\"\").startswith(\"tr_bnr\") ]\n",
    "    return aprows"
   ]
  },
  {
   "cell_type": "code",
   "execution_count": null,
   "metadata": {},
   "outputs": [],
   "source": []
  },
  {
   "cell_type": "code",
   "execution_count": 73,
   "metadata": {},
   "outputs": [],
   "source": [
    "def getAdList(myurl):\n",
    "    soup = BeautifulSoup(requests.get(myurl).text, 'lxml') # no status check\n",
    "    adlist = []\n",
    "    colist = getColList(soup)\n",
    "    urlist = getLocalPageList(myurl)\n",
    "    for url in urlist[:3]: #FIXME  for url in urlist: \n",
    "        print(f\"Getting Rows From {url}\")\n",
    "        rowlist = getRowList(url)\n",
    "        for row in rowlist:\n",
    "            adlist.append(getRow(row, colist))\n",
    "        print(f\"Finished Processing {url}\")\n",
    "        time.sleep(0.3) # good practice to add a little pause\n",
    "    return adlist\n",
    "    "
   ]
  },
  {
   "cell_type": "code",
   "execution_count": 70,
   "metadata": {},
   "outputs": [],
   "source": [
    "allRiga = \"https://www.ss.com/lv/real-estate/flats/riga/all/sell/\""
   ]
  },
  {
   "cell_type": "code",
   "execution_count": 74,
   "metadata": {},
   "outputs": [
    {
     "name": "stdout",
     "output_type": "stream",
     "text": [
      "Getting Rows From https://www.ss.com/lv/real-estate/flats/riga/all/sell/\n",
      "Finished Processing https://www.ss.com/lv/real-estate/flats/riga/all/sell/\n",
      "Getting Rows From https://www.ss.com/lv/real-estate/flats/riga/centre/sell/page2.html\n",
      "Finished Processing https://www.ss.com/lv/real-estate/flats/riga/centre/sell/page2.html\n",
      "Getting Rows From https://www.ss.com/lv/real-estate/flats/riga/centre/sell/page3.html\n",
      "Finished Processing https://www.ss.com/lv/real-estate/flats/riga/centre/sell/page3.html\n"
     ]
    }
   ],
   "source": [
    "adlist = getAdList(allRiga)"
   ]
  },
  {
   "cell_type": "code",
   "execution_count": 75,
   "metadata": {},
   "outputs": [
    {
     "data": {
      "text/plain": [
       "90"
      ]
     },
     "execution_count": 75,
     "metadata": {},
     "output_type": "execute_result"
    }
   ],
   "source": [
    "len(adlist)"
   ]
  },
  {
   "cell_type": "code",
   "execution_count": 76,
   "metadata": {},
   "outputs": [
    {
     "data": {
      "text/plain": [
       "[{'description': 'Только закончен ремонт. \\r\\n1-к квартира, 4/4 этаж, находится в Ке',\n",
       "  'url': 'https://ss.com/msg/lv/real-estate/flats/riga/kengarags/dbeek.html',\n",
       "  'Pagasts': 'ĶengaragsMaskavas 387',\n",
       "  'Ist.': '1',\n",
       "  'm2': '31',\n",
       "  'Stāvs': '4/4',\n",
       "  'Sērija': 'Hrušč.',\n",
       "  'Cena': '25,500  €'},\n",
       " {'description': 'Продается двухкомнатная квартира в хорошем развитом районе, треб',\n",
       "  'url': 'https://ss.com/msg/lv/real-estate/flats/riga/imanta/gkfxn.html',\n",
       "  'Pagasts': 'ImantaSlokas 195',\n",
       "  'Ist.': '2',\n",
       "  'm2': '39',\n",
       "  'Stāvs': '1/5',\n",
       "  'Sērija': 'LT proj.',\n",
       "  'Cena': '36,500  €'}]"
      ]
     },
     "execution_count": 76,
     "metadata": {},
     "output_type": "execute_result"
    }
   ],
   "source": [
    "adlist[:2]"
   ]
  },
  {
   "cell_type": "code",
   "execution_count": 77,
   "metadata": {},
   "outputs": [
    {
     "data": {
      "text/html": [
       "<div>\n",
       "<style scoped>\n",
       "    .dataframe tbody tr th:only-of-type {\n",
       "        vertical-align: middle;\n",
       "    }\n",
       "\n",
       "    .dataframe tbody tr th {\n",
       "        vertical-align: top;\n",
       "    }\n",
       "\n",
       "    .dataframe thead th {\n",
       "        text-align: right;\n",
       "    }\n",
       "</style>\n",
       "<table border=\"1\" class=\"dataframe\">\n",
       "  <thead>\n",
       "    <tr style=\"text-align: right;\">\n",
       "      <th></th>\n",
       "      <th>Cena</th>\n",
       "      <th>Ist.</th>\n",
       "      <th>Pagasts</th>\n",
       "      <th>Stāvs</th>\n",
       "      <th>Sērija</th>\n",
       "      <th>description</th>\n",
       "      <th>m2</th>\n",
       "      <th>url</th>\n",
       "    </tr>\n",
       "  </thead>\n",
       "  <tbody>\n",
       "    <tr>\n",
       "      <th>0</th>\n",
       "      <td>25,500  €</td>\n",
       "      <td>1</td>\n",
       "      <td>ĶengaragsMaskavas 387</td>\n",
       "      <td>4/4</td>\n",
       "      <td>Hrušč.</td>\n",
       "      <td>Только закончен ремонт. \\r\\n1-к квартира, 4/4 ...</td>\n",
       "      <td>31</td>\n",
       "      <td>https://ss.com/msg/lv/real-estate/flats/riga/k...</td>\n",
       "    </tr>\n",
       "    <tr>\n",
       "      <th>1</th>\n",
       "      <td>36,500  €</td>\n",
       "      <td>2</td>\n",
       "      <td>ImantaSlokas 195</td>\n",
       "      <td>1/5</td>\n",
       "      <td>LT proj.</td>\n",
       "      <td>Продается двухкомнатная квартира в хорошем раз...</td>\n",
       "      <td>39</td>\n",
       "      <td>https://ss.com/msg/lv/real-estate/flats/riga/i...</td>\n",
       "    </tr>\n",
       "    <tr>\n",
       "      <th>2</th>\n",
       "      <td>50,000  €</td>\n",
       "      <td>4</td>\n",
       "      <td>ĀgenskalnsKuldīgas 48</td>\n",
       "      <td>1/2</td>\n",
       "      <td>P. kara</td>\n",
       "      <td>Pārdodu dzīvokli Āgenskalna priežu rajonā Kuld...</td>\n",
       "      <td>54</td>\n",
       "      <td>https://ss.com/msg/lv/real-estate/flats/riga/a...</td>\n",
       "    </tr>\n",
       "    <tr>\n",
       "      <th>3</th>\n",
       "      <td>69,500  €</td>\n",
       "      <td>3</td>\n",
       "      <td>Maskavas priekšpilsētaJēkabpils 2</td>\n",
       "      <td>2/5</td>\n",
       "      <td>Specpr.</td>\n",
       "      <td>Plašs un gaišs trīs istabu dzīvoklis pašā Rīga...</td>\n",
       "      <td>73</td>\n",
       "      <td>https://ss.com/msg/lv/real-estate/flats/riga/m...</td>\n",
       "    </tr>\n",
       "    <tr>\n",
       "      <th>4</th>\n",
       "      <td>69,500  €</td>\n",
       "      <td>3</td>\n",
       "      <td>centrsSadovņikova 29</td>\n",
       "      <td>2/5</td>\n",
       "      <td>Specpr.</td>\n",
       "      <td>Plašs un gaišs trīs istabu dzīvoklis pašā Rīga...</td>\n",
       "      <td>73</td>\n",
       "      <td>https://ss.com/msg/lv/real-estate/flats/riga/c...</td>\n",
       "    </tr>\n",
       "  </tbody>\n",
       "</table>\n",
       "</div>"
      ],
      "text/plain": [
       "        Cena Ist.                            Pagasts Stāvs    Sērija  \\\n",
       "0  25,500  €    1              ĶengaragsMaskavas 387   4/4    Hrušč.   \n",
       "1  36,500  €    2                   ImantaSlokas 195   1/5  LT proj.   \n",
       "2  50,000  €    4              ĀgenskalnsKuldīgas 48   1/2   P. kara   \n",
       "3  69,500  €    3  Maskavas priekšpilsētaJēkabpils 2   2/5   Specpr.   \n",
       "4  69,500  €    3               centrsSadovņikova 29   2/5   Specpr.   \n",
       "\n",
       "                                         description  m2  \\\n",
       "0  Только закончен ремонт. \\r\\n1-к квартира, 4/4 ...  31   \n",
       "1  Продается двухкомнатная квартира в хорошем раз...  39   \n",
       "2  Pārdodu dzīvokli Āgenskalna priežu rajonā Kuld...  54   \n",
       "3  Plašs un gaišs trīs istabu dzīvoklis pašā Rīga...  73   \n",
       "4  Plašs un gaišs trīs istabu dzīvoklis pašā Rīga...  73   \n",
       "\n",
       "                                                 url  \n",
       "0  https://ss.com/msg/lv/real-estate/flats/riga/k...  \n",
       "1  https://ss.com/msg/lv/real-estate/flats/riga/i...  \n",
       "2  https://ss.com/msg/lv/real-estate/flats/riga/a...  \n",
       "3  https://ss.com/msg/lv/real-estate/flats/riga/m...  \n",
       "4  https://ss.com/msg/lv/real-estate/flats/riga/c...  "
      ]
     },
     "execution_count": 77,
     "metadata": {},
     "output_type": "execute_result"
    }
   ],
   "source": [
    "df = pd.DataFrame(adlist)\n",
    "df.head()"
   ]
  },
  {
   "cell_type": "code",
   "execution_count": 78,
   "metadata": {},
   "outputs": [],
   "source": [
    "df.to_excel(\"allRiga.xlsx\")"
   ]
  },
  {
   "cell_type": "code",
   "execution_count": null,
   "metadata": {},
   "outputs": [],
   "source": [
    "def getRegionList(url, baseurl = \"https://ss.com\", postfix = \"sell/\"):\n",
    "    req = requests.get(url)\n",
    "    if req.status_code != 200:\n",
    "        print(f\"Bad response! {req.status_code}\")\n",
    "        return []\n",
    "    soup = BeautifulSoup(req.text, 'lxml')\n",
    "    allanchors = soup.find_all('a')\n",
    "    acats = [el for el in allanchors if 'class' in el.attrs\\\n",
    "             and 'a_category' in el.attrs['class']]\n",
    "    regionlist = [baseurl + el.attrs['href'] + postfix for el in acats]\n",
    "#     regiontuples = [(el.text, baseurl + el.attrs['href'] + postfix)\\\n",
    "#                     for el in acats]\n",
    "    # we do not want the last one with all\n",
    "    return regionlist[:-1]\n",
    "    "
   ]
  },
  {
   "cell_type": "code",
   "execution_count": null,
   "metadata": {},
   "outputs": [],
   "source": [
    "myregions = getRegionList(url)\n",
    "len(myregions)"
   ]
  },
  {
   "cell_type": "code",
   "execution_count": null,
   "metadata": {},
   "outputs": [],
   "source": [
    "def getAllLocalUrls(url):\n",
    "    \"\"\"Get a list of all urls including paginated pages\"\"\"\n",
    "    results = [url] # default is just the url if no extra pages found\n",
    "    req = requests.get(url)\n",
    "    if req.status_code != 200:\n",
    "        print(f\"Bad response! {req.status_code}\")\n",
    "        return []\n",
    "    soup = BeautifulSoup(req.text, 'lxml')\n",
    "    # we just need a one element\n",
    "    prevanchor = soup.find('a', {\"rel\":\"prev\"})\n",
    "    if prevanchor == None:\n",
    "        return results\n",
    "    href = prevanchor.attrs.get('href')\n",
    "    lastPageNum = int(href.split('page')[-1].split('.')[0])\n",
    "    print(lastPageNum)\n",
    "    nurls = [f\"{url}page{n}.html\" for n in range(2,lastPageNum+1)]\n",
    "    results += nurls\n",
    "    return results"
   ]
  },
  {
   "cell_type": "code",
   "execution_count": null,
   "metadata": {},
   "outputs": [],
   "source": [
    "myresults = getAllLocalUrls(myregions[0])\n",
    "myresults"
   ]
  },
  {
   "cell_type": "code",
   "execution_count": null,
   "metadata": {},
   "outputs": [],
   "source": [
    "mysplit = href.split(\".\")\n",
    "mysplit"
   ]
  },
  {
   "cell_type": "code",
   "execution_count": null,
   "metadata": {},
   "outputs": [],
   "source": [
    "splitbypage = mysplit[0].split(\"page\")\n",
    "splitbypage"
   ]
  },
  {
   "cell_type": "code",
   "execution_count": null,
   "metadata": {},
   "outputs": [],
   "source": [
    "int(splitbypage[1]),splitbypage[1],type(splitbypage[1])"
   ]
  },
  {
   "cell_type": "code",
   "execution_count": null,
   "metadata": {},
   "outputs": [],
   "source": [
    "def getAllUrls(url=\"https://www.ss.com/lv/real-estate/flats/riga/\"):\n",
    "    urlist = []\n",
    "    reglist = getRegionList(url)\n",
    "    for region in reglist:\n",
    "        print(f\"Working on {region}\")\n",
    "        regurls = getAllLocalUrls(region)\n",
    "        urlist += regurls\n",
    "        time.sleep(0.3)\n",
    "    return urlist"
   ]
  },
  {
   "cell_type": "code",
   "execution_count": null,
   "metadata": {},
   "outputs": [],
   "source": [
    "urlist = getAllUrls()\n",
    "len(urlist)"
   ]
  },
  {
   "cell_type": "code",
   "execution_count": null,
   "metadata": {},
   "outputs": [],
   "source": [
    "def getAllRows(url):\n",
    "    req = requests.get(url)\n",
    "    if req.status_code != 200:\n",
    "        print(f\"Bad response! {req.status_code}\")\n",
    "        return []\n",
    "    soup = BeautifulSoup(req.text, 'lxml')\n",
    "    allrows = soup.find_all('tr')\n",
    "    adrows = [el for el in allrows\\\n",
    "              if 'id' in el.attrs and 'tr_' in el.attrs['id']]\n",
    "    return adrows[:-1] # since the last one is not an ad"
   ]
  },
  {
   "cell_type": "code",
   "execution_count": null,
   "metadata": {},
   "outputs": [],
   "source": [
    "other = getAllRows(\"https://ss.com/lv/real-estate/flats/riga/other/sell/\")\n",
    "len(other)"
   ]
  },
  {
   "cell_type": "code",
   "execution_count": null,
   "metadata": {},
   "outputs": [],
   "source": [
    "def getRow(row):\n",
    "    # get all table data cells\n",
    "    tds = row.find_all('td')\n",
    "    adlist = []\n",
    "    adlist.append(tds[1].find('a').attrs['href'])\n",
    "    for td in tds[2:]:\n",
    "        adlist.append(td.text)\n",
    "    return tuple(adlist)"
   ]
  },
  {
   "cell_type": "code",
   "execution_count": null,
   "metadata": {},
   "outputs": [],
   "source": [
    "getRow(other[0])"
   ]
  },
  {
   "cell_type": "code",
   "execution_count": null,
   "metadata": {},
   "outputs": [],
   "source": [
    "def processAllUrls(urlist):\n",
    "    results = []\n",
    "    for url in urlist:\n",
    "        print(f\"Processing {url}\")\n",
    "        rows = getAllRows(url)\n",
    "        for row in rows:\n",
    "            results.append(getRow(row))\n",
    "        time.sleep(0.3)\n",
    "    return results"
   ]
  },
  {
   "cell_type": "code",
   "execution_count": null,
   "metadata": {},
   "outputs": [],
   "source": [
    "myrooms = processAllUrls(urlist)\n",
    "len(myrooms)"
   ]
  },
  {
   "cell_type": "code",
   "execution_count": null,
   "metadata": {},
   "outputs": [],
   "source": [
    "myrooms[:5]"
   ]
  },
  {
   "cell_type": "code",
   "execution_count": null,
   "metadata": {},
   "outputs": [],
   "source": [
    "len(myrooms)/9"
   ]
  },
  {
   "cell_type": "code",
   "execution_count": null,
   "metadata": {},
   "outputs": [],
   "source": []
  },
  {
   "cell_type": "code",
   "execution_count": null,
   "metadata": {},
   "outputs": [],
   "source": [
    "# originally we messed up and used += instead of mylist.append(newitem)\n",
    "fixmyrooms = [tuple(myrooms[n*9:n*9+9]) for n in range(len(myrooms)//9)]\n",
    "len(fixmyrooms)"
   ]
  },
  {
   "cell_type": "code",
   "execution_count": null,
   "metadata": {},
   "outputs": [],
   "source": [
    "fixmyrooms[:5]"
   ]
  },
  {
   "cell_type": "code",
   "execution_count": null,
   "metadata": {},
   "outputs": [],
   "source": [
    "base  = \"https://www.ss.com\"\n",
    "fixmyrooms = [tuple([base+el[0]] + list(el[1:])) for el in myrooms]\n",
    "fixmyrooms[:3]"
   ]
  },
  {
   "cell_type": "code",
   "execution_count": null,
   "metadata": {},
   "outputs": [],
   "source": [
    "df = pd.DataFrame(fixmyrooms)\n",
    "df.head()"
   ]
  },
  {
   "cell_type": "code",
   "execution_count": null,
   "metadata": {},
   "outputs": [],
   "source": [
    "import datetime"
   ]
  },
  {
   "cell_type": "code",
   "execution_count": null,
   "metadata": {},
   "outputs": [],
   "source": [
    "now = datetime.datetime.now()\n",
    "now"
   ]
  },
  {
   "cell_type": "code",
   "execution_count": null,
   "metadata": {},
   "outputs": [],
   "source": [
    "now.month"
   ]
  },
  {
   "cell_type": "code",
   "execution_count": null,
   "metadata": {},
   "outputs": [],
   "source": [
    "now.hour"
   ]
  },
  {
   "cell_type": "code",
   "execution_count": null,
   "metadata": {},
   "outputs": [],
   "source": [
    "now.minute"
   ]
  },
  {
   "cell_type": "code",
   "execution_count": null,
   "metadata": {},
   "outputs": [],
   "source": [
    "now.second"
   ]
  },
  {
   "cell_type": "code",
   "execution_count": null,
   "metadata": {},
   "outputs": [],
   "source": [
    "now = datetime.datetime.now()\n",
    "df.to_csv(f'apartments\\\n",
    "_{now.month}_{now.hour}_{now.minute}_{now.second}.csv')"
   ]
  },
  {
   "cell_type": "code",
   "execution_count": null,
   "metadata": {},
   "outputs": [],
   "source": [
    "df.to_excel('apartments.xlsx')"
   ]
  },
  {
   "cell_type": "code",
   "execution_count": null,
   "metadata": {},
   "outputs": [],
   "source": [
    "def getColumnNames(url, colNames = ['URL', 'Description']):\n",
    "    result = []\n",
    "    result += colNames\n",
    "    req = requests.get(url)\n",
    "    if req.status_code != 200:\n",
    "        print(f\"Bad response! {req.status_code}\")\n",
    "        return []\n",
    "    soup = BeautifulSoup(req.text, 'lxml')\n",
    "    columnrow = soup.find('tr', {'id':'head_line'})\n",
    "    tds = columnrow.find_all('td')\n",
    "    for td in tds[1:]:\n",
    "        result.append(td.text)\n",
    "    return result\n",
    "    "
   ]
  },
  {
   "cell_type": "code",
   "execution_count": null,
   "metadata": {},
   "outputs": [],
   "source": []
  },
  {
   "cell_type": "code",
   "execution_count": null,
   "metadata": {},
   "outputs": [],
   "source": [
    "columnNames = getColumnNames(\"https://www.ss.com/lv/real-estate/flats/riga/other/sell/\")"
   ]
  },
  {
   "cell_type": "code",
   "execution_count": null,
   "metadata": {},
   "outputs": [],
   "source": [
    "columnNames"
   ]
  },
  {
   "cell_type": "code",
   "execution_count": null,
   "metadata": {},
   "outputs": [],
   "source": [
    "columnNames"
   ]
  },
  {
   "cell_type": "code",
   "execution_count": null,
   "metadata": {},
   "outputs": [],
   "source": [
    "df.columns = columnNames\n",
    "df.head()"
   ]
  },
  {
   "cell_type": "code",
   "execution_count": null,
   "metadata": {},
   "outputs": [],
   "source": [
    "%%writefile util.py\n",
    "def getFileName(prefix=\"apartments\", postfix=\"xlsx\", hasYear=False):\n",
    "    now = datetime.datetime.now()\n",
    "    if hasYear:\n",
    "        return f\"{prefix}_{now.year}_{now.month}_{now.hour}\\\n",
    "_{now.minute}_{now.second}.{postfix}\"\n",
    "    else:\n",
    "        return f\"{prefix}_{now.month}_{now.hour}\\\n",
    "_{now.minute}_{now.second}.{postfix}\""
   ]
  },
  {
   "cell_type": "code",
   "execution_count": null,
   "metadata": {},
   "outputs": [],
   "source": [
    "import util"
   ]
  },
  {
   "cell_type": "code",
   "execution_count": null,
   "metadata": {},
   "outputs": [],
   "source": [
    "util.getFileName()"
   ]
  },
  {
   "cell_type": "code",
   "execution_count": null,
   "metadata": {},
   "outputs": [],
   "source": [
    "getFileName(\"rooms\", postfix=\"txt\",hasYear=True)"
   ]
  },
  {
   "cell_type": "code",
   "execution_count": null,
   "metadata": {},
   "outputs": [],
   "source": [
    "getFileName(\"cars\", postfix=\"xlsx\")"
   ]
  },
  {
   "cell_type": "code",
   "execution_count": null,
   "metadata": {},
   "outputs": [],
   "source": []
  },
  {
   "cell_type": "code",
   "execution_count": null,
   "metadata": {},
   "outputs": [],
   "source": []
  },
  {
   "cell_type": "code",
   "execution_count": null,
   "metadata": {},
   "outputs": [],
   "source": [
    "now = datetime.datetime.now()\n",
    "df.to_csv(getFileName())"
   ]
  },
  {
   "cell_type": "code",
   "execution_count": null,
   "metadata": {},
   "outputs": [],
   "source": [
    "df.to_excel('apartments.xlsx')"
   ]
  },
  {
   "cell_type": "code",
   "execution_count": null,
   "metadata": {},
   "outputs": [],
   "source": [
    "df.to_excel(getFileName())"
   ]
  },
  {
   "cell_type": "code",
   "execution_count": null,
   "metadata": {},
   "outputs": [],
   "source": [
    "from IPython.display import HTML\n",
    "\n",
    "def create_download_link( df, title = \"Download CSV file\", filename = \"data.csv\"):  \n",
    "    csv = df.to_csv()\n",
    "    b64 = base64.b64encode(csv.encode())\n",
    "    payload = b64.decode()\n",
    "    html = '<a download=\"{filename}\" href=\"data:text/csv;base64,{payload}\" target=\"_blank\">{title}</a>'\n",
    "    html = html.format(payload=payload,title=title,filename=filename)\n",
    "    return HTML(html)"
   ]
  },
  {
   "cell_type": "code",
   "execution_count": null,
   "metadata": {},
   "outputs": [],
   "source": [
    "import base64"
   ]
  },
  {
   "cell_type": "code",
   "execution_count": null,
   "metadata": {},
   "outputs": [],
   "source": [
    "create_download_link(df)"
   ]
  }
 ],
 "metadata": {
  "kernelspec": {
   "display_name": "Python 3",
   "language": "python",
   "name": "python3"
  },
  "language_info": {
   "codemirror_mode": {
    "name": "ipython",
    "version": 3
   },
   "file_extension": ".py",
   "mimetype": "text/x-python",
   "name": "python",
   "nbconvert_exporter": "python",
   "pygments_lexer": "ipython3",
   "version": "3.7.3"
  }
 },
 "nbformat": 4,
 "nbformat_minor": 2
}
