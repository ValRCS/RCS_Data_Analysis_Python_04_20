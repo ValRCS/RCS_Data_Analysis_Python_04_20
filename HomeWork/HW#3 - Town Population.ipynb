{
 "cells": [
  {
   "cell_type": "code",
   "execution_count": 1,
   "metadata": {},
   "outputs": [],
   "source": [
    "# Arturs solution\n",
    "def nb_yearA(p0,percent,aug,p):\n",
    "    if p0 >= int(1) and p >= int(1): # why int(1) just 1 is fine\n",
    "        year = 0\n",
    "        population = 0\n",
    "        print(f\"Town have {p0} inhabitants \\nPopulation increase rate is {percent}% \\nGoal is {p} inhabitants or greater\\n\")\n",
    "        while p0 < p:\n",
    "            p0 = p0+p0*(percent/100)+aug\n",
    "            year+=1\n",
    "            print(f\"At the end of year {year} population could reach {int(p0)} inhabitants\")\n",
    "        else:\n",
    "            print(f\"\\nAfter {year} years {int(p0)} inhabitants will live in Town\")\n",
    "    else:\n",
    "        if p0 < 4:\n",
    "            print(f\"Wrong input >>{p0}<<, at least 4 alive inhabitants expected! \")\n",
    "        elif p < 1:\n",
    "            print(f\"Wrong input >>{p}<<, execution of {-p} ingabitants not allowed!\")"
   ]
  },
  {
   "cell_type": "code",
   "execution_count": 2,
   "metadata": {},
   "outputs": [
    {
     "data": {
      "text/plain": [
       "True"
      ]
     },
     "execution_count": 2,
     "metadata": {},
     "output_type": "execute_result"
    }
   ],
   "source": [
    "type(55) == int"
   ]
  },
  {
   "cell_type": "code",
   "execution_count": 3,
   "metadata": {},
   "outputs": [
    {
     "data": {
      "text/plain": [
       "False"
      ]
     },
     "execution_count": 3,
     "metadata": {},
     "output_type": "execute_result"
    }
   ],
   "source": [
    "type(66.2) == int"
   ]
  },
  {
   "cell_type": "code",
   "execution_count": 4,
   "metadata": {},
   "outputs": [
    {
     "data": {
      "text/plain": [
       "True"
      ]
     },
     "execution_count": 4,
     "metadata": {},
     "output_type": "execute_result"
    }
   ],
   "source": [
    "type(66.2) == float"
   ]
  },
  {
   "cell_type": "code",
   "execution_count": 5,
   "metadata": {},
   "outputs": [],
   "source": [
    "# Viesturs solution\n",
    "def nb_yearV(p0,percent,aug,p):\n",
    "    '''\n",
    "    Ievadot 'p0' kā sākotnējo iedzīvotāju skaitu, 'percent' kā ikgadējo pieaugumu procentos \n",
    "    un 'aug' kā ikgadējo papildus skaitlisko pieaugumu, tiek atgriezts pēc cik veseliem gadiem iedzīvotāju \n",
    "    skaits sasniegs ievadīto vērtību 'p'\n",
    "    '''\n",
    "    \n",
    "    \n",
    "    if  p0*(percent/100) + aug != 0:\n",
    "        if type(aug) == int and percent >= 0 and p > 0 and p0 > 0:\n",
    "            year = 0\n",
    "            while p0 < p:\n",
    "                p0 = p0+ p0*(percent/100)+aug  \n",
    "                year += 1\n",
    "                if p0 <= 0:\n",
    "                    break\n",
    "            if p0>0:\n",
    "                return year\n",
    "            else:\n",
    "                print(f'Pēc {year} gadiem pilsētā nomira visi iedzīvotāji')\n",
    "        else:\n",
    "            print('Ievadītie parametri neatbilst uzdevumā minētajām prasībām')\n",
    "    else:\n",
    "        print('Iedzīvotāju skaits ir nemainīgs')"
   ]
  },
  {
   "cell_type": "code",
   "execution_count": 9,
   "metadata": {},
   "outputs": [],
   "source": [
    "# Viesturs solution cleaned\n",
    "def nb_year_cleaned(p0,percent,aug,p):\n",
    "    '''\n",
    "    Ievadot 'p0' kā sākotnējo iedzīvotāju skaitu, 'percent' kā ikgadējo pieaugumu procentos \n",
    "    un 'aug' kā ikgadējo papildus skaitlisko pieaugumu, tiek atgriezts pēc cik veseliem gadiem iedzīvotāju \n",
    "    skaits sasniegs ievadīto vērtību 'p'\n",
    "    '''\n",
    "    \n",
    "    if type(aug) != int or percent < 0 or p <= 0 or p0 <= 0:\n",
    "        print('Ievadītie parametri neatbilst uzdevumā minētajām prasībām')\n",
    "        return None\n",
    "    \n",
    "    if  p0*(percent/100) + aug == 0:\n",
    "        print('Iedzīvotāju skaits ir nemainīgs')\n",
    "        return 0 # or infinity\n",
    "        \n",
    "    year = 0\n",
    "    while p0 < p:\n",
    "        p0 = p0+ p0*(percent/100)+aug  \n",
    "        year += 1\n",
    "        if p0 <= 0:\n",
    "            print(f'Pēc {year} gadiem pilsētā nomira visi iedzīvotāji')\n",
    "            return year\n",
    "  \n",
    "    return year\n",
    "\n",
    "        "
   ]
  },
  {
   "cell_type": "code",
   "execution_count": null,
   "metadata": {},
   "outputs": [],
   "source": []
  },
  {
   "cell_type": "code",
   "execution_count": 6,
   "metadata": {},
   "outputs": [
    {
     "data": {
      "text/plain": [
       "15"
      ]
     },
     "execution_count": 6,
     "metadata": {},
     "output_type": "execute_result"
    }
   ],
   "source": [
    "nb_yearV(1500, 5, 100, 5000)  "
   ]
  },
  {
   "cell_type": "code",
   "execution_count": 10,
   "metadata": {},
   "outputs": [
    {
     "data": {
      "text/plain": [
       "15"
      ]
     },
     "execution_count": 10,
     "metadata": {},
     "output_type": "execute_result"
    }
   ],
   "source": [
    "nb_year_cleaned(1500, 5, 100, 5000)  "
   ]
  }
 ],
 "metadata": {
  "kernelspec": {
   "display_name": "Python 3",
   "language": "python",
   "name": "python3"
  },
  "language_info": {
   "codemirror_mode": {
    "name": "ipython",
    "version": 3
   },
   "file_extension": ".py",
   "mimetype": "text/x-python",
   "name": "python",
   "nbconvert_exporter": "python",
   "pygments_lexer": "ipython3",
   "version": "3.7.3"
  }
 },
 "nbformat": 4,
 "nbformat_minor": 2
}
