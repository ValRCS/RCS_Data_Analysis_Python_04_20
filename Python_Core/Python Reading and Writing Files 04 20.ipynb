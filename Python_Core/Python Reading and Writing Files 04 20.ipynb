{
 "cells": [
  {
   "cell_type": "code",
   "execution_count": 1,
   "metadata": {},
   "outputs": [
    {
     "data": {
      "text/plain": [
       "_io.TextIOWrapper"
      ]
     },
     "execution_count": 1,
     "metadata": {},
     "output_type": "execute_result"
    }
   ],
   "source": [
    "fstream = open('README.md')\n",
    "type(fstream)"
   ]
  },
  {
   "cell_type": "code",
   "execution_count": 2,
   "metadata": {},
   "outputs": [
    {
     "data": {
      "text/plain": [
       "'## Python Core Language \\n\\nIncluding some standard libraries\\n\\n### Official Documentation\\n\\n* https://docs.python.org/3/\\n'"
      ]
     },
     "execution_count": 2,
     "metadata": {},
     "output_type": "execute_result"
    }
   ],
   "source": [
    "text = fstream.read() # we can read everything\n",
    "text"
   ]
  },
  {
   "cell_type": "code",
   "execution_count": 5,
   "metadata": {},
   "outputs": [
    {
     "data": {
      "text/plain": [
       "''"
      ]
     },
     "execution_count": 5,
     "metadata": {},
     "output_type": "execute_result"
    }
   ],
   "source": [
    "moretext = fstream.read()\n",
    "moretext # so why do we get nothing the second time?"
   ]
  },
  {
   "cell_type": "code",
   "execution_count": 6,
   "metadata": {},
   "outputs": [
    {
     "data": {
      "text/plain": [
       "['## Python Core Language \\n',\n",
       " '\\n',\n",
       " 'Including some standard libraries\\n',\n",
       " '\\n',\n",
       " '### Official Documentation\\n',\n",
       " '\\n',\n",
       " '* https://docs.python.org/3/\\n']"
      ]
     },
     "execution_count": 6,
     "metadata": {},
     "output_type": "execute_result"
    }
   ],
   "source": [
    "# we need to reset head to start if we want to read the stream again\n",
    "fstream.seek(0)\n",
    "textlines = fstream.readlines()\n",
    "textlines"
   ]
  },
  {
   "cell_type": "code",
   "execution_count": 7,
   "metadata": {},
   "outputs": [],
   "source": [
    "fstream.close() # so we would need to remember to close manually"
   ]
  },
  {
   "cell_type": "code",
   "execution_count": 9,
   "metadata": {},
   "outputs": [
    {
     "ename": "ValueError",
     "evalue": "I/O operation on closed file.",
     "output_type": "error",
     "traceback": [
      "\u001b[1;31m---------------------------------------------------------------------------\u001b[0m",
      "\u001b[1;31mValueError\u001b[0m                                Traceback (most recent call last)",
      "\u001b[1;32m<ipython-input-9-1de653973913>\u001b[0m in \u001b[0;36m<module>\u001b[1;34m\u001b[0m\n\u001b[1;32m----> 1\u001b[1;33m \u001b[0mfstream\u001b[0m\u001b[1;33m.\u001b[0m\u001b[0mread\u001b[0m\u001b[1;33m(\u001b[0m\u001b[1;33m)\u001b[0m \u001b[1;31m# good we can not read a closed file\u001b[0m\u001b[1;33m\u001b[0m\u001b[1;33m\u001b[0m\u001b[0m\n\u001b[0m",
      "\u001b[1;31mValueError\u001b[0m: I/O operation on closed file."
     ]
    }
   ],
   "source": [
    "fstream.read() # good we can not read a closed file"
   ]
  },
  {
   "cell_type": "code",
   "execution_count": 10,
   "metadata": {},
   "outputs": [
    {
     "name": "stdout",
     "output_type": "stream",
     "text": [
      "File is closed already here\n"
     ]
    },
    {
     "data": {
      "text/plain": [
       "['## Python Core Language \\n',\n",
       " '\\n',\n",
       " 'Including some standard libraries\\n',\n",
       " '\\n',\n",
       " '### Official Documentation\\n',\n",
       " '\\n',\n",
       " '* https://docs.python.org/3/\\n']"
      ]
     },
     "execution_count": 10,
     "metadata": {},
     "output_type": "execute_result"
    }
   ],
   "source": [
    "with open('README.md') as f:\n",
    "    mylines = f.readlines()\n",
    "# file will be closed here\n",
    "print(\"File is closed already here\")\n",
    "mylines"
   ]
  },
  {
   "cell_type": "code",
   "execution_count": 11,
   "metadata": {},
   "outputs": [
    {
     "name": "stdout",
     "output_type": "stream",
     "text": [
      "Got mlines in length: 1001\n"
     ]
    }
   ],
   "source": [
    "# usually you would open CSV file with a library such as CSV or Pandas (which we will look in a week or so)\n",
    "# for difficult path manipulation we would use os.pathlib\n",
    "# here we have a relative data path we go up one level and then to sibling folder data\n",
    "with open('../data/MOCK_DATA_A24.csv') as fstream:\n",
    "    mlines = fstream.readlines()\n",
    "print(\"Got mlines in length:\", len(mlines))\n",
    "    "
   ]
  },
  {
   "cell_type": "code",
   "execution_count": 12,
   "metadata": {},
   "outputs": [
    {
     "data": {
      "text/plain": [
       "list"
      ]
     },
     "execution_count": 12,
     "metadata": {},
     "output_type": "execute_result"
    }
   ],
   "source": [
    "type(mlines)"
   ]
  },
  {
   "cell_type": "code",
   "execution_count": 13,
   "metadata": {},
   "outputs": [
    {
     "data": {
      "text/plain": [
       "['id,first_name,last_name,email,gender,ip_address,age\\n',\n",
       " '1,Orelie,Oxbe,ooxbe0@chicagotribune.com,Female,104.158.76.212,71\\n',\n",
       " '2,Elke,Vasyutin,evasyutin1@mail.ru,Female,75.248.31.227,70\\n',\n",
       " '3,Godfrey,Bengtsen,gbengtsen2@live.com,Male,184.20.158.49,55\\n',\n",
       " '4,Dolly,Caitlin,dcaitlin3@google.com,Female,137.157.89.124,81\\n']"
      ]
     },
     "execution_count": 13,
     "metadata": {},
     "output_type": "execute_result"
    }
   ],
   "source": [
    "mlines[:5]"
   ]
  },
  {
   "cell_type": "code",
   "execution_count": null,
   "metadata": {},
   "outputs": [],
   "source": [
    "# Next Step how to transform this into a list of tuples of individual cells "
   ]
  },
  {
   "cell_type": "code",
   "execution_count": 14,
   "metadata": {},
   "outputs": [
    {
     "data": {
      "text/plain": [
       "'1,Orelie,Oxbe,ooxbe0@chicagotribune.com,Female,104.158.76.212,71\\n'"
      ]
     },
     "execution_count": 14,
     "metadata": {},
     "output_type": "execute_result"
    }
   ],
   "source": [
    "fline = mlines[1]\n",
    "fline"
   ]
  },
  {
   "cell_type": "code",
   "execution_count": 15,
   "metadata": {},
   "outputs": [
    {
     "data": {
      "text/plain": [
       "'1,Orelie,Oxbe,ooxbe0@chicagotribune.com,Female,104.158.76.212,71'"
      ]
     },
     "execution_count": 15,
     "metadata": {},
     "output_type": "execute_result"
    }
   ],
   "source": [
    "fline.strip()"
   ]
  },
  {
   "cell_type": "code",
   "execution_count": 17,
   "metadata": {},
   "outputs": [
    {
     "data": {
      "text/plain": [
       "('1',\n",
       " 'Orelie',\n",
       " 'Oxbe',\n",
       " 'ooxbe0@chicagotribune.com',\n",
       " 'Female',\n",
       " '104.158.76.212',\n",
       " '71')"
      ]
     },
     "execution_count": 17,
     "metadata": {},
     "output_type": "execute_result"
    }
   ],
   "source": [
    "tuple(fline.strip().split(','))"
   ]
  },
  {
   "cell_type": "code",
   "execution_count": 18,
   "metadata": {
    "scrolled": true
   },
   "outputs": [
    {
     "data": {
      "text/plain": [
       "[('id', 'first_name', 'last_name', 'email', 'gender', 'ip_address', 'age'),\n",
       " ('1',\n",
       "  'Orelie',\n",
       "  'Oxbe',\n",
       "  'ooxbe0@chicagotribune.com',\n",
       "  'Female',\n",
       "  '104.158.76.212',\n",
       "  '71'),\n",
       " ('2',\n",
       "  'Elke',\n",
       "  'Vasyutin',\n",
       "  'evasyutin1@mail.ru',\n",
       "  'Female',\n",
       "  '75.248.31.227',\n",
       "  '70'),\n",
       " ('3',\n",
       "  'Godfrey',\n",
       "  'Bengtsen',\n",
       "  'gbengtsen2@live.com',\n",
       "  'Male',\n",
       "  '184.20.158.49',\n",
       "  '55'),\n",
       " ('4',\n",
       "  'Dolly',\n",
       "  'Caitlin',\n",
       "  'dcaitlin3@google.com',\n",
       "  'Female',\n",
       "  '137.157.89.124',\n",
       "  '81')]"
      ]
     },
     "execution_count": 18,
     "metadata": {},
     "output_type": "execute_result"
    }
   ],
   "source": [
    "# Classical loop\n",
    "newlist = []\n",
    "for line in mlines:\n",
    "    newline = tuple(line.strip().split(','))\n",
    "    newlist.append(newline)\n",
    "newlist[:5]"
   ]
  },
  {
   "cell_type": "code",
   "execution_count": 19,
   "metadata": {},
   "outputs": [
    {
     "data": {
      "text/plain": [
       "[('id', 'first_name', 'last_name', 'email', 'gender', 'ip_address', 'age'),\n",
       " ('1',\n",
       "  'Orelie',\n",
       "  'Oxbe',\n",
       "  'ooxbe0@chicagotribune.com',\n",
       "  'Female',\n",
       "  '104.158.76.212',\n",
       "  '71'),\n",
       " ('2',\n",
       "  'Elke',\n",
       "  'Vasyutin',\n",
       "  'evasyutin1@mail.ru',\n",
       "  'Female',\n",
       "  '75.248.31.227',\n",
       "  '70')]"
      ]
     },
     "execution_count": 19,
     "metadata": {},
     "output_type": "execute_result"
    }
   ],
   "source": [
    "# we can\n",
    "nlist = [tuple(line.strip().split(',')) for line in mlines]\n",
    "nlist[:3]"
   ]
  },
  {
   "cell_type": "code",
   "execution_count": 20,
   "metadata": {},
   "outputs": [
    {
     "data": {
      "text/plain": [
       "('2',\n",
       " 'Elke',\n",
       " 'Vasyutin',\n",
       " 'evasyutin1@mail.ru',\n",
       " 'Female',\n",
       " '75.248.31.227',\n",
       " '70')"
      ]
     },
     "execution_count": 20,
     "metadata": {},
     "output_type": "execute_result"
    }
   ],
   "source": [
    "secondperson = nlist[2]\n",
    "secondperson"
   ]
  },
  {
   "cell_type": "code",
   "execution_count": 21,
   "metadata": {},
   "outputs": [
    {
     "data": {
      "text/plain": [
       "'evasyutin1@mail.ru'"
      ]
     },
     "execution_count": 21,
     "metadata": {},
     "output_type": "execute_result"
    }
   ],
   "source": [
    "secondperson[3]"
   ]
  },
  {
   "cell_type": "code",
   "execution_count": 22,
   "metadata": {},
   "outputs": [
    {
     "data": {
      "text/plain": [
       "True"
      ]
     },
     "execution_count": 22,
     "metadata": {},
     "output_type": "execute_result"
    }
   ],
   "source": [
    "secondperson[3].endswith('.ru')"
   ]
  },
  {
   "cell_type": "code",
   "execution_count": 23,
   "metadata": {},
   "outputs": [
    {
     "data": {
      "text/plain": [
       "True"
      ]
     },
     "execution_count": 23,
     "metadata": {},
     "output_type": "execute_result"
    }
   ],
   "source": [
    "'.ru' in secondperson[3] #not as precise since this could be anywhere in string"
   ]
  },
  {
   "cell_type": "code",
   "execution_count": 24,
   "metadata": {},
   "outputs": [
    {
     "data": {
      "text/plain": [
       "[('2',\n",
       "  'Elke',\n",
       "  'Vasyutin',\n",
       "  'evasyutin1@mail.ru',\n",
       "  'Female',\n",
       "  '75.248.31.227',\n",
       "  '70'),\n",
       " ('12',\n",
       "  'Augustin',\n",
       "  'Blasdale',\n",
       "  'ablasdaleb@google.ru',\n",
       "  'Male',\n",
       "  '180.108.170.23',\n",
       "  '14'),\n",
       " ('94',\n",
       "  'Kerianne',\n",
       "  'Tonkin',\n",
       "  'ktonkin2l@yandex.ru',\n",
       "  'Female',\n",
       "  '55.242.207.177',\n",
       "  '67'),\n",
       " ('107', 'Poppy', 'Rush', 'prush2y@ucoz.ru', 'Female', '107.83.83.211', '38'),\n",
       " ('248',\n",
       "  'Oralia',\n",
       "  'Robroe',\n",
       "  'orobroe6v@liveinternet.ru',\n",
       "  'Female',\n",
       "  '26.65.250.246',\n",
       "  '75'),\n",
       " ('336',\n",
       "  'Ebony',\n",
       "  'Parton',\n",
       "  'eparton9b@ucoz.ru',\n",
       "  'Female',\n",
       "  '214.149.5.160',\n",
       "  '14'),\n",
       " ('385',\n",
       "  'Renard',\n",
       "  'Swanston',\n",
       "  'rswanstonao@vkontakte.ru',\n",
       "  'Male',\n",
       "  '121.175.32.29',\n",
       "  '66'),\n",
       " ('403',\n",
       "  'Ardith',\n",
       "  'Crocombe',\n",
       "  'acrocombeb6@yandex.ru',\n",
       "  'Female',\n",
       "  '104.139.29.144',\n",
       "  '25'),\n",
       " ('417',\n",
       "  'Viki',\n",
       "  'Blemen',\n",
       "  'vblemenbk@vkontakte.ru',\n",
       "  'Female',\n",
       "  '209.252.244.79',\n",
       "  '62'),\n",
       " ('452',\n",
       "  'Minetta',\n",
       "  'Julien',\n",
       "  'mjuliencj@rambler.ru',\n",
       "  'Female',\n",
       "  '160.50.152.128',\n",
       "  '10'),\n",
       " ('454',\n",
       "  'Manda',\n",
       "  'Mellanby',\n",
       "  'mmellanbycl@narod.ru',\n",
       "  'Female',\n",
       "  '167.89.89.242',\n",
       "  '67'),\n",
       " ('528',\n",
       "  'Amitie',\n",
       "  'Scripps',\n",
       "  'ascrippsen@ucoz.ru',\n",
       "  'Female',\n",
       "  '150.114.245.147',\n",
       "  '94'),\n",
       " ('599', 'Amil', 'Low', 'alowgm@yandex.ru', 'Female', '2.115.72.142', '35'),\n",
       " ('630',\n",
       "  'Ugo',\n",
       "  'Tidgewell',\n",
       "  'utidgewellhh@google.ru',\n",
       "  'Male',\n",
       "  '17.190.96.41',\n",
       "  '97'),\n",
       " ('697', 'Tod', 'Llorens', 'tllorensjc@mail.ru', 'Male', '62.24.227.222', '1'),\n",
       " ('837',\n",
       "  'Sully',\n",
       "  'Mattioni',\n",
       "  'smattionin8@rambler.ru',\n",
       "  'Male',\n",
       "  '135.193.247.111',\n",
       "  '53'),\n",
       " ('858',\n",
       "  'Welbie',\n",
       "  'Mouse',\n",
       "  'wmousent@liveinternet.ru',\n",
       "  'Male',\n",
       "  '239.56.34.74',\n",
       "  '48'),\n",
       " ('883',\n",
       "  'Quentin',\n",
       "  'Tilly',\n",
       "  'qtillyoi@liveinternet.ru',\n",
       "  'Female',\n",
       "  '46.8.104.111',\n",
       "  '59'),\n",
       " ('907',\n",
       "  'Borg',\n",
       "  'Caswall',\n",
       "  'bcaswallp6@vkontakte.ru',\n",
       "  'Male',\n",
       "  '73.168.121.134',\n",
       "  '56'),\n",
       " ('921',\n",
       "  'Kira',\n",
       "  'Morillas',\n",
       "  'kmorillaspk@rambler.ru',\n",
       "  'Female',\n",
       "  '142.235.241.88',\n",
       "  '77'),\n",
       " ('935',\n",
       "  'Vina',\n",
       "  'Lidyard',\n",
       "  'vlidyardpy@odnoklassniki.ru',\n",
       "  'Female',\n",
       "  '184.101.29.187',\n",
       "  '29')]"
      ]
     },
     "execution_count": 24,
     "metadata": {},
     "output_type": "execute_result"
    }
   ],
   "source": [
    "fromrussia = [person for person in nlist if person[3].endswith('.ru')]\n",
    "fromrussia"
   ]
  },
  {
   "cell_type": "code",
   "execution_count": 25,
   "metadata": {},
   "outputs": [
    {
     "data": {
      "text/plain": [
       "21"
      ]
     },
     "execution_count": 25,
     "metadata": {},
     "output_type": "execute_result"
    }
   ],
   "source": [
    "len(fromrussia)"
   ]
  },
  {
   "cell_type": "code",
   "execution_count": 27,
   "metadata": {},
   "outputs": [
    {
     "data": {
      "text/plain": [
       "14"
      ]
     },
     "execution_count": 27,
     "metadata": {},
     "output_type": "execute_result"
    }
   ],
   "source": [
    "# how to filter only female users from russia (we already have fromrussia list)\n",
    "femrussia = [person for person in fromrussia if \"Female\" in person[4]] \n",
    "len(femrussia)"
   ]
  },
  {
   "cell_type": "code",
   "execution_count": 28,
   "metadata": {},
   "outputs": [
    {
     "data": {
      "text/plain": [
       "14"
      ]
     },
     "execution_count": 28,
     "metadata": {},
     "output_type": "execute_result"
    }
   ],
   "source": [
    "# how to filter only female users from russia (we already have fromrussia list)\n",
    "frussia = [person for person in fromrussia if person[4] == \"Female\"] # more string check\n",
    "len(frussia)"
   ]
  },
  {
   "cell_type": "code",
   "execution_count": 29,
   "metadata": {},
   "outputs": [
    {
     "data": {
      "text/plain": [
       "('2',\n",
       " 'Elke',\n",
       " 'Vasyutin',\n",
       " 'evasyutin1@mail.ru',\n",
       " 'Female',\n",
       " '75.248.31.227',\n",
       " '70')"
      ]
     },
     "execution_count": 29,
     "metadata": {},
     "output_type": "execute_result"
    }
   ],
   "source": [
    "ffem = frussia[0]\n",
    "ffem"
   ]
  },
  {
   "cell_type": "code",
   "execution_count": 30,
   "metadata": {},
   "outputs": [
    {
     "data": {
      "text/plain": [
       "'70'"
      ]
     },
     "execution_count": 30,
     "metadata": {},
     "output_type": "execute_result"
    }
   ],
   "source": [
    "ffem[-1]"
   ]
  },
  {
   "cell_type": "code",
   "execution_count": 31,
   "metadata": {},
   "outputs": [
    {
     "data": {
      "text/plain": [
       "70"
      ]
     },
     "execution_count": 31,
     "metadata": {},
     "output_type": "execute_result"
    }
   ],
   "source": [
    "int(ffem[-1])"
   ]
  },
  {
   "cell_type": "code",
   "execution_count": 32,
   "metadata": {},
   "outputs": [
    {
     "data": {
      "text/plain": [
       "[70, 67, 38, 75, 14, 25, 62, 10, 67, 94, 35, 59, 77, 29]"
      ]
     },
     "execution_count": 32,
     "metadata": {},
     "output_type": "execute_result"
    }
   ],
   "source": [
    "ages = [int(f[-1]) for f in frussia]\n",
    "ages"
   ]
  },
  {
   "cell_type": "code",
   "execution_count": 33,
   "metadata": {},
   "outputs": [
    {
     "data": {
      "text/plain": [
       "51.57142857142857"
      ]
     },
     "execution_count": 33,
     "metadata": {},
     "output_type": "execute_result"
    }
   ],
   "source": [
    "sum(ages)/len(ages)"
   ]
  },
  {
   "cell_type": "code",
   "execution_count": 34,
   "metadata": {},
   "outputs": [
    {
     "data": {
      "text/plain": [
       "94"
      ]
     },
     "execution_count": 34,
     "metadata": {},
     "output_type": "execute_result"
    }
   ],
   "source": [
    "max(ages)"
   ]
  },
  {
   "cell_type": "code",
   "execution_count": 35,
   "metadata": {},
   "outputs": [
    {
     "data": {
      "text/plain": [
       "10"
      ]
     },
     "execution_count": 35,
     "metadata": {},
     "output_type": "execute_result"
    }
   ],
   "source": [
    "min(ages)"
   ]
  },
  {
   "cell_type": "code",
   "execution_count": 42,
   "metadata": {},
   "outputs": [
    {
     "data": {
      "text/plain": [
       "['2, Elke, Vasyutin, evasyutin1@mail.ru, Female, 75.248.31.227, 70\\n',\n",
       " '94, Kerianne, Tonkin, ktonkin2l@yandex.ru, Female, 55.242.207.177, 67\\n',\n",
       " '107, Poppy, Rush, prush2y@ucoz.ru, Female, 107.83.83.211, 38\\n']"
      ]
     },
     "execution_count": 42,
     "metadata": {},
     "output_type": "execute_result"
    }
   ],
   "source": [
    "fstrings = [\", \".join(line)+\"\\n\" for line in frussia]\n",
    "fstrings[:3]"
   ]
  },
  {
   "cell_type": "code",
   "execution_count": 43,
   "metadata": {},
   "outputs": [],
   "source": [
    "with open('../data/results.csv', mode='w') as fstream:\n",
    "    fstream.writelines(fstrings)"
   ]
  }
 ],
 "metadata": {
  "kernelspec": {
   "display_name": "Python 3",
   "language": "python",
   "name": "python3"
  },
  "language_info": {
   "codemirror_mode": {
    "name": "ipython",
    "version": 3
   },
   "file_extension": ".py",
   "mimetype": "text/x-python",
   "name": "python",
   "nbconvert_exporter": "python",
   "pygments_lexer": "ipython3",
   "version": "3.7.3"
  }
 },
 "nbformat": 4,
 "nbformat_minor": 2
}
