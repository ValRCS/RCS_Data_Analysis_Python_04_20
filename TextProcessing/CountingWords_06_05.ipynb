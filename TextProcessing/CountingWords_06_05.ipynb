{
 "cells": [
  {
   "cell_type": "code",
   "execution_count": null,
   "metadata": {},
   "outputs": [],
   "source": [
    "# Assignment: Count Most Frequenly used words in Veidenbaums.txt"
   ]
  },
  {
   "cell_type": "code",
   "execution_count": null,
   "metadata": {},
   "outputs": [],
   "source": [
    "# Open File\n",
    "# Read Text\n",
    "# Split Text into word tokens\n",
    "# Count these tokens (we need to figure out how to)\n",
    "# Save/Print Results"
   ]
  },
  {
   "cell_type": "code",
   "execution_count": null,
   "metadata": {},
   "outputs": [],
   "source": [
    "# File is under /data/Veidenbaums.txt\n",
    "# we are under /TextProcessing/CountingWords.ipynb"
   ]
  },
  {
   "cell_type": "code",
   "execution_count": null,
   "metadata": {},
   "outputs": [],
   "source": [
    "# This means one level up and then again down into data\n",
    "# \"../data/Veidenbaums.txt\"\n",
    "# So called relative path\n"
   ]
  },
  {
   "cell_type": "code",
   "execution_count": null,
   "metadata": {},
   "outputs": [],
   "source": [
    "filePath = \"../data/Veidenbaums.txt\"\n",
    "with open(filePath, encoding=\"utf-8\") as fstream:\n",
    "    mytext = fstream.read()\n",
    "len(mytext)"
   ]
  },
  {
   "cell_type": "code",
   "execution_count": null,
   "metadata": {},
   "outputs": [],
   "source": [
    "mytext[:120]"
   ]
  },
  {
   "cell_type": "code",
   "execution_count": null,
   "metadata": {},
   "outputs": [],
   "source": [
    "# we could try splitting already but we will get dirty data(words)\n",
    "mywords = mytext.split(\" \")\n",
    "len(mywords)"
   ]
  },
  {
   "cell_type": "code",
   "execution_count": null,
   "metadata": {},
   "outputs": [],
   "source": [
    "mywords[:5]"
   ]
  },
  {
   "cell_type": "code",
   "execution_count": null,
   "metadata": {},
   "outputs": [],
   "source": [
    "# we will need to clean all lines which contain *** as ending characters\n",
    "# so lets try reading lines\n",
    "filePath = \"../data/Veidenbaums.txt\"\n",
    "with open(filePath, encoding=\"utf-8\") as fstream:\n",
    "    mylines = fstream.readlines()\n",
    "len(mylines)"
   ]
  },
  {
   "cell_type": "code",
   "execution_count": null,
   "metadata": {},
   "outputs": [],
   "source": [
    "mylines[:15]"
   ]
  },
  {
   "cell_type": "code",
   "execution_count": null,
   "metadata": {},
   "outputs": [],
   "source": [
    "cleanlines = [line for line in mylines if line[0]!='\\n']\n",
    "len(cleanlines)"
   ]
  },
  {
   "cell_type": "code",
   "execution_count": null,
   "metadata": {},
   "outputs": [],
   "source": [
    "cleanlines[:5]"
   ]
  },
  {
   "cell_type": "code",
   "execution_count": null,
   "metadata": {},
   "outputs": [],
   "source": [
    "# we do not want the lines which end with ***\\n\n",
    "headlines = [line for line in cleanlines if line.endswith(\"***\\n\")]\n",
    "headlines[:5]\n",
    "# we do not need the headlines!"
   ]
  },
  {
   "cell_type": "code",
   "execution_count": null,
   "metadata": {},
   "outputs": [],
   "source": [
    "# we do not want the lines which end with ***\\n\n",
    "noheadlines = [line for line in cleanlines if not line.endswith(\"***\\n\")]\n",
    "noheadlines[:5]"
   ]
  },
  {
   "cell_type": "code",
   "execution_count": null,
   "metadata": {},
   "outputs": [],
   "source": [
    "# we could save the results \n",
    "savePath = \"../data/noHeadVeidenbaums.txt\"\n",
    "with open(savePath, mode=\"w\", encoding=\"utf-8\") as fstream:\n",
    "    fstream.writelines(noheadlines)"
   ]
  },
  {
   "cell_type": "code",
   "execution_count": 1,
   "metadata": {},
   "outputs": [
    {
     "data": {
      "text/plain": [
       "366"
      ]
     },
     "execution_count": 1,
     "metadata": {},
     "output_type": "execute_result"
    }
   ],
   "source": [
    "# May 6th lets start with noheadlines\n",
    "myPath = \"../data/noHeadVeidenbaums.txt\"\n",
    "with open(myPath, encoding=\"utf-8\") as fstream:\n",
    "    noheadlines = fstream.readlines()\n",
    "len(noheadlines)"
   ]
  },
  {
   "cell_type": "code",
   "execution_count": null,
   "metadata": {},
   "outputs": [],
   "source": [
    "#\n",
    "noheadlines"
   ]
  },
  {
   "cell_type": "code",
   "execution_count": 2,
   "metadata": {},
   "outputs": [],
   "source": [
    "spaceChars = \"\\n-\"\n",
    "stopChars = \"\"\"!?.,\"':;\"\"\"\n"
   ]
  },
  {
   "cell_type": "code",
   "execution_count": null,
   "metadata": {},
   "outputs": [],
   "source": [
    "for char in stopChars:\n",
    "    print(char)"
   ]
  },
  {
   "cell_type": "code",
   "execution_count": 3,
   "metadata": {},
   "outputs": [
    {
     "data": {
      "text/plain": [
       "'Pēc ideāliem cenšas lielie gari,\\nBet dzīvē ieņemt vietu'"
      ]
     },
     "execution_count": 3,
     "metadata": {},
     "output_type": "execute_result"
    }
   ],
   "source": [
    "# One big text from many lines\n",
    "textNoHead = \"\".join(noheadlines) # we could have used fstream.read earlier\n",
    "textNoHead[:55]"
   ]
  },
  {
   "cell_type": "code",
   "execution_count": 8,
   "metadata": {},
   "outputs": [
    {
     "name": "stdout",
     "output_type": "stream",
     "text": [
      "Replacing \n",
      " with space\n",
      "Pēc ideāliem cenšas lielie gari, Bet dzīvē ieņemt vietu pirmie Tie neiespēj\n",
      "Replacing - with space\n",
      "Pēc ideāliem cenšas lielie gari, Bet dzīvē ieņemt vietu pirmie Tie neiespēj\n"
     ]
    },
    {
     "data": {
      "text/plain": [
       "'Pēc ideāliem cenšas lielie gari, Bet dzīvē ieņemt vietu pirmie Tie neiespēj'"
      ]
     },
     "execution_count": 8,
     "metadata": {},
     "output_type": "execute_result"
    }
   ],
   "source": [
    "# take off spacy Characters replace with space (why space ? :)\n",
    "for char in spaceChars:\n",
    "    print(f\"Replacing {char} with space\")\n",
    "    textNoHead = textNoHead.replace(char, \" \")\n",
    "    print(textNoHead[:75])\n",
    "textNoHead[:75]"
   ]
  },
  {
   "cell_type": "code",
   "execution_count": null,
   "metadata": {},
   "outputs": [],
   "source": []
  },
  {
   "cell_type": "code",
   "execution_count": 9,
   "metadata": {},
   "outputs": [
    {
     "name": "stdout",
     "output_type": "stream",
     "text": [
      "Replacing ! with nothing\n",
      "Replacing ? with nothing\n",
      "Replacing . with nothing\n",
      "Replacing , with nothing\n",
      "Replacing \" with nothing\n",
      "Replacing ' with nothing\n",
      "Replacing : with nothing\n",
      "Replacing ; with nothing\n"
     ]
    },
    {
     "data": {
      "text/plain": [
       "'Pēc ideāliem cenšas lielie gari Bet dzīvē ieņemt vietu '"
      ]
     },
     "execution_count": 9,
     "metadata": {},
     "output_type": "execute_result"
    }
   ],
   "source": [
    "for char in stopChars:\n",
    "    print(f\"Replacing {char} with nothing\")\n",
    "    textNoHead = textNoHead.replace(char, \"\")\n",
    "textNoHead[:55]"
   ]
  },
  {
   "cell_type": "code",
   "execution_count": 10,
   "metadata": {},
   "outputs": [],
   "source": [
    "savePath = \"../data/noHeadVeidenbaumsOneLine.txt\"\n",
    "with open(savePath, mode=\"w\", encoding=\"utf-8\") as fstream:\n",
    "    fstream.write(textNoHead)"
   ]
  }
 ],
 "metadata": {
  "kernelspec": {
   "display_name": "Python 3",
   "language": "python",
   "name": "python3"
  },
  "language_info": {
   "codemirror_mode": {
    "name": "ipython",
    "version": 3
   },
   "file_extension": ".py",
   "mimetype": "text/x-python",
   "name": "python",
   "nbconvert_exporter": "python",
   "pygments_lexer": "ipython3",
   "version": "3.7.3"
  }
 },
 "nbformat": 4,
 "nbformat_minor": 2
}
